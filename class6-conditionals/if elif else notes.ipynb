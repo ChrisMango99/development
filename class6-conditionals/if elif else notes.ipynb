{
  "nbformat": 4,
  "nbformat_minor": 0,
  "metadata": {
    "colab": {
      "provenance": []
    },
    "kernelspec": {
      "name": "python3",
      "display_name": "Python 3"
    },
    "language_info": {
      "name": "python"
    }
  },
  "cells": [
    {
      "cell_type": "markdown",
      "source": [
        "6/24\n"
      ],
      "metadata": {
        "id": "oNdFjCdYJ4ob"
      }
    },
    {
      "cell_type": "markdown",
      "source": [
        "# If statements\n",
        "* If statements allow us to make dynamic code\n",
        "* If statements take a boolean and choose to perform the code inside based on whether the boolean is True or False\n",
        "* Think: \"If true, then code runs.\"\n",
        "* We can also use boolean expressions (and, or, >, >=, <, <=, ==, !=)"
      ],
      "metadata": {
        "id": "Rex0K9HFga24"
      }
    },
    {
      "cell_type": "code",
      "source": [
        "# Declare x and y values\n",
        "x = 20\n",
        "y = 30\n",
        "\n",
        "# if x is greater than y, print x\n",
        "if x > y:\n",
        "  print(x)\n",
        "\n",
        "# elif - else if\n",
        "# if x is not greater than y, if y is greater than x, print y\n",
        "elif y > x:\n",
        "  print(y)\n",
        "\n",
        "# if x and y aren't greater than each other, if x is the same as y, print the sum of x and y\n",
        "elif x == y:\n",
        "  print(x+y)\n",
        "\n",
        "\n",
        "# Since y is greater than x, we get y (30) as our output."
      ],
      "metadata": {
        "colab": {
          "base_uri": "https://localhost:8080/"
        },
        "id": "BKB3x5tGUXNq",
        "outputId": "d9b8350a-0082-42f7-ecd7-7385becfa7bf"
      },
      "execution_count": 1,
      "outputs": [
        {
          "output_type": "stream",
          "name": "stdout",
          "text": [
            "30\n"
          ]
        }
      ]
    },
    {
      "cell_type": "code",
      "source": [
        "'''\n",
        "Write a program that asks you what the temp is. If it is over 60 degrees, the program will give the user a print statement saying \"It's looking like a warm one today\".\n",
        "What potential errors may we be expecting and how can we deal with it?\n",
        "'''\n",
        "# Get the user input of temperature\n",
        "# Make sure to type cast the string to an int (input always is in the form of a string initially)\n",
        "user = int(input(\"What temperature is it?: \"))\n",
        "\n",
        "# If the temperature greater than 60, print out the statement\n",
        "if (user > 60):\n",
        "  print(\"It looks like a warm one today!\")\n"
      ],
      "metadata": {
        "colab": {
          "base_uri": "https://localhost:8080/"
        },
        "id": "JO0Q4EKnXxAL",
        "outputId": "33c91f68-70bc-42f5-d54c-9f19a4189fa4"
      },
      "execution_count": 8,
      "outputs": [
        {
          "name": "stdout",
          "output_type": "stream",
          "text": [
            "What temperature is it?: 50\n"
          ]
        }
      ]
    },
    {
      "cell_type": "markdown",
      "source": [
        "# Elif Statements\n",
        "* Allows us to add multiple conditionals to a single if structure\n",
        "* Adds a second if statement so if the first one is Flase, Python then checks the condition of the second one\\\n",
        "* If the if statement is True then the elif statement doesn't get evaluated\n",
        "* You can have multiple elif statements in an if structure"
      ],
      "metadata": {
        "id": "MbtiAKJMg5cl"
      }
    },
    {
      "cell_type": "code",
      "source": [
        "x = 20\n",
        "y = 30 # Try changing y to 20\n",
        "\n",
        "if x > y:\n",
        "  print(\"X is bigger\")\n",
        "elif y > x:\n",
        "  print(\"Y is bigger\")\n",
        "else: # You don't need to type elif x == y because it is redundant. That is the only other option possible.\n",
        "  print(\"They are the same\")"
      ],
      "metadata": {
        "colab": {
          "base_uri": "https://localhost:8080/"
        },
        "id": "-9DaYlGDZE9O",
        "outputId": "c32c6bf5-2f13-40a5-d2da-9e68c2048e82"
      },
      "execution_count": 11,
      "outputs": [
        {
          "output_type": "stream",
          "name": "stdout",
          "text": [
            "Y is bigger\n"
          ]
        }
      ]
    },
    {
      "cell_type": "code",
      "source": [
        "# Exercise: Add to your previous code so it prints \"This is odd\" if the user enters an odd number, and \"This is even\" if the user enters an even number.\n",
        "# Hint: Add an elif statement\n",
        "\n",
        "# Take the user input and type cast the string to and int\n",
        "user = int(input(\"Enter in a whole number: \"))\n",
        "\n",
        "# value modulo 2 is an easy check if a value is even or odd\n",
        "# 4 % 2 = 0 because there is no remainder\n",
        "# 9 % 2 = 1 because there is a remainder of 1 after dividing by 4 (4*2=8, 9-8=1)\n",
        "\n",
        "# if the modulo 2 of the user input results in 1, then it is odd\n",
        "if (user % 2 == 1):\n",
        "  print(\"This is odd\")\n",
        "# if the modulo 2 of the user input results in 0, then it is even\n",
        "elif (user % 2 == 0):\n",
        "  print(\"This is even\")\n"
      ],
      "metadata": {
        "colab": {
          "base_uri": "https://localhost:8080/"
        },
        "id": "JcP1B0AnVkKS",
        "outputId": "df01133d-5721-4834-91c0-744217286c71"
      },
      "execution_count": 5,
      "outputs": [
        {
          "output_type": "stream",
          "name": "stdout",
          "text": [
            "Enter in a whole number: 42\n",
            "This is even\n"
          ]
        }
      ]
    },
    {
      "cell_type": "markdown",
      "source": [
        "# Else Statements\n",
        "* In the simplest terms, an else statement is a catch all at the end of a set of conditionals\n",
        "* If all previous if and elif statements are Flase then code in the else runs"
      ],
      "metadata": {
        "id": "9StYR3Xwhnhf"
      }
    },
    {
      "cell_type": "code",
      "source": [
        "# This also works the same with less terms\n",
        "if (user % 2):\n",
        "  print(\"This is odd\")\n",
        "else:\n",
        "  print(\"This is even\")"
      ],
      "metadata": {
        "colab": {
          "base_uri": "https://localhost:8080/"
        },
        "id": "xvz8Z-VXWMi0",
        "outputId": "c2b08a20-1a94-4eef-9c90-d4f02717b20d"
      },
      "execution_count": 6,
      "outputs": [
        {
          "output_type": "stream",
          "name": "stdout",
          "text": [
            "This is even\n"
          ]
        }
      ]
    },
    {
      "cell_type": "code",
      "source": [
        "# Exercise:\n",
        "# Add to your previous code so if the user enters something that isn't an odd number or and even number, print 'Unknown'\n",
        "# Hint: Add an else statement\n",
        "\n",
        "user = float(input(\"Enter your whole number: \"))\n",
        "\n",
        "odd_or_even = user % 2\n",
        "# if the modulo 2 of the user input results in 1, then it is odd\n",
        "if (odd_or_even == 1):\n",
        "  print(\"This is odd\")\n",
        "# if the modulo 2 of the user input results in 0, then it is even\n",
        "elif (odd_or_even == 0):\n",
        "  print(\"This is even\")\n",
        "# This is only done if the two if statements above weren't True\n",
        "# This means the input was not an integer number\n",
        "else:\n",
        "  print(\"Unknown\")"
      ],
      "metadata": {
        "colab": {
          "base_uri": "https://localhost:8080/"
        },
        "id": "BTKZPd7paOaT",
        "outputId": "4d2c936d-f356-421b-8da3-e95dfdb4c28c"
      },
      "execution_count": 18,
      "outputs": [
        {
          "output_type": "stream",
          "name": "stdout",
          "text": [
            "Enter your whole number: 9.2\n",
            "Unknown\n"
          ]
        }
      ]
    },
    {
      "cell_type": "markdown",
      "source": [
        "# Remember to Indent\n",
        "* It is essential in Python to indent when necessary."
      ],
      "metadata": {
        "id": "TmupGeaLh9_S"
      }
    },
    {
      "cell_type": "code",
      "source": [
        "# Exercise:\n",
        "# Write some code that takes in a string from the user and print whether the string is a number, if it is a word, or something else.\n",
        "\n",
        "'''\n",
        "Examples:\n",
        "\n",
        "User input: 7\n",
        "This is a number\n",
        "\n",
        "User input: abcde\n",
        "This is a word\n",
        "\n",
        "User input: 7!ab5\n",
        "This is something else\n",
        "'''\n",
        "\n",
        "# Get the user input\n",
        "user = input(\"Enter input: \")\n",
        "\n",
        "# String functions to use:\n",
        "# .isnumeric() returns True if every character is a numeric character (this doesn't include .)\n",
        "# .isalpha() returns True if every character is an alphabetical letter\n",
        "\n",
        "# If the input is all numbers, print it's a number\n",
        "if (user.isnumeric()):\n",
        "  print(\"This is a number\")\n",
        "# If it isn't a number, check if its a word\n",
        "# If the input is all letters, print its a word\n",
        "elif (user.isalpha()):\n",
        "  print(\"This is a word\")\n",
        "# If it isn't a number or a word, it has to be something else\n",
        "# This is the one that catches all the other cases\n",
        "else:\n",
        "  print(\"This is something else\")"
      ],
      "metadata": {
        "colab": {
          "base_uri": "https://localhost:8080/"
        },
        "id": "Y209dFj5ckup",
        "outputId": "f7031b56-d81a-4062-9750-ebc85f9b6fda"
      },
      "execution_count": 23,
      "outputs": [
        {
          "output_type": "stream",
          "name": "stdout",
          "text": [
            "Enter input: 7!ab5\n",
            "This is something else\n"
          ]
        }
      ]
    },
    {
      "cell_type": "markdown",
      "source": [
        "# Chaining Conditionals\n",
        "* If you use if/elif/else, it forms a chain where all statements are mutually exclusive - only one of the blocks can be ran.\n",
        "* If you put a bunch of if statements together like if/if/if, each one is evaluated separately, and multiple of them could be ran."
      ],
      "metadata": {
        "id": "i8kqFrQWiZEh"
      }
    },
    {
      "cell_type": "code",
      "source": [
        "temp_f = 75"
      ],
      "metadata": {
        "id": "xfSI8Z0rgPmE"
      },
      "execution_count": 32,
      "outputs": []
    },
    {
      "cell_type": "code",
      "source": [
        "# This is considered the correct way for this if/elif/else statement to be setup.\n",
        "# There is a direct path that the data goes through and doesn't get checked after being correctly sorted.\n",
        "\n",
        "# if temp is greater than 70, its hot\n",
        "if temp_f > 70:\n",
        "  print(\"It's hot outside!\")\n",
        "# if it's not greater than 70, if it's greater than 40, it's moderate\n",
        "elif temp_f > 40:\n",
        "  print(\"It's moderate outside.\")\n",
        "# if it's not greater than 40 (which includes 70+), than it's cold because it is 40 or less than 40 degrees out\n",
        "else:\n",
        "  print(\"It's cold outside!\")"
      ],
      "metadata": {
        "colab": {
          "base_uri": "https://localhost:8080/"
        },
        "id": "oe3NSRrti7Gc",
        "outputId": "131d9e88-69f8-4884-fb54-b6ce5c71850b"
      },
      "execution_count": 33,
      "outputs": [
        {
          "output_type": "stream",
          "name": "stdout",
          "text": [
            "It's hot outside!\n"
          ]
        }
      ]
    },
    {
      "cell_type": "code",
      "source": [
        "# This is not optimal code\n",
        "# Once our temp_f (75) turns the first conditional true, it still needs to go through the other if statements\n",
        "# This is unneccesary and time consuming\n",
        "# It also will print multiple print statements because greater than 70 is also greater than 40\n",
        "\n",
        "if temp_f > 70:\n",
        "  print(\"It's hot outside!\")\n",
        "if temp_f > 40:\n",
        "  print(\"It's moderate outside.\")\n",
        "if temp_f <= 40:\n",
        "  print(\"It's cold outside!\")"
      ],
      "metadata": {
        "colab": {
          "base_uri": "https://localhost:8080/"
        },
        "id": "i1zWe9sYjQ3F",
        "outputId": "2fe6ffe8-4d58-48c1-f2bc-57a7d91a8f4d"
      },
      "execution_count": 34,
      "outputs": [
        {
          "output_type": "stream",
          "name": "stdout",
          "text": [
            "It's hot outside!\n",
            "It's moderate outside.\n"
          ]
        }
      ]
    },
    {
      "cell_type": "code",
      "source": [
        "# This is a step in the right direction from the last example, but still non optimal.\n",
        "# This one takes care of the multiple print statements with the and operand\n",
        "# Still, even if I have temperature of 50, it checks all three if statements even though I only need to go through the first two.\n",
        "\n",
        "if temp_f > 70:\n",
        "  print(\"It's hot outside!\")\n",
        "if temp_f > 40 and temp_f <= 70:\n",
        "  print(\"It's moderate outside.\")\n",
        "if temp_f <= 40:\n",
        "  print(\"It's cold outside!\")"
      ],
      "metadata": {
        "colab": {
          "base_uri": "https://localhost:8080/"
        },
        "id": "1WERXFjfjcnP",
        "outputId": "8f0bfcec-42f6-4b05-83b9-b618adcc12e3"
      },
      "execution_count": 36,
      "outputs": [
        {
          "output_type": "stream",
          "name": "stdout",
          "text": [
            "It's hot outside!\n"
          ]
        }
      ]
    },
    {
      "cell_type": "markdown",
      "source": [
        "# Truth Values\n",
        "* The condition for an if or elif statement can be any boolean expression.\n",
        "* It must be something that evaluates to True or False.\n",
        "* You never have to check if something == True\n",
        "  * If it's True, then the if statement is automatically entered\n",
        "* In fact, even non-booleans in Python have truth values\n",
        "  * Anything that isn't empty, 0, None, or False is considered True"
      ],
      "metadata": {
        "id": "q35WHGvTnGhS"
      }
    },
    {
      "cell_type": "markdown",
      "source": [
        "# Boolean Operator Review\n",
        "* You can use a lot of different boolean operators in conditionals.\n",
        "* Here is the list:\n",
        "  * '<' Less Than\n",
        "  * '<=' Less Than or Equal To\n",
        "  * '>' Greater Than\n",
        "  * '>=' Greater Than or Equal To\n",
        "  * '==' Equals (value equality)\n",
        "  * '!=' Not Equals\n",
        "  * 'and' Both True\n",
        "  * 'or' One True\n",
        "  * 'not' Opposite\n",
        "  * 'is' Are they the same object\n",
        "  * 'in' Inside of"
      ],
      "metadata": {
        "id": "3qh5XxtJn8gb"
      }
    },
    {
      "cell_type": "markdown",
      "source": [
        "# Logical Operators\n",
        "* and, or, and not are a subject of boolean operators called logical operators\n",
        "  * 'and' takes two things and returns True if they are both True\n",
        "  * 'or' takes two things and returns True if either one of them is True, or both of them are True (\"Inclusive Or\")\n",
        "  * 'not' takes one thing and returns True if that thing is False, or vice versa - it returns the opposite\n",
        "    * not a == b is the same thing as saying a != b\n",
        "* Order of operations: not > and > or\n",
        "  * You can think of and as multiplication and or as addition"
      ],
      "metadata": {
        "id": "Lz8HKjYso0pW"
      }
    },
    {
      "cell_type": "code",
      "source": [
        "print(True or False and False) # 1 + 0 * 0 = 1 True\n",
        "print((True or False) and False) # (1 + 0) * 0 = 0 False\n",
        "print(not False or True) # ! 0 + 1 = 1 + 1 = 1 True\n",
        "print(not (False or True)) # ! (0 + 1) = ! 1 = 0 False"
      ],
      "metadata": {
        "colab": {
          "base_uri": "https://localhost:8080/"
        },
        "id": "E0xWc3aqn6k7",
        "outputId": "862278b2-51cf-4fa1-8396-b5ffb2ed09d1"
      },
      "execution_count": 38,
      "outputs": [
        {
          "output_type": "stream",
          "name": "stdout",
          "text": [
            "True\n",
            "False\n",
            "True\n",
            "False\n"
          ]
        }
      ]
    },
    {
      "cell_type": "markdown",
      "source": [
        "# Nested Conditionals\n",
        "* You can nest conditionals within other conditionals.\n",
        "  * Make sure the indentation always lines up.\n",
        "* Nesting conditionals allow for more complex code.\n",
        "* You can nest an if/elif/else inside any section of an if/elif/else statement"
      ],
      "metadata": {
        "id": "AK047tkYq00e"
      }
    },
    {
      "cell_type": "code",
      "source": [
        "num = 5\n",
        "\n",
        "if num % 2 == 1:\n",
        "  if num < 10:\n",
        "    if num > 0:\n",
        "      print(\"This is a single digit positive odd number\")\n",
        "\n",
        "# Same thing just one line with and operators\n",
        "if num % 2 and num < 10 and num > 0:\n",
        "  print(\"This is a single digit positive odd number\")"
      ],
      "metadata": {
        "colab": {
          "base_uri": "https://localhost:8080/"
        },
        "id": "ha75B5wGrHzm",
        "outputId": "c82e72ce-d27b-47d3-f44b-7b34916d3b6f"
      },
      "execution_count": 42,
      "outputs": [
        {
          "output_type": "stream",
          "name": "stdout",
          "text": [
            "This is a single digit positive odd number\n",
            "This is a single digit positive odd number\n"
          ]
        }
      ]
    },
    {
      "cell_type": "code",
      "execution_count": null,
      "metadata": {
        "id": "hIkJSKt5JxWj"
      },
      "outputs": [],
      "source": [
        "'''\n",
        "Exercise: You are working on a project to develop a login system for a website.\n",
        "The website requires the user to enter a username and password to login.\n",
        "Write a program in Python to check whether the user entered the correct username and password.\n",
        "\n",
        "* Create two variables called username and password and set them to any valid string values\n",
        "* Prompt the user to enter their username and password using the input() function\n",
        "* Use conditionals and logical operators to check whether the username and password entered by the user match the username and password variables\n",
        "* If they match print \"Login Successful\". If they don't print \"Incorrect username or password\"\n",
        "'''"
      ]
    },
    {
      "cell_type": "code",
      "source": [
        "# Create two variables\n",
        "username = \"patlacey99\"\n",
        "password = \"password\"\n",
        "\n",
        "# Prompt the user for their username and password\n",
        "user_name = input(\"Enter the username: \")\n",
        "user_pass = input(\"Enter the password: \")\n",
        "\n",
        "# Create if/elif/else block\n",
        "# Using and accounts for only when both the username and password match\n",
        "if (user_name == username and user_pass == password):\n",
        "  print(\"Login Successful!\")\n",
        "# If either of them don't match, or both of them don't match, it is the incorrect login.\n",
        "# Else captures all the other options\n",
        "else:\n",
        "  print(\"Incorrect username or password.\")\n"
      ],
      "metadata": {
        "colab": {
          "base_uri": "https://localhost:8080/"
        },
        "id": "Bl7j1vwlsmwF",
        "outputId": "f78a98d5-170d-4711-936b-23689e8dd319"
      },
      "execution_count": 47,
      "outputs": [
        {
          "output_type": "stream",
          "name": "stdout",
          "text": [
            "Enter the username: patlacey99\n",
            "Enter the password: password\n",
            "Login Successful!\n"
          ]
        }
      ]
    }
  ]
}