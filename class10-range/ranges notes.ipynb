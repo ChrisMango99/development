{
  "nbformat": 4,
  "nbformat_minor": 0,
  "metadata": {
    "colab": {
      "provenance": []
    },
    "kernelspec": {
      "name": "python3",
      "display_name": "Python 3"
    },
    "language_info": {
      "name": "python"
    }
  },
  "cells": [
    {
      "cell_type": "markdown",
      "source": [
        "## Ranges\n",
        "* A group of numbers (must be ints - whole numbers)\n",
        "* An iterator like a string or a list\n",
        "* Different than a list of numbers\n",
        "  * Doesn't store all numbers, instead calculates it to determine the number\n",
        "  * More memory efficient\n",
        "\n",
        "* the 'stop' argument makes the range end BEFORE that value (n-1)"
      ],
      "metadata": {
        "id": "4lRS54nFUwJI"
      }
    },
    {
      "cell_type": "code",
      "execution_count": 5,
      "metadata": {
        "id": "La9j732-R1lU"
      },
      "outputs": [],
      "source": [
        "# With only one value as an argument, the number creates a range from 0 to that number\n",
        "# [0,1,2,3,....,23,24]\n",
        "x = range(25)\n",
        "# With two values as arguments, the first is start and the second is stop\n",
        "# [13, 14, 15, ...., 23, 24]\n",
        "x = range(13, 25)\n",
        "# With three values as arguments, the first is start, the second is stop, and the third is the step\n",
        "# [13, 16, 19, 22]\n",
        "x = range(13, 25, 3)"
      ]
    },
    {
      "cell_type": "markdown",
      "source": [
        "## Ranges in Loops\n",
        "* Ranges are commonly paired w/ for loops\n",
        "* They allow us to use a sequence of numbers rather than iterating over something"
      ],
      "metadata": {
        "id": "wWxdFzDVYCH9"
      }
    },
    {
      "cell_type": "code",
      "source": [
        "# Using the range function, lets count to 20\n",
        "# Adding end=\" \" as an argument makes the numbers spaced out instead of a number every line\n",
        "for x in range(21):\n",
        "  print(x, end=' ')"
      ],
      "metadata": {
        "colab": {
          "base_uri": "https://localhost:8080/"
        },
        "id": "oxrJMq6yXJhJ",
        "outputId": "9580b567-2a18-4d92-daf5-1b8125d9bf96"
      },
      "execution_count": 45,
      "outputs": [
        {
          "output_type": "stream",
          "name": "stdout",
          "text": [
            "0 1 2 3 4 5 6 7 8 9 10 11 12 13 14 15 16 17 18 19 20 "
          ]
        }
      ]
    },
    {
      "cell_type": "code",
      "source": [
        "for i in range(16, 2, -3):\n",
        "  print(i, end=' ')"
      ],
      "metadata": {
        "colab": {
          "base_uri": "https://localhost:8080/"
        },
        "id": "zQjqSlDFXx71",
        "outputId": "96feaa82-f531-439f-b228-477f8cb1ecb1"
      },
      "execution_count": 7,
      "outputs": [
        {
          "output_type": "stream",
          "name": "stdout",
          "text": [
            "16 13 10 7 4 "
          ]
        }
      ]
    },
    {
      "cell_type": "code",
      "source": [
        "for i in range(4):\n",
        "  print(i, i+1, sep=', ')"
      ],
      "metadata": {
        "colab": {
          "base_uri": "https://localhost:8080/"
        },
        "id": "Nyxubk5vYpOG",
        "outputId": "b2ff3b23-772e-4bcc-f0c6-342c10580789"
      },
      "execution_count": 8,
      "outputs": [
        {
          "output_type": "stream",
          "name": "stdout",
          "text": [
            "0, 1\n",
            "1, 2\n",
            "2, 3\n",
            "3, 4\n"
          ]
        }
      ]
    },
    {
      "cell_type": "code",
      "source": [
        "for i in range(3,2):\n",
        "  print(i)\n",
        "\n",
        "# Since we are stopping BEFORE 2 and starting at 3 with a step initialized at 1, there is no output"
      ],
      "metadata": {
        "id": "3p7gTmBTYwM-"
      },
      "execution_count": 10,
      "outputs": []
    },
    {
      "cell_type": "code",
      "source": [
        "'''\n",
        "Write a range that is every five years from 1960 to 2000.\n",
        "'''\n",
        "\n",
        "for i in range(1960, 2001, 5):\n",
        "  print(i, end=', ')"
      ],
      "metadata": {
        "colab": {
          "base_uri": "https://localhost:8080/"
        },
        "id": "IiuGitSNZBGN",
        "outputId": "04074ab1-d813-4d88-a5d6-5a5fa6e7f8e8"
      },
      "execution_count": 15,
      "outputs": [
        {
          "output_type": "stream",
          "name": "stdout",
          "text": [
            "1960, 1965, 1970, 1975, 1980, 1985, 1990, 1995, 2000, "
          ]
        }
      ]
    },
    {
      "cell_type": "code",
      "source": [
        "# Write a range that counts down from 30 to 0\n",
        "\n",
        "for i in range(30, -1, -1):\n",
        "  print(i, end=', ')"
      ],
      "metadata": {
        "colab": {
          "base_uri": "https://localhost:8080/"
        },
        "id": "eVr2DAU_ZNx0",
        "outputId": "bab033e4-49cc-4efd-f322-9ba42493b181"
      },
      "execution_count": 16,
      "outputs": [
        {
          "output_type": "stream",
          "name": "stdout",
          "text": [
            "30, 29, 28, 27, 26, 25, 24, 23, 22, 21, 20, 19, 18, 17, 16, 15, 14, 13, 12, 11, 10, 9, 8, 7, 6, 5, 4, 3, 2, 1, 0, "
          ]
        }
      ]
    },
    {
      "cell_type": "code",
      "source": [
        "'''\n",
        "Exercise\n",
        "Rewrite the for loop we made last class that goes through a list and prints each item in the list, along with its index. (Hint: you can use a range, and you won't need a separate counter variable.)\n",
        "\n",
        "Example:\n",
        "planets = [\"mercury\", \"venus\", \"earth\", \"mars\"]\n",
        "0: mercury, 1: venus, 2: earth, 3: mars\n",
        "'''\n",
        "\n",
        "planets = [\"mercury\", \"venus\", \"earth\", \"mars\"]\n",
        "output = ''\n",
        "\n",
        "# Since the length of a list is technically n+1, having it as the stop value as is works (no need to - 1)\n",
        "for i in range(0, len(planets)):\n",
        "  print(f\"{i}: {planets[i]}\")\n"
      ],
      "metadata": {
        "colab": {
          "base_uri": "https://localhost:8080/"
        },
        "id": "wJ2yFncJZc3i",
        "outputId": "709a3111-c91c-4e88-96d6-e0052988f1fc"
      },
      "execution_count": 18,
      "outputs": [
        {
          "output_type": "stream",
          "name": "stdout",
          "text": [
            "0: mercury\n",
            "1: venus\n",
            "2: earth\n",
            "3: mars\n"
          ]
        }
      ]
    },
    {
      "cell_type": "code",
      "source": [
        "''' Exercise\n",
        "You have a list of employees, and a list of job titles. Assume the lists are the same length and in the same order.\n",
        "Use one for loop to go through both lists and print the job title of each employee.\n",
        "For example, if these are your lists:\n",
        "employees = ['Bob', 'Cynthia', 'Abdul']\n",
        "job_titles = ['accountant', 'engineer', 'recruiter']\n",
        "This should be your output:\n",
        "Bob's job title is accountant.\n",
        "Cynthia's job title is engineer.\n",
        "Abdul's job title is recruiter.\n",
        "\n",
        "'''\n",
        "\n",
        "employees = ['Bob', 'Cynthia', 'Abdul']\n",
        "job_titles = ['accountant', 'engineer', 'recruiter']\n",
        "\n",
        "length = len(employees)\n",
        "\n",
        "for i in range(length):\n",
        "  print(f\"{employees[i]}'s job title is {job_titles[i]}\")\n"
      ],
      "metadata": {
        "colab": {
          "base_uri": "https://localhost:8080/"
        },
        "id": "MJkzCpzTadiZ",
        "outputId": "c46ac566-c7aa-4f60-bf60-7f51482b7159"
      },
      "execution_count": 19,
      "outputs": [
        {
          "output_type": "stream",
          "name": "stdout",
          "text": [
            "Bob's job title is accountant\n",
            "Cynthia's job title is engineer\n",
            "Abdul's job title is recruiter\n"
          ]
        }
      ]
    },
    {
      "cell_type": "code",
      "source": [
        "'''\n",
        "Write some code that creates a range based on what the user enters.\n",
        "Challenge: you can make a range with 1, 2, or 3 numbers. How would you allow the user to pick any of these options?\n",
        "'''\n",
        "# Here is the while True loop to force a valid input for how many arguments\n",
        "while True:\n",
        "  args_num = int(input(\"Enter how many arguments you want to enter (1,2,3): \"))\n",
        "\n",
        "  if (args_num > 3 or args_num <= 0):\n",
        "    print(\"Error. Invalid input. Try again\")\n",
        "    continue\n",
        "  else:\n",
        "    break\n",
        "\n",
        "# Initialize the list that will hold the arguments\n",
        "args = []\n",
        "# Create a list with the names of each argument for user's knowledge\n",
        "args_names = ['stop', 'start', 'step']\n",
        "# Iterates through the number of arguments the user wants to input\n",
        "for i in range(args_num):\n",
        "  # Append the user input to the empty 'args' list\n",
        "  args.append(int(input(f\"Enter argument {args_names[i]}: \")))\n",
        "\n",
        "# Then lets case by case create the range object\n",
        "# args_num == 1 - only stop\n",
        "if (args_num == 1):\n",
        "  rng = range(args[0])\n",
        "# args_num == 2 - start, stop\n",
        "elif (args_num == 2):\n",
        "  rng = range(args[1], args[0])\n",
        "# args_num == 3 - start, stop, step\n",
        "elif (args_num == 3):\n",
        "  rng = range(args[1], args[0], args[2])\n",
        "\n",
        "# Finally, lets print out the range for testing\n",
        "for i in rng:\n",
        "  print(i, end= ' ')"
      ],
      "metadata": {
        "colab": {
          "base_uri": "https://localhost:8080/"
        },
        "id": "3SEW-15RbA3u",
        "outputId": "511f8b88-3254-489e-aea8-c0f4a6cea525"
      },
      "execution_count": 44,
      "outputs": [
        {
          "output_type": "stream",
          "name": "stdout",
          "text": [
            "Enter how many arguments you want to enter (1,2,3): -1\n",
            "Error. Invalid input. Try again\n",
            "Enter how many arguments you want to enter (1,2,3): 0\n",
            "Error. Invalid input. Try again\n",
            "Enter how many arguments you want to enter (1,2,3): 4\n",
            "Error. Invalid input. Try again\n",
            "Enter how many arguments you want to enter (1,2,3): 1\n",
            "Enter argument stop: 50\n",
            "0 1 2 3 4 5 6 7 8 9 10 11 12 13 14 15 16 17 18 19 20 21 22 23 24 25 26 27 28 29 30 31 32 33 34 35 36 37 38 39 40 41 42 43 44 45 46 47 48 49 "
          ]
        }
      ]
    }
  ]
}