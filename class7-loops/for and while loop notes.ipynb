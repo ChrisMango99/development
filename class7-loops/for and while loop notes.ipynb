{
  "nbformat": 4,
  "nbformat_minor": 0,
  "metadata": {
    "colab": {
      "provenance": []
    },
    "kernelspec": {
      "name": "python3",
      "display_name": "Python 3"
    },
    "language_info": {
      "name": "python"
    }
  },
  "cells": [
    {
      "cell_type": "markdown",
      "source": [
        "# Loops\n",
        "* Loops are a way to repeat code multiple times\n",
        "  * Allows more flexibility in code\n",
        "* There art 2 types of loops: For and While\n",
        "* Indentation is very important - just like conditionals\n",
        "  * Everything in a loop MUST be indented\n",
        "  "
      ],
      "metadata": {
        "id": "44zzkeDEhff7"
      }
    },
    {
      "cell_type": "markdown",
      "source": [
        "# While Loops\n",
        "* While loops run as long as the given condition returns a True boolean\n",
        "* Think of it as a repeating statement\n",
        "* Be careful of creating infinite loops"
      ],
      "metadata": {
        "id": "7E_RGsHqjQWN"
      }
    },
    {
      "cell_type": "code",
      "source": [
        "'''\n",
        "Example:\n",
        "\n",
        "Create a while loop that prints every integer from 1 to 10.\n",
        "\n",
        "'''\n",
        "\n",
        "i = 0 # initialization\n",
        "\n",
        "# while i is less than or equal to 10, the code loops\n",
        "while i <= 10:\n",
        "  # Print i\n",
        "  print(i)\n",
        "  # Add one to i - this will make i incrementally count up to 10\n",
        "  i += 1"
      ],
      "metadata": {
        "colab": {
          "base_uri": "https://localhost:8080/"
        },
        "id": "b7SzMn84mTb3",
        "outputId": "569a995b-9ab8-43c5-ce1e-9441920c932b"
      },
      "execution_count": null,
      "outputs": [
        {
          "output_type": "stream",
          "name": "stdout",
          "text": [
            "0\n",
            "1\n",
            "2\n",
            "3\n",
            "4\n",
            "5\n",
            "6\n",
            "7\n",
            "8\n",
            "9\n",
            "10\n"
          ]
        }
      ]
    },
    {
      "cell_type": "code",
      "source": [
        "# We can also assign it to a variable\n",
        "\n",
        "# Set variables\n",
        "end = 10\n",
        "counter = 0\n",
        "\n",
        "# Create loop to loop as long as counter is less than or equal to end\n",
        "while counter <= end:\n",
        "  # Print the value of counter at this moment\n",
        "  print(counter)\n",
        "  # Then add 1 to counter\n",
        "  counter += 1\n",
        "  # After counter += 1 it checks the conditional in the while loop to see if it is going to loop again\n",
        "\n",
        "print(\"We're done with the while loop\")"
      ],
      "metadata": {
        "colab": {
          "base_uri": "https://localhost:8080/"
        },
        "id": "DmmL25jan9F9",
        "outputId": "c60b74a4-d0c3-41bc-cc15-2cb94c815006"
      },
      "execution_count": 41,
      "outputs": [
        {
          "output_type": "stream",
          "name": "stdout",
          "text": [
            "0\n",
            "1\n",
            "2\n",
            "3\n",
            "4\n",
            "5\n",
            "6\n",
            "7\n",
            "8\n",
            "9\n",
            "10\n",
            "We're done with the while loop\n"
          ]
        }
      ]
    },
    {
      "cell_type": "code",
      "source": [
        "# This code takes a user inputted integer and counts from zero to that number\n",
        "\n",
        "# We get the end number from the user\n",
        "end = int(input(\"Enter end number: \"))\n",
        "# We set start at zero\n",
        "start = 0\n",
        "# This loop prints start and adds one to start everytime that start is less than the end value\n",
        "while start <= end:\n",
        "  print(start)\n",
        "  start += 1"
      ],
      "metadata": {
        "colab": {
          "base_uri": "https://localhost:8080/"
        },
        "id": "Y0pnaer1kP-i",
        "outputId": "2b40e3cb-97d4-4ac2-b058-342bc1a64c64"
      },
      "execution_count": null,
      "outputs": [
        {
          "output_type": "stream",
          "name": "stdout",
          "text": [
            "Enter end number: 23\n",
            "0\n",
            "1\n",
            "2\n",
            "3\n",
            "4\n",
            "5\n",
            "6\n",
            "7\n",
            "8\n",
            "9\n",
            "10\n",
            "11\n",
            "12\n",
            "13\n",
            "14\n",
            "15\n",
            "16\n",
            "17\n",
            "18\n",
            "19\n",
            "20\n",
            "21\n",
            "22\n",
            "23\n"
          ]
        }
      ]
    },
    {
      "cell_type": "code",
      "execution_count": null,
      "metadata": {
        "colab": {
          "base_uri": "https://localhost:8080/"
        },
        "id": "hrEuFoCKfaLN",
        "outputId": "c9c15875-c72b-41be-f388-bdc9a620676b"
      },
      "outputs": [
        {
          "output_type": "stream",
          "name": "stdout",
          "text": [
            "Enter something: Hi this is a test\n",
            "Hi this is a test\n",
            "Enter something: something\n",
            "something\n",
            "Enter something: blah blah\n",
            "blah blah\n",
            "Enter something: how do I get out of this loop\n",
            "how do I get out of this loop\n",
            "Enter something: oh right\n",
            "oh right\n",
            "Enter something: stop\n",
            "stop\n",
            "Done collecting user input.\n"
          ]
        }
      ],
      "source": [
        "# This code lets a user enter in a string until they input \"stop\".\n",
        "\n",
        "# Initialize the user input variable\n",
        "userin = \"\"\n",
        "\n",
        "# This is the loop\n",
        "# It loops as long as the user input doesn't equal 'stop'\n",
        "while userin != \"stop\":\n",
        "  # Get the input from the user\n",
        "  userin = input('Enter something: ')\n",
        "  # Print the user input\n",
        "  print(userin)\n",
        "# This print statement won't happen until we break out of the loop, because it isn't indented\n",
        "print(\"Done collecting user input.\")"
      ]
    },
    {
      "cell_type": "code",
      "source": [
        "# Infinite loop\n",
        "# A condition we will never see fulfilled, kil your terminal with 'ctrl + c'\n",
        "\n",
        "end = 10\n",
        "start = 0\n",
        "\n",
        "# Since start is initialized at zero and we subtract 1 everytime, start will never be greater than 10\n",
        "while start < end:\n",
        "  print(start)\n",
        "  start -= 1\n",
        "\n",
        "# TO STOP THE INFINITE LOOP, CLICK THE STOP BUTTON (WHERE THE PLAY BUTTON THAT RAN THE CODE ONCE WAS)"
      ],
      "metadata": {
        "id": "xbkyRcoNo7Xf"
      },
      "execution_count": null,
      "outputs": []
    },
    {
      "cell_type": "code",
      "source": [
        "'''\n",
        "Improve the login system we wrote last class to allow multiple attempts. You’re developing a login system for a website. Write a Python program that checks whether the user has entered the correct username and password. Just like before:\n",
        "Create two variables called username and password.\n",
        "Prompt the user to enter their username and password.\n",
        "Use conditionals and logical operators to check whether the username and password entered by the user match the username and password variables.\n",
        "As long as the username and password are incorrect, print “Incorrect username or password”, and keep asking the user for their username and password.\n",
        "If they match, print “Login successful” and end the program.\n",
        "'''\n",
        "\n",
        "system_username, system_password = 'admin', 'password'\n",
        "username, password = '', ''\n",
        "\n",
        "# We want the username and password to equal the system username and password at the same time, so we use the and operator\n",
        "# We use != (not equal to) because we want it to loop UNTIL we get a successful login\n",
        "while system_username != username and system_password != password:\n",
        "  username = input(\"Enter a username: \")\n",
        "  password = input(\"Enter a password: \")\n",
        "  # print(f'Your given username: {username}\\nYour given password: {password}')\n",
        "# This will only execute once we are out of the loop since it isn't indented\n",
        "# If we don't login successfully, then we'll be stuck inside the loop\n",
        "print(\"Login Success!\")"
      ],
      "metadata": {
        "colab": {
          "base_uri": "https://localhost:8080/"
        },
        "id": "8WCYTGFDuCnQ",
        "outputId": "90436bd3-94ce-4581-d86d-30057c7cebe8"
      },
      "execution_count": null,
      "outputs": [
        {
          "output_type": "stream",
          "name": "stdout",
          "text": [
            "Enter a username: admin2\n",
            "Enter a password: pas3word\n",
            "Enter a username: admin\n",
            "Enter a password: password\n",
            "Login Success!\n"
          ]
        }
      ]
    },
    {
      "cell_type": "markdown",
      "source": [
        "# For Loops\n",
        "* For loops are used to iterate through something\n",
        "* For loops perform an action on a group of objects\n",
        "* For loops can be performed on iterables:\n",
        "  * Strings\n",
        "  * Lists\n",
        "  * Tuples\n",
        "  * Dictionaries\n",
        "  * Sets\n",
        "  * etc."
      ],
      "metadata": {
        "id": "rzcjoOMAjgHU"
      }
    },
    {
      "cell_type": "code",
      "source": [
        "# Strings are considered a list of characters (ex. ['H', 'e', 'l', 'l', 'o', ....])\n",
        "# This for loop iterates through each index (character) of the string and performs code on it\n",
        "# We assign the iterating index to a variable named 'letter' here\n",
        "for letter in \"Hello there!\":\n",
        "  # This prints each letter of the string \"Hello there!\"\n",
        "  print(letter)"
      ],
      "metadata": {
        "colab": {
          "base_uri": "https://localhost:8080/"
        },
        "id": "DjHDR2IxmSOM",
        "outputId": "47ed87e7-a020-4dbc-8a6e-c3242a3d6a8a"
      },
      "execution_count": null,
      "outputs": [
        {
          "output_type": "stream",
          "name": "stdout",
          "text": [
            "H\n",
            "e\n",
            "l\n",
            "l\n",
            "o\n",
            " \n",
            "t\n",
            "h\n",
            "e\n",
            "r\n",
            "e\n",
            "!\n"
          ]
        }
      ]
    },
    {
      "cell_type": "markdown",
      "source": [
        "```\n",
        "for item in collection:\n",
        "  print(item)\n",
        "```\n",
        "item - a temporary variable that doesn't already exist. This steps through every item in collection. You can name it whatever you want. It disappears (goes out of scope) once the for loop ends.\n",
        "\n",
        "collection - The name of an existing variable. This must be an iterable (a collection of items like a string, list, etc.) defined before the for loop\n",
        "\n",
        "in - A python keyword, meaning that each item is *in* the collection\n"
      ],
      "metadata": {
        "id": "zKA4tc7YtAWa"
      }
    },
    {
      "cell_type": "code",
      "source": [
        "'''\n",
        "Example: Write a for loop that loops through a string, counts all the letters, and then print how long the string is.\n",
        "'''\n",
        "\n",
        "# Get a string from the user to count the letters of\n",
        "# user = input(\"Enter a string: \")\n",
        "\n",
        "user = 'Python'\n",
        "# user = ['P', 'y', 't', 'h', 'o', 'n']\n",
        "\n",
        "# Initialize the counter variable at zero\n",
        "counter = 0\n",
        "\n",
        "# Create a for loop that will iterate through every letter of the given string\n",
        "for letter in user:\n",
        "  # At every letter, we add 1 to the counter variable. Thats it.\n",
        "  counter += 1\n",
        "  # print(letter)\n",
        "\n",
        "# Once we've counted each letter of the given string, we are out of the loop (not indented)\n",
        "# We print the counter variable for our final count!\n",
        "print(counter)"
      ],
      "metadata": {
        "colab": {
          "base_uri": "https://localhost:8080/"
        },
        "id": "bb-9jpees86m",
        "outputId": "71a79abb-5507-4dfc-d02e-246021f0c337"
      },
      "execution_count": 40,
      "outputs": [
        {
          "output_type": "stream",
          "name": "stdout",
          "text": [
            "6\n"
          ]
        }
      ]
    },
    {
      "cell_type": "code",
      "source": [
        "'''\n",
        "Exercise - Lets try to add conditionals to the mix\n",
        "\n",
        "Take a string from the user. Verify that it’s a number.\n",
        "Write a for loop that adds all the digits together. Then print the total.\n",
        "\n",
        "Example:\n",
        "'14253'\n",
        "15\n",
        "\n",
        "Hint: remember to cast to int() for each digit in the loop\n",
        "'''\n",
        "\n",
        "# We start by asking the user for their input\n",
        "user = input(\"Enter a multi-digit integer number: \")\n",
        "\n",
        "# I created a while loop to make sure that the user input only contains numerical digits\n",
        "# This loops the input prompt until the user gives a correct input\n",
        "# This will be executed only if the first input is not all numeric\n",
        "while (user.isnumeric() == False):\n",
        "  # Print that this input isn't what we want. It's always helpful to give examples of the style of input you expect.\n",
        "  print(\"Incorrect input. Please try again! Ex. 12345 or 9837294\")\n",
        "  # Get the user input again. Hopefully the user understands what to do.\n",
        "  user = input(\"Enter a multi-digit integer number: \")\n",
        "  # At this point the code loops back and checks the condition of the while statement to determine whether to keep going or loop through the code another time\n",
        "\n",
        "# When we are out of the loop, that means the user input was a correct style of input\n",
        "print(\"Correct input\")\n",
        "\n",
        "# Now that we have an input that will work for what we are trying to do, lets run code on the input\n",
        "# Lets initialize the sum value that we are going to add every digit to\n",
        "sum = 0\n",
        "\n",
        "# Lets take each character (digit) from the user input string and add them together\n",
        "for digit in user:\n",
        "  # A temporary variable just to help the visualization of summation in the print statement\n",
        "  temp = sum\n",
        "  # Remember that we are still dealing with a string at this point. For mathematical equations, the value needs to be an integer or float\n",
        "  sum += int(digit)\n",
        "  # Just to see the process of the summation of digits, lets print out the sum after adding each digit to the sum\n",
        "  print(f'{temp} + {int(digit)} = {sum}')\n",
        "  # Python knows when to end a for loop (which would be right after processing the last index of the object that you are iterating through)\n",
        "\n",
        "# This is the final output with the total sum of all the digits from the user input\n",
        "print(f'Final Sum: {sum}')"
      ],
      "metadata": {
        "colab": {
          "base_uri": "https://localhost:8080/"
        },
        "id": "6isaHoM91rwl",
        "outputId": "33535564-29d7-450d-fa2a-7fef479e0294"
      },
      "execution_count": null,
      "outputs": [
        {
          "output_type": "stream",
          "name": "stdout",
          "text": [
            "Enter a multi-digit integer number: 456\n",
            "Correct input\n",
            "0 + 4 = 4\n",
            "4 + 5 = 9\n",
            "9 + 6 = 15\n",
            "Final Sum: 15\n"
          ]
        }
      ]
    },
    {
      "cell_type": "code",
      "source": [
        "# Here we are finding all the vowels in a string character by character\n",
        "\n",
        "# Here is the string we are going to be testing the code with\n",
        "word = 'hello'\n",
        "\n",
        "# This is a list of vowels\n",
        "vowels = ['a', 'e', 'i', 'o', 'u']\n",
        "\n",
        "# For every letter in the word\n",
        "for letter in word:\n",
        "  # Checks if the letter (each character in the string) matches with any of the vowels we created in the code above\n",
        "  if letter in vowels:\n",
        "    # Print that we found a vowel\n",
        "    print(f\"Vowel: {letter}\")\n",
        "  else:\n",
        "    # If the letter is NOT a vowel, then we print the consonant letter by itself\n",
        "    print(letter)\n"
      ],
      "metadata": {
        "colab": {
          "base_uri": "https://localhost:8080/"
        },
        "id": "-s242iEe_qZY",
        "outputId": "666e9ec7-1a8d-4eef-f2e0-895e3f79c1c3"
      },
      "execution_count": null,
      "outputs": [
        {
          "output_type": "stream",
          "name": "stdout",
          "text": [
            "h\n",
            "Vowel: e\n",
            "l\n",
            "l\n",
            "Vowel: o\n"
          ]
        }
      ]
    },
    {
      "cell_type": "code",
      "source": [
        "'''\n",
        "Exercise:\n",
        "\n",
        "You’re working on a data analysis project for a company that looks at written text. You’re only interested in letters from A-Z because you’re analyzing language. However, the data you’re given has some values that shouldn’t be there.\n",
        "Write a Python program that takes a string as input from the user, removes anything from the string that isn’t a letter, and prints the new string.\n",
        "You can loop through the string in a for loop, use the .isalpha() string method, and remember that strings are immutable, so you will have to build a new string from scratch using string concatenation.\n",
        "\n",
        "test_string = 'a56b32ra87ca++d#@a*&b21r23a'\n",
        "'''\n",
        "\n",
        "# Get the string from the user\n",
        "user_input = input(\"Enter in a string: \")\n",
        "\n",
        "# Initialize the new string that is going to hold only the alphabetical characters of the user input string\n",
        "new_string = ''\n",
        "\n",
        "# For every character in the user input\n",
        "for character in user_input:\n",
        "  # We check if that character is an alphabetical letter\n",
        "  if character.isalpha():\n",
        "    # If the character is alphabetical, we add that character to the new string\n",
        "    new_string += character\n",
        "  # We don't need to add an elif or else because we don't have an action that we want to do if the character isn't alphabetical\n",
        "\n",
        "# Once we finish iterating through every character and checking if it is alphabetical, we then print our new_string that should only contain the alphabetical characters from the user input\n",
        "print(new_string)\n"
      ],
      "metadata": {
        "colab": {
          "base_uri": "https://localhost:8080/"
        },
        "id": "rI_SoTdtBeRH",
        "outputId": "16e94bea-1375-424b-9deb-a1c35c1b9a23"
      },
      "execution_count": null,
      "outputs": [
        {
          "output_type": "stream",
          "name": "stdout",
          "text": [
            "Enter in a string: a56b32ra87ca++d#@a*&b21r23a\n",
            "abracadabra\n"
          ]
        }
      ]
    }
  ]
}