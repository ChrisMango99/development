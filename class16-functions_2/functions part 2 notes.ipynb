{
  "nbformat": 4,
  "nbformat_minor": 0,
  "metadata": {
    "colab": {
      "provenance": []
    },
    "kernelspec": {
      "name": "python3",
      "display_name": "Python 3"
    },
    "language_info": {
      "name": "python"
    }
  },
  "cells": [
    {
      "cell_type": "markdown",
      "source": [
        "# FUNctions (part 2)\n",
        "\n",
        "## Making Functions More Versatile\n",
        "* Functions can have more than 0 or 1 parameter/argument\n",
        "* We can set a parameter to have a default value, so that the user can redefine if needed\n",
        "  * parameters with default values don't need to be called in the function - they will just default to that value\n",
        "* The number of arguments will always be less than or equal to the number of parameters, never greater than\n"
      ],
      "metadata": {
        "id": "fpCUgK0yhBzf"
      }
    },
    {
      "cell_type": "code",
      "execution_count": 2,
      "metadata": {
        "colab": {
          "base_uri": "https://localhost:8080/"
        },
        "id": "8FlAhLuua2AY",
        "outputId": "b0a18e08-4a28-4404-eed2-c0daca86bc13"
      },
      "outputs": [
        {
          "output_type": "stream",
          "name": "stdout",
          "text": [
            "I am from Norway\n"
          ]
        }
      ],
      "source": [
        "def my_function(country = \"Norway\"):\n",
        "  print(\"I am from \" + country)\n",
        "\n",
        "my_function()"
      ]
    },
    {
      "cell_type": "code",
      "source": [
        "my_function(\"Sweden\")"
      ],
      "metadata": {
        "colab": {
          "base_uri": "https://localhost:8080/"
        },
        "id": "slZpkc89iQ1h",
        "outputId": "d370bfd6-9903-4b0c-d6d5-28c285b5ebdc"
      },
      "execution_count": 3,
      "outputs": [
        {
          "output_type": "stream",
          "name": "stdout",
          "text": [
            "I am from Sweden\n"
          ]
        }
      ]
    },
    {
      "cell_type": "markdown",
      "source": [
        "Here we define a power function to calculate the exponent based on a number, and a exponent numerator and denominator\n",
        "\n",
        "We call the function with two arguments.\n",
        "This will fill in the first two parameters if not specified.\n",
        "\n",
        "This means 2**(2/1) = 4"
      ],
      "metadata": {
        "id": "eoWUXD8-jXX2"
      }
    },
    {
      "cell_type": "code",
      "source": [
        "def power(num, exp_num=1, exp_den=1):\n",
        "  num **= (exp_num/exp_den)\n",
        "  return num\n",
        "\n",
        "pow1 = power(2,2)\n",
        "print(pow1)"
      ],
      "metadata": {
        "colab": {
          "base_uri": "https://localhost:8080/"
        },
        "id": "lzV90xyBiXar",
        "outputId": "7107a160-5dc5-450b-f696-8f83c5f92645"
      },
      "execution_count": 4,
      "outputs": [
        {
          "output_type": "stream",
          "name": "stdout",
          "text": [
            "4.0\n"
          ]
        }
      ]
    },
    {
      "cell_type": "markdown",
      "source": [
        "Here we set each parameter to 2.\n",
        "This means 2**(2/2) = 2**1 = 2"
      ],
      "metadata": {
        "id": "wUxxnypfjMhu"
      }
    },
    {
      "cell_type": "code",
      "source": [
        "print(power(2,2,2))"
      ],
      "metadata": {
        "colab": {
          "base_uri": "https://localhost:8080/"
        },
        "id": "CZzXcT55inKh",
        "outputId": "c3d750d7-7dd3-4ffa-e42e-ee67a04b0975"
      },
      "execution_count": 5,
      "outputs": [
        {
          "output_type": "stream",
          "name": "stdout",
          "text": [
            "2.0\n"
          ]
        }
      ]
    },
    {
      "cell_type": "markdown",
      "source": [
        "Here we set num to 2 and exp_den to 2 while leaving exp_num to its default value.\n",
        "\n",
        "This means 2**(1/2)"
      ],
      "metadata": {
        "id": "3ZGsNs_Ri0-J"
      }
    },
    {
      "cell_type": "code",
      "source": [
        "print(power(2, exp_den=2))"
      ],
      "metadata": {
        "colab": {
          "base_uri": "https://localhost:8080/"
        },
        "id": "T4Bc1t-QirVk",
        "outputId": "93dfd24d-dead-45bb-8c3d-39f5257f0178"
      },
      "execution_count": 7,
      "outputs": [
        {
          "output_type": "stream",
          "name": "stdout",
          "text": [
            "1.4142135623730951\n"
          ]
        }
      ]
    },
    {
      "cell_type": "markdown",
      "source": [
        "## Returning Multiple Values\n",
        "* Sometimes it is useful to return multiple values from a function\n",
        "* Separate them by commas\n",
        "* Make sure the number of return values line up with the variables you set them to"
      ],
      "metadata": {
        "id": "cDXaMILqj3vW"
      }
    },
    {
      "cell_type": "code",
      "source": [
        "def get_vowels_and_consonants(word):\n",
        "  vowels =\"\"\n",
        "  consonants = \"\"\n",
        "  for letter in word:\n",
        "    if letter in \"aeiou\":\n",
        "      vowels += letter\n",
        "    elif letter in 'bcdfghjklmnpqrstvwxyz':\n",
        "      consonants += letter\n",
        "  return vowels, consonants\n",
        "\n",
        "v, c = get_vowels_and_consonants(\"apple\")\n",
        "print(v)\n",
        "print(c)"
      ],
      "metadata": {
        "colab": {
          "base_uri": "https://localhost:8080/"
        },
        "id": "gK_joIPFkRyx",
        "outputId": "eb5bdd79-2f37-40cc-8fc6-abd6f234e6d2"
      },
      "execution_count": 8,
      "outputs": [
        {
          "output_type": "stream",
          "name": "stdout",
          "text": [
            "ae\n",
            "ppl\n"
          ]
        }
      ]
    },
    {
      "cell_type": "code",
      "source": [
        "'''\n",
        "Exercise\n",
        "Write a Python function called get_stats that takes in a list of numbers and returns the following three values: The mean, the median, and the mode of the list.\n",
        "Call the function on a list, and print each statistic on a separate line.\n",
        "my_list = [1,2,4,5,5]\n",
        "Output:\n",
        "Mean: 3.4\n",
        "Median: 4\n",
        "Mode: 5\n",
        "'''\n",
        "import statistics as stat\n",
        "from statistics import mean, median, mode\n",
        "my_list = [1,2,4,5,5]\n",
        "\n",
        "def get_stats(num_list):\n",
        "  list_mean = stat.mean(num_list)\n",
        "  list_median = stat.median(num_list)\n",
        "  list_mode = stat.mode(num_list)\n",
        "  return list_mean, list_median, list_mode\n",
        "\n",
        "mean, median, mode = get_stats(my_list)\n",
        "print(mean)\n",
        "print(median)\n",
        "print(mode)"
      ],
      "metadata": {
        "colab": {
          "base_uri": "https://localhost:8080/"
        },
        "id": "4YasFB4AxcXr",
        "outputId": "c62c7f78-d7f1-4915-de8f-2e316ba252cb"
      },
      "execution_count": 44,
      "outputs": [
        {
          "output_type": "stream",
          "name": "stdout",
          "text": [
            "3.4\n",
            "4\n",
            "5\n"
          ]
        }
      ]
    },
    {
      "cell_type": "markdown",
      "source": [
        "## Global Variables\n",
        "* If you create a variable in a function, it's only available while the function is running\n",
        "  * isn't accessible outside a function\n",
        "* If you create a variable outside a function, that variable is a global\n",
        "  * this means it can be accessible anywhere in code\n",
        "  * if you want to access the global in your function, you have to use the global keyword"
      ],
      "metadata": {
        "id": "4dv58DEMk1ne"
      }
    },
    {
      "cell_type": "code",
      "source": [
        "x = 'challenging'\n",
        "\n",
        "def change_x():\n",
        "  x = 'fun'\n",
        "\n",
        "change_x()\n",
        "\n",
        "print(\"Programming is\", x)"
      ],
      "metadata": {
        "colab": {
          "base_uri": "https://localhost:8080/"
        },
        "id": "IFOiKVYGlacR",
        "outputId": "13167505-37f8-4f1b-f565-5b03edae6f89"
      },
      "execution_count": 9,
      "outputs": [
        {
          "output_type": "stream",
          "name": "stdout",
          "text": [
            "Programming is challenging\n"
          ]
        }
      ]
    },
    {
      "cell_type": "code",
      "source": [
        "def change_x():\n",
        "  global x\n",
        "  x = 'fun'\n",
        "\n",
        "change_x()\n",
        "\n",
        "print(\"Programming is\", x)"
      ],
      "metadata": {
        "colab": {
          "base_uri": "https://localhost:8080/"
        },
        "id": "EtMb6aj7lnVQ",
        "outputId": "91e85698-872f-4f65-ceba-eae97e163244"
      },
      "execution_count": 10,
      "outputs": [
        {
          "output_type": "stream",
          "name": "stdout",
          "text": [
            "Programming is fun\n"
          ]
        }
      ]
    },
    {
      "cell_type": "markdown",
      "source": [
        "## Docstring\n",
        "* On the first line of your function, you can write a comment called a doc string\n",
        "* The docstring explains the use of the functions\n",
        "* It should contain:\n",
        "  * A description of the function\n",
        "  * Each parameter and its purpose\n",
        "  * The return value of the function\n"
      ],
      "metadata": {
        "id": "2vBYIy1smCIs"
      }
    },
    {
      "cell_type": "code",
      "source": [
        "def area_of_rectangle(height: float, width: float) -> float:\n",
        "  ''' Returns the area of a rectangle.\n",
        "\n",
        "  - height: the hieght of the rectangle (float)\n",
        "  - width: the width of the rectangle (float)\n",
        "\n",
        "  Returned value: the area as a float.\n",
        "  '''\n",
        "  return height * width"
      ],
      "metadata": {
        "id": "72-uuzhLmlEQ"
      },
      "execution_count": 11,
      "outputs": []
    },
    {
      "cell_type": "code",
      "source": [
        "'''\n",
        "Exercise\n",
        "Write a function called center that returns either the mean or median of a list of numbers.\n",
        "This function should take two parameters: A list of numbers, and an optional parameter called use_median which should default to False.\n",
        "If use_median is False, return the mean of the list.\n",
        "If use_median is True, return the median of the list.\n",
        "Test your function by calling it with different arguments.\n",
        "'''\n",
        "import statistics as stat\n",
        "\n",
        "def center(input_list: list, use_median: bool = False) -> float:\n",
        "  '''\n",
        "  Returns the center of a list (whether that means the middle index, or the middle value)\n",
        "\n",
        "  - input_list: The list that we perform the median or mean calculations on (list)\n",
        "  - use_median: The boolean parameter that determines whether we calculate the mean or the median (bool)\n",
        "\n",
        "  Return: Float or Int\n",
        "  - The median of the input_list if use_median set to True\n",
        "  - The mean of the input_list if use_median set to False\n",
        "  '''\n",
        "  return stat.mean(input_list) if use_median == False else stat.median(input_list)\n",
        "  # if use_median == True:\n",
        "  #   return stat.median(input_list)\n",
        "  # else:\n",
        "  #   return stat.mean(input_list)"
      ],
      "metadata": {
        "id": "gw9KJMPlpRyD"
      },
      "execution_count": 45,
      "outputs": []
    },
    {
      "cell_type": "code",
      "source": [
        "list_1 = [1,2,3,4,5,6]\n",
        "list_2 = [0, 25, 50, 100, 200, 400, 1600]\n",
        "\n",
        "\n",
        "print(f\"The median of list_1: {center(list_1, use_median=True)}\")\n",
        "print(f\"The mean of list_1: {center(list_1, use_median=False)}\\n\")\n",
        "\n",
        "print(f\"The median of list_2: {center(list_2, use_median=True)}\")\n",
        "print(f\"The mean of list_2: {center(list_2, use_median=False)}\")"
      ],
      "metadata": {
        "colab": {
          "base_uri": "https://localhost:8080/"
        },
        "id": "X0VJSE5fw5aq",
        "outputId": "632ee33a-1ee3-4f5c-d49f-0f858c917198"
      },
      "execution_count": 46,
      "outputs": [
        {
          "output_type": "stream",
          "name": "stdout",
          "text": [
            "The median of list_1: 3.5\n",
            "The mean of list_1: 3.5\n",
            "\n",
            "The median of list_2: 100\n",
            "The mean of list_2: 339.2857142857143\n"
          ]
        }
      ]
    },
    {
      "cell_type": "code",
      "source": [
        "test_list1 = [1,2,2,2,3,4,5,6,7,8]\n",
        "test_list2 = [3,6,7,9,10,11,2]\n",
        "\n",
        "print(f\"The median of test_list1: {center(test_list1, use_median=True)}\")\n",
        "print(f\"The mean of test_list1: {center(test_list1, use_median=False)}\\n\")\n",
        "\n",
        "print(f\"The median of test_list2: {center(test_list2, use_median=True)}\")\n",
        "print(f\"The mean of test_list2: {center(test_list2, use_median=False)}\")"
      ],
      "metadata": {
        "colab": {
          "base_uri": "https://localhost:8080/"
        },
        "id": "iMfv48M_wsNv",
        "outputId": "18f38e6e-269d-4119-9eb0-2d004be35a4e"
      },
      "execution_count": 47,
      "outputs": [
        {
          "output_type": "stream",
          "name": "stdout",
          "text": [
            "The median of test_list1: 3.5\n",
            "The mean of test_list1: 4\n",
            "\n",
            "The median of test_list2: 7\n",
            "The mean of test_list2: 6.857142857142857\n"
          ]
        }
      ]
    },
    {
      "cell_type": "markdown",
      "source": [
        "## Lambda Functions\n",
        "* A lambda is a small anonymous function\n",
        "* It can take any number of arguments, but only can have one expression, which is returned\n",
        "* Syntax: lambda arguments : expression\n"
      ],
      "metadata": {
        "id": "3_6Atm6unXyL"
      }
    },
    {
      "cell_type": "markdown",
      "source": [
        "Lambda format"
      ],
      "metadata": {
        "id": "tuW2Io4rsvli"
      }
    },
    {
      "cell_type": "code",
      "source": [
        "add_2 = lambda a : a + 2\n",
        "print(add_2(2))"
      ],
      "metadata": {
        "colab": {
          "base_uri": "https://localhost:8080/"
        },
        "id": "aMxaE5Itnxc7",
        "outputId": "967135d7-8459-41ba-8a93-951a0dd249f1"
      },
      "execution_count": 12,
      "outputs": [
        {
          "output_type": "stream",
          "name": "stdout",
          "text": [
            "4\n"
          ]
        }
      ]
    },
    {
      "cell_type": "markdown",
      "source": [
        "Function format"
      ],
      "metadata": {
        "id": "6S3iDtV1sxJ7"
      }
    },
    {
      "cell_type": "code",
      "source": [
        "def add_2(a):\n",
        "  return a + 2\n",
        "\n",
        "print(add_2(2))"
      ],
      "metadata": {
        "colab": {
          "base_uri": "https://localhost:8080/"
        },
        "id": "-Tkn2i5fsoaI",
        "outputId": "56ee2bde-9db6-4a9d-ec22-b44c35a67437"
      },
      "execution_count": 48,
      "outputs": [
        {
          "output_type": "stream",
          "name": "stdout",
          "text": [
            "4\n"
          ]
        }
      ]
    },
    {
      "cell_type": "code",
      "source": [
        "# Function to add two numbers\n",
        "def add_2_nums_function(num1, num2):\n",
        "  return num1 + num2\n",
        "\n",
        "# Written as a Lambda\n",
        "add_2_nums_lambda = lambda num1, num2: num1 + num2\n",
        "\n",
        "print(add_2_nums_function(1,2))\n",
        "print(add_2_nums_lambda(1,2))"
      ],
      "metadata": {
        "colab": {
          "base_uri": "https://localhost:8080/"
        },
        "id": "lU06mzCAu61_",
        "outputId": "7369220e-3ba7-4585-972a-14b5911276f2"
      },
      "execution_count": 49,
      "outputs": [
        {
          "output_type": "stream",
          "name": "stdout",
          "text": [
            "3\n",
            "3\n"
          ]
        }
      ]
    },
    {
      "cell_type": "code",
      "source": [
        "# Write the following functions as Lambdas\n",
        "def greeting(fname):\n",
        "    print(f'Hello, {fname}')\n",
        "\n",
        "greeting = lambda fname: f'Hello, {fname}'\n",
        "\n",
        "greeting(\"Sally\")"
      ],
      "metadata": {
        "colab": {
          "base_uri": "https://localhost:8080/",
          "height": 36
        },
        "id": "ACHE2VChvnKz",
        "outputId": "b334f179-7995-4668-86f5-954394874d4c"
      },
      "execution_count": 31,
      "outputs": [
        {
          "output_type": "execute_result",
          "data": {
            "text/plain": [
              "'Hello, Sally'"
            ],
            "application/vnd.google.colaboratory.intrinsic+json": {
              "type": "string"
            }
          },
          "metadata": {},
          "execution_count": 31
        }
      ]
    },
    {
      "cell_type": "code",
      "source": [
        "def double_me(num):\n",
        "    return num + num\n",
        "\n",
        "double_me = lambda num : num * 2\n",
        "\n",
        "print(double_me(500))"
      ],
      "metadata": {
        "colab": {
          "base_uri": "https://localhost:8080/"
        },
        "id": "lU9SLT6uv4i8",
        "outputId": "54efb765-5517-4bd9-89a1-de2e68e82598"
      },
      "execution_count": 32,
      "outputs": [
        {
          "output_type": "stream",
          "name": "stdout",
          "text": [
            "1000\n"
          ]
        }
      ]
    },
    {
      "cell_type": "code",
      "source": [
        "'''\n",
        "Exercise\n",
        "Write a function that computes the n-th power of a number, given two arguments, num and n.\n",
        "Now, write a lambda that is equivalent to the function.\n",
        "'''\n",
        "# function\n",
        "def nth_power(num, n):\n",
        "  return num ** n\n",
        "\n",
        "# lambda\n",
        "nth_power = lambda num , n : num ** n\n",
        "\n",
        "print(nth_power(3, 2))"
      ],
      "metadata": {
        "colab": {
          "base_uri": "https://localhost:8080/"
        },
        "id": "PI4A5PrrwNRk",
        "outputId": "f68c4d54-cef9-4b4c-df8f-a5ae53eebca4"
      },
      "execution_count": 33,
      "outputs": [
        {
          "output_type": "stream",
          "name": "stdout",
          "text": [
            "9\n"
          ]
        }
      ]
    },
    {
      "cell_type": "markdown",
      "source": [
        "You can put lambdas inside functions to make a more versatile function"
      ],
      "metadata": {
        "id": "rU5NbKNUoKTs"
      }
    },
    {
      "cell_type": "code",
      "source": [
        "def multiplier(n):\n",
        "  return lambda num : num * n\n",
        "\n",
        "doubler = multiplier(2)\n",
        "tripler = multiplier(3)\n",
        "\n",
        "print(doubler(5))\n",
        "print(tripler(5))"
      ],
      "metadata": {
        "colab": {
          "base_uri": "https://localhost:8080/"
        },
        "id": "6rCejL_Fs1Fm",
        "outputId": "01d31f0f-144e-46a1-8758-e2203ae96d93"
      },
      "execution_count": 22,
      "outputs": [
        {
          "output_type": "stream",
          "name": "stdout",
          "text": [
            "10\n",
            "15\n"
          ]
        }
      ]
    },
    {
      "cell_type": "markdown",
      "source": [
        "## More on lambdas\n",
        "*  Lambda calculus\n",
        "* Python has a few functional programming topics (such as lambdas) added\n",
        "  * Some other topics include: filter, map, and reduce\n",
        "* Lambdas can be used alongside filter, map, and/or reduce\n",
        "  * Also as a key with the sorted() function\n",
        "\n"
      ],
      "metadata": {
        "id": "LesA3uOjtYBV"
      }
    },
    {
      "cell_type": "code",
      "source": [
        "L = list(map(lambda x: x.upper(), ['cat', 'dog', 'cow']))\n",
        "print(L)"
      ],
      "metadata": {
        "colab": {
          "base_uri": "https://localhost:8080/"
        },
        "id": "9lH9caIeuGp9",
        "outputId": "23ee1355-c03c-422e-be63-1fcb91009552"
      },
      "execution_count": 23,
      "outputs": [
        {
          "output_type": "stream",
          "name": "stdout",
          "text": [
            "['CAT', 'DOG', 'COW']\n"
          ]
        }
      ]
    },
    {
      "cell_type": "code",
      "source": [
        "students = [{\"name\":\"Kim\",\"grade\":98},\n",
        "            {\"name\":\"Joe\",\"grade\":65},\n",
        "            {\"name\":\"Ted\",\"grade\":93},\n",
        "            {\"name\":\"Keisha\",\"grade\":80},\n",
        "            {\"name\":\"Torrie\",\"grade\":65},\n",
        "            {\"name\":\"Simon\",\"grade\":78}]\n",
        "\n",
        "students_by_name = sorted(students, key = lambda s: s['name'])\n",
        "students_by_grade = sorted(students, key = lambda s: s['grade'])\n",
        "\n",
        "print(students_by_name)\n",
        "print(students_by_grade)"
      ],
      "metadata": {
        "colab": {
          "base_uri": "https://localhost:8080/"
        },
        "id": "TpaFeGdzuSLx",
        "outputId": "61ae9883-9549-4792-df76-a999db7d7776"
      },
      "execution_count": 26,
      "outputs": [
        {
          "output_type": "stream",
          "name": "stdout",
          "text": [
            "[{'name': 'Joe', 'grade': 65}, {'name': 'Keisha', 'grade': 80}, {'name': 'Kim', 'grade': 98}, {'name': 'Simon', 'grade': 78}, {'name': 'Ted', 'grade': 93}, {'name': 'Torrie', 'grade': 65}]\n",
            "[{'name': 'Joe', 'grade': 65}, {'name': 'Torrie', 'grade': 65}, {'name': 'Simon', 'grade': 78}, {'name': 'Keisha', 'grade': 80}, {'name': 'Ted', 'grade': 93}, {'name': 'Kim', 'grade': 98}]\n"
          ]
        }
      ]
    },
    {
      "cell_type": "code",
      "source": [
        "''' Higher Order Functions\n",
        "These are functions that may accept a function as an argument or return a function as its output. In Python, reduce(), map() and filter() are some of the most important higher-order functions. When combined with simpler functions, they can be used to execute complex operations.\n",
        "\n",
        "filter - The filter() method filters the given sequence with the help of a function that tests each element in the sequence to be true or not.\n",
        "\n",
        "map - returns a map object(which is an iterator) of the results after applying the given function to each item of a given iterable (list, tuple etc.)\n",
        "\n",
        "'''\n",
        "# Let's use filter() to find the even numbers in a list\n",
        "# filter(fun, iter)\n",
        "\n",
        "# Function\n",
        "def even_num(n):\n",
        "  return n % 2 == 0\n",
        "\n",
        "# Lambda\n",
        "even_num = lambda n : n % 2 == 0\n",
        "\n",
        "print(even_num(10))"
      ],
      "metadata": {
        "colab": {
          "base_uri": "https://localhost:8080/"
        },
        "id": "Ayc98ElDDKkP",
        "outputId": "3181daac-3ebf-42b2-9c0c-c6c5feee5e4d"
      },
      "execution_count": 50,
      "outputs": [
        {
          "output_type": "stream",
          "name": "stdout",
          "text": [
            "True\n"
          ]
        }
      ]
    },
    {
      "cell_type": "code",
      "source": [
        "my_list = [0,1,2,3,4,5,6,7,8,9,10]\n",
        "\n",
        "even_num_filter = list(filter(lambda n : n % 2 == 0, my_list))\n",
        "print(even_num_filter)"
      ],
      "metadata": {
        "colab": {
          "base_uri": "https://localhost:8080/"
        },
        "id": "1jgh-WSFDmKI",
        "outputId": "c5e0a109-9cd6-4c30-fd7a-89787970279d"
      },
      "execution_count": 52,
      "outputs": [
        {
          "output_type": "stream",
          "name": "stdout",
          "text": [
            "[0, 2, 4, 6, 8, 10]\n"
          ]
        }
      ]
    }
  ]
}