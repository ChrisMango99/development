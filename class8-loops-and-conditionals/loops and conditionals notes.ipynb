{
  "nbformat": 4,
  "nbformat_minor": 0,
  "metadata": {
    "colab": {
      "provenance": []
    },
    "kernelspec": {
      "name": "python3",
      "display_name": "Python 3"
    },
    "language_info": {
      "name": "python"
    }
  },
  "cells": [
    {
      "cell_type": "markdown",
      "source": [
        "# Python 1 Class 8 (July 1st)\n",
        "\n",
        "# Loops and Conditionals\n",
        "\n",
        "## Break\n",
        "* *Break* is a keyword that when placed in a loop will leave the loop without executing any more code when the keyword is reached\n",
        "* You can break if a condition is met in a while loop, and it will end the loop instantly, instead of waiting until the beginning of the loop again to check the condition"
      ],
      "metadata": {
        "id": "v0-MUnLxDneT"
      }
    },
    {
      "cell_type": "code",
      "source": [
        "# This example shows how a while loop will only break at the top of each loop when it checks if the conditional is True\n",
        "\n",
        "# Create an empty string for user to initialize it\n",
        "user = ''\n",
        "\n",
        "# A while loop that will loop everytime as long as user doesn't equal \"stop\"\n",
        "while user != \"stop\":\n",
        "  # Prompts the user to input a string\n",
        "  user = input(\"Enter something or 'stop' to stop: \")\n",
        "  # Prints it back to the user\n",
        "  print(user)"
      ],
      "metadata": {
        "colab": {
          "base_uri": "https://localhost:8080/"
        },
        "id": "rLybxsW6DnHV",
        "outputId": "381ebc7a-d6ed-4dd2-dcd9-da7a42e788b9"
      },
      "execution_count": 4,
      "outputs": [
        {
          "output_type": "stream",
          "name": "stdout",
          "text": [
            "Enter something or 'stop' to stop: something\n",
            "something\n",
            "Enter something or 'stop' to stop: stop\n",
            "stop\n"
          ]
        }
      ]
    },
    {
      "cell_type": "code",
      "execution_count": 3,
      "metadata": {
        "colab": {
          "base_uri": "https://localhost:8080/"
        },
        "id": "8WO7qdn4Dctw",
        "outputId": "591a7ee5-1d03-4793-d208-dc0878d15b01"
      },
      "outputs": [
        {
          "name": "stdout",
          "output_type": "stream",
          "text": [
            "Enter something or 'stop' to stop: something\n",
            "something\n",
            "Enter something or 'stop' to stop: stop\n"
          ]
        }
      ],
      "source": [
        "# Create an empty string for user to initialize it\n",
        "user = ''\n",
        "\n",
        "# A while loop that will loop everytime\n",
        "while True:\n",
        "  # Prompts the user to input a string\n",
        "  user = input(\"Enter something or 'stop' to stop: \")\n",
        "  # Check if the user input is 'stop'\n",
        "  if (user == 'stop'):\n",
        "    break # This breaks us out of the loop immediately\n",
        "\n",
        "  # Prints it back to the user\n",
        "  print(user) # Notice how when you enter stop, the code doesn't hit this print statement"
      ]
    },
    {
      "cell_type": "markdown",
      "source": [
        "## Break in Nested Loops\n",
        "* If you use break and you have a nested loop, it will only break from the inner-most loop, and then continue executing the outer loop.\n",
        "* This means you could enter the inner loop again on the next iteration of the outer loop"
      ],
      "metadata": {
        "id": "zznV71jxTxez"
      }
    },
    {
      "cell_type": "code",
      "source": [
        "user = ''\n",
        "while user != 'stop':\n",
        "  user = input(\"Enter a word or 'stop' to stop: \")\n",
        "  for l in user:\n",
        "    if l.isalpha():\n",
        "      print(l)\n",
        "    else:\n",
        "      break\n",
        "  print()"
      ],
      "metadata": {
        "colab": {
          "base_uri": "https://localhost:8080/"
        },
        "id": "ZN63Fr_uUGnS",
        "outputId": "6dd1109c-b70d-46dc-a773-7203ad88a7ae"
      },
      "execution_count": 5,
      "outputs": [
        {
          "output_type": "stream",
          "name": "stdout",
          "text": [
            "Enter a word or 'stop' to stop: Something\n",
            "S\n",
            "o\n",
            "m\n",
            "e\n",
            "t\n",
            "h\n",
            "i\n",
            "n\n",
            "g\n",
            "\n",
            "Enter a word or 'stop' to stop: Sing3\n",
            "S\n",
            "i\n",
            "n\n",
            "g\n",
            "\n",
            "Enter a word or 'stop' to stop: Blah2222BLAH\n",
            "B\n",
            "l\n",
            "a\n",
            "h\n",
            "\n",
            "Enter a word or 'stop' to stop: stop\n",
            "s\n",
            "t\n",
            "o\n",
            "p\n",
            "\n"
          ]
        }
      ]
    },
    {
      "cell_type": "markdown",
      "source": [
        "## Continue\n",
        "*  *Continue* is a keyword that when placed in a loop skips over the remaining code and brings back to the top when the keyword is reached\n",
        "* Instead of exiting the loop entirely, it just skips this iteration and goes back to the beginning of the loop for the next iteration\n",
        "* You can use continue to skip certain iterations based on a condition\n"
      ],
      "metadata": {
        "id": "kHcnKk4jU00a"
      }
    },
    {
      "cell_type": "code",
      "source": [
        "word = 'hello'\n",
        "vowels = ['a', 'e', 'i', 'o', 'u']\n",
        "for letter in word:\n",
        "  if letter in vowels:\n",
        "    break\n",
        "  print(letter)"
      ],
      "metadata": {
        "colab": {
          "base_uri": "https://localhost:8080/"
        },
        "id": "wRv7F1u7U0UK",
        "outputId": "bd385913-8ef1-4786-e18f-b17aee498d34"
      },
      "execution_count": 6,
      "outputs": [
        {
          "output_type": "stream",
          "name": "stdout",
          "text": [
            "h\n"
          ]
        }
      ]
    },
    {
      "cell_type": "code",
      "source": [
        "word = 'hello'\n",
        "vowels = ['a', 'e', 'i', 'o', 'u']\n",
        "for letter in word:\n",
        "  if letter in vowels:\n",
        "    continue # Notice how the ls get printed now because it doesn't break the loop\n",
        "  print(letter)"
      ],
      "metadata": {
        "colab": {
          "base_uri": "https://localhost:8080/"
        },
        "id": "c79rppyhVs7G",
        "outputId": "966c23cb-bee8-45f9-ba12-0794798378ac"
      },
      "execution_count": 7,
      "outputs": [
        {
          "output_type": "stream",
          "name": "stdout",
          "text": [
            "h\n",
            "l\n",
            "l\n"
          ]
        }
      ]
    },
    {
      "cell_type": "markdown",
      "source": [
        "# Pass\n",
        "* A keyword that essentially does nothing when ran, however it's useful when fleshing out parts of code\n",
        "* Helpful placeholder\n"
      ],
      "metadata": {
        "id": "l8u_3OTMWARO"
      }
    },
    {
      "cell_type": "code",
      "source": [
        "word = 'hello'\n",
        "vowels = ['a', 'e', 'i', 'o', 'u']\n",
        "for letter in word:\n",
        "  if letter in vowels:\n",
        "    pass\n",
        "  print(letter)"
      ],
      "metadata": {
        "colab": {
          "base_uri": "https://localhost:8080/"
        },
        "id": "BcWrJ_7ZWPvH",
        "outputId": "315974b4-d8c7-43bd-84d1-7f4eec17ddfc"
      },
      "execution_count": 8,
      "outputs": [
        {
          "output_type": "stream",
          "name": "stdout",
          "text": [
            "h\n",
            "e\n",
            "l\n",
            "l\n",
            "o\n"
          ]
        }
      ]
    },
    {
      "cell_type": "markdown",
      "source": [
        "# While-Else and For-Else\n",
        "* You can add an else block to a for and while loop\n",
        "* It executes once the condition of the loop is no longer true.\n",
        "* If you break from the loop, the else block doesn't execute.\n"
      ],
      "metadata": {
        "id": "dep0uqNgWgpU"
      }
    },
    {
      "cell_type": "code",
      "source": [
        "i = 3 # Try with 6\n",
        "while i > 0:\n",
        "  print(i)\n",
        "  i -= 1\n",
        "  if i == 4:\n",
        "    break # Notice when you run with i = 6, the loop will break at 4 and the 'done' won't be printed\n",
        "else:\n",
        "  print(\"done\")"
      ],
      "metadata": {
        "colab": {
          "base_uri": "https://localhost:8080/"
        },
        "id": "lnXf7X-sW0-w",
        "outputId": "07ab2e78-d69d-4934-d8c7-65708689188d"
      },
      "execution_count": 11,
      "outputs": [
        {
          "output_type": "stream",
          "name": "stdout",
          "text": [
            "3\n",
            "2\n",
            "1\n",
            "done\n"
          ]
        }
      ]
    },
    {
      "cell_type": "code",
      "source": [
        "'''\n",
        "Write some code that takes in numbers from a user one at a time.\n",
        "This should keep going until the user enters 0.\n",
        "Then print the sum of all the numbers.\n",
        "If the user inputs something that isn't a number,\n",
        "  an error message should appear and the program should stop.\n",
        "(Hint: use break)\n",
        "\n",
        "Example (no error):\n",
        "5\n",
        "12\n",
        "0\n",
        "Sum: 17\n",
        "\n",
        "Example (error):\n",
        "5\n",
        "7\n",
        "c\n",
        "Error: Not a number\n",
        "'''\n",
        "\n",
        "# Initialize Values\n",
        "user = '1' # We initialize this as a string with an integer value for the while conditional to be True off the first pass\n",
        "sum = 0 # We initialize the sum value at zero\n",
        "\n",
        "# A while loop that loops everytime the user input value (as an integer) doesn't equal 0\n",
        "while int(user) != 0:\n",
        "  # We prompt the user to enter a number (I assumed integer because we use .isnumeric() which won't allow for '.' characters)\n",
        "  user = input(\"Enter in a number (enter 0 to get the sum): \")\n",
        "  # Check if the user input isn't a number\n",
        "  if user.isnumeric() == False:\n",
        "    # If it isn't a number, then print an error and break out of the while loop\n",
        "    print(\"Error: Not a number\")\n",
        "    break\n",
        "  # If the user input is numeric\n",
        "  else:\n",
        "    # Cast the user input (which is a string currently) to an integer and add it to the sum variable\n",
        "    sum += int(user)\n",
        "# If the user (as an integer) is 0 (when the while loop condition is false),\n",
        "else:\n",
        "  # Print the final sum\n",
        "  # The 'break' call above breaks out of the while loop AS WELL as this additional else block\n",
        "  print(sum)\n"
      ],
      "metadata": {
        "colab": {
          "base_uri": "https://localhost:8080/"
        },
        "id": "BHYSDXfrZNBO",
        "outputId": "f0a2269a-110b-4ef4-af72-d87570c807e6"
      },
      "execution_count": 17,
      "outputs": [
        {
          "output_type": "stream",
          "name": "stdout",
          "text": [
            "Enter in a number (enter 0 to get the sum): 7\n",
            "Enter in a number (enter 0 to get the sum): 5\n",
            "Enter in a number (enter 0 to get the sum): c\n",
            "Error: Not a number\n"
          ]
        }
      ]
    },
    {
      "cell_type": "code",
      "source": [
        "'''\n",
        "5 Letter Word Program\n",
        "Create a program which accepts only words with 5 letters.\n",
        "If the user inputs any other word with more than or less than 5 letters,\n",
        "force them to start over again.\n",
        "If the word has 5 letters, congratulate the user on inputting a 5 letter word\n",
        "\n",
        "Lets use a while True loop\n",
        "'''\n",
        "\n",
        "while True:\n",
        "  # Input function to get user input\n",
        "  user = input(\"Enter a word: \")\n",
        "  # If the length of the user input is 5 characters long\n",
        "  if (len(user) == 5):\n",
        "    # Congratulate and break out of the loop\n",
        "    print(\"Congratulations of inputting a 5 letter word!\")\n",
        "    break\n",
        "  # If the length of the user input is not 5 characters long\n",
        "  else:\n",
        "    # Ask them to try again and continue with the loop\n",
        "    print(\"Try again\")\n",
        "    continue\n"
      ],
      "metadata": {
        "colab": {
          "base_uri": "https://localhost:8080/"
        },
        "id": "OhKrq6eMmWMX",
        "outputId": "0db450bb-01e9-45a5-b732-2973f4558d97"
      },
      "execution_count": 19,
      "outputs": [
        {
          "output_type": "stream",
          "name": "stdout",
          "text": [
            "Enter a word: hi\n",
            "Try again\n",
            "Enter a word: hello\n",
            "Congratulations of inputting a 5 letter word!\n"
          ]
        }
      ]
    },
    {
      "cell_type": "code",
      "source": [
        "#  Example: Use the continue keyword to loop through a string and only print the vowels.\n",
        "\n",
        "# Initialized the word instead of taking user input\n",
        "word = 'pizza'\n",
        "\n",
        "# Define vowel list\n",
        "vowels = ['a', 'e', 'i', 'o', 'u']\n",
        "\n",
        "# For every letter in the word variable\n",
        "for letter in word:\n",
        "  # if that letter is one of the vowels in the vowels list, print that letter\n",
        "  if letter in vowels:\n",
        "    print(letter)\n",
        "  # if it isn't a vowel, keep going through the loop (continue)\n",
        "  else:\n",
        "    continue"
      ],
      "metadata": {
        "colab": {
          "base_uri": "https://localhost:8080/"
        },
        "id": "2Mfz8F49odPx",
        "outputId": "223d37d3-46be-49d0-8897-7b3e4ad1bb82"
      },
      "execution_count": 21,
      "outputs": [
        {
          "output_type": "stream",
          "name": "stdout",
          "text": [
            "i\n",
            "a\n"
          ]
        }
      ]
    },
    {
      "cell_type": "code",
      "source": [
        "'''\n",
        "\n",
        "Exercise: Sum of even digits\n",
        "\n",
        "Take a string as user input, and verify that it's a number.\n",
        "Loop through each digit of the number, and only add it to the sum if it's even.\n",
        "Print the sum of all the even digits at the end.\n",
        "Make sure to use the continue keyword.\n",
        "\n",
        "'''\n",
        "\n",
        "# While True for an inherently forever loop\n",
        "while True:\n",
        "  # Set the sum to zero for every input\n",
        "  sum = 0\n",
        "  # Prompt the user for a number input\n",
        "  user = input(\"Enter a number: \")\n",
        "  # if the user input is 'exit', break out of the loop\n",
        "  if user == 'exit':\n",
        "    break\n",
        "  # if the user input isn't all numbers (integer), print error and start at the top of the loop again with continue\n",
        "  elif user.isnumeric() == False:\n",
        "    print(\"Error: Not a number. Try again!\")\n",
        "    continue\n",
        "  # if the user input is all numbers (integer),\n",
        "  else:\n",
        "    # look at every digit in the user's input (for every character in the user input string)\n",
        "    for digit in user:\n",
        "      # check if the the digit (casted to an int) is even. If so, add that to sum\n",
        "      if int(digit) % 2 == 0:\n",
        "        sum += int(digit)\n",
        "    # After the for loop, lets print the sum\n",
        "    print(sum)"
      ],
      "metadata": {
        "colab": {
          "base_uri": "https://localhost:8080/"
        },
        "id": "HuxsZubXqjdE",
        "outputId": "f88a6723-cd25-4233-ac1b-ddd23929864e"
      },
      "execution_count": 25,
      "outputs": [
        {
          "name": "stdout",
          "output_type": "stream",
          "text": [
            "Enter a number: ok so i didn't do this right\n",
            "Error: Not a number. Try again!\n",
            "Enter a number: 124345\n",
            "10\n",
            "Enter a number: 2212\n",
            "6\n",
            "Enter a number: ext\n",
            "Error: Not a number. Try again!\n",
            "Enter a number: exit\n"
          ]
        }
      ]
    },
    {
      "cell_type": "code",
      "source": [
        "'''\n",
        "Write some code that takes in strings from a user one at a time.\n",
        "After each string is taken in evaluate if the string is empty, a number, a set of letters, or contains symbols.\n",
        "If the string is empty, stop the loop.\n",
        "If the string is a number, convert it to a float and add it to a total.\n",
        "If the string is a set of letters, concatenate to the other letter strings passed in.\n",
        "If it contains a symbol, or is none of the above, do nothing and repeat the loop.\n",
        "Make sure to use break and/or continue.\n",
        "'''\n",
        "total_num = 0.0\n",
        "total_string = ''\n",
        "\n",
        "while True:\n",
        "  user_string = input(\"Enter a string: \")\n",
        "  if user_string == '':\n",
        "    break\n",
        "  elif user_string.isnumeric():\n",
        "    user_float = float(user_string)\n",
        "    total_num += user_float\n",
        "    print(f\"Total number: {total_num}\")\n",
        "    continue\n",
        "  elif user_string.isalpha():\n",
        "    total_string += user_string\n",
        "    print(f\"Total string: {total_string}\")\n",
        "    continue\n",
        "  elif not user_string.isalnum():\n",
        "    continue\n"
      ],
      "metadata": {
        "colab": {
          "base_uri": "https://localhost:8080/"
        },
        "id": "FcBvdFd-xBVA",
        "outputId": "158215fd-17f7-4ea4-a231-af00cecaf68e"
      },
      "execution_count": 27,
      "outputs": [
        {
          "name": "stdout",
          "output_type": "stream",
          "text": [
            "Enter a string: bop\n",
            "Total string: bop\n",
            "Enter a string: 2\n",
            "Total number: 2.0\n",
            "Enter a string: bam\n",
            "Total string: bopbam\n",
            "Enter a string: 3\n",
            "Total number: 5.0\n",
            "Enter a string: haha\n",
            "Total string: bopbamhaha\n",
            "Enter a string: hehe&\n",
            "Enter a string: hoho*\n",
            "Enter a string: \n"
          ]
        }
      ]
    }
  ]
}