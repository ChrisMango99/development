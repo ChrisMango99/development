{
 "cells": [
  {
   "cell_type": "markdown",
   "metadata": {},
   "source": [
    "## Strings Pt. 2"
   ]
  },
  {
   "cell_type": "markdown",
   "metadata": {},
   "source": [
    "Write some code that will print a box around a string.\n",
    "\n",
    "Examples:\n",
    "User input: hello\n",
    "Output:\n",
    "*******\n",
    "*hello*\n",
    "*******"
   ]
  },
  {
   "cell_type": "code",
   "execution_count": 9,
   "metadata": {},
   "outputs": [
    {
     "name": "stdout",
     "output_type": "stream",
     "text": [
      "The user input is hi\n",
      "The length of the input is 2\n",
      "\n",
      "****\n",
      "*hi*\n",
      "****\n"
     ]
    }
   ],
   "source": [
    "# Get user input\n",
    "user = input(\"Enter your input: \")\n",
    "print(f'The user input is {user}')\n",
    "\n",
    "# Figure out the length\n",
    "user_length = len(user)\n",
    "print(f\"The length of the input is {user_length}\\n\")\n",
    "\n",
    "# Create the border\n",
    "border = '*' * (user_length + 2)\n",
    "\n",
    "# Generate output\n",
    "# Create the output with print() functions\n",
    "print(border)\n",
    "print('*' + user + '*')\n",
    "print(border)\n",
    "\n"
   ]
  },
  {
   "cell_type": "code",
   "execution_count": 11,
   "metadata": {},
   "outputs": [
    {
     "name": "stdout",
     "output_type": "stream",
     "text": [
      "blue\n"
     ]
    }
   ],
   "source": [
    "str_1 = \"BLUE\"\n",
    "str_1.lower() # spplying the method to the string won't change the original value\n",
    "# we need to overwrite our variable or assign it to another value\n",
    "str_1 = str_1.lower()\n",
    "print(str_1)"
   ]
  },
  {
   "cell_type": "code",
   "execution_count": 16,
   "metadata": {},
   "outputs": [
    {
     "name": "stdout",
     "output_type": "stream",
     "text": [
      "12\n",
      "7\n"
     ]
    }
   ],
   "source": [
    "day = '  TUESDAY   '\n",
    "new_day = day.strip()\n",
    "\n",
    "# Check the length of both the original string and the string with no whitespaces at the start or end\n",
    "print(len(day))\n",
    "print(len(new_day))"
   ]
  },
  {
   "cell_type": "code",
   "execution_count": 18,
   "metadata": {},
   "outputs": [
    {
     "name": "stdout",
     "output_type": "stream",
     "text": [
      "J\n"
     ]
    }
   ],
   "source": [
    "# Indexing\n",
    "word = 'Jazmine'\n",
    "\n",
    "# Zero based indexing - this means we start counting at zero instead of 1\n",
    "first_letter = word[0]\n",
    "print(first_letter)"
   ]
  },
  {
   "cell_type": "code",
   "execution_count": 21,
   "metadata": {},
   "outputs": [
    {
     "name": "stdout",
     "output_type": "stream",
     "text": [
      "J\n",
      "a\n",
      "z\n",
      "m\n",
      "i\n",
      "n\n",
      "e\n"
     ]
    }
   ],
   "source": [
    "# Think of a string as a list of characters\n",
    "print(word[0])\n",
    "print(word[1])\n",
    "print(word[2])\n",
    "print(word[3])\n",
    "print(word[4])\n",
    "print(word[5])\n",
    "print(word[6])"
   ]
  },
  {
   "cell_type": "code",
   "execution_count": 23,
   "metadata": {},
   "outputs": [
    {
     "name": "stdout",
     "output_type": "stream",
     "text": [
      "T\n",
      "g\n",
      "g\n"
     ]
    }
   ],
   "source": [
    "# Create a variable to capture the first letter of this string\n",
    "example = 'Test string'\n",
    "\n",
    "# Print the first letter of a string\n",
    "print(example[0]) # T\n",
    "\n",
    "# Print the last letter of a string - index -1\n",
    "print(example[-1]) # g\n",
    "# Another way of getting the last letter of a string - a little more verbose\n",
    "print(example[len(example) - 1]) # g"
   ]
  },
  {
   "cell_type": "code",
   "execution_count": 24,
   "metadata": {},
   "outputs": [
    {
     "name": "stdout",
     "output_type": "stream",
     "text": [
      "y\n"
     ]
    }
   ],
   "source": [
    "month = 'February'\n",
    "\n",
    "last_letter = month[-1]\n",
    "print(last_letter)"
   ]
  },
  {
   "cell_type": "code",
   "execution_count": 27,
   "metadata": {},
   "outputs": [
    {
     "name": "stdout",
     "output_type": "stream",
     "text": [
      "x\n",
      "e\n"
     ]
    }
   ],
   "source": [
    "first_name = 'Alexandria'\n",
    "letter_x = first_name[3]\n",
    "print(letter_x)\n",
    "\n",
    "# e\n",
    "e_index = first_name.index('e')\n",
    "e = first_name[e_index]\n",
    "print(e)"
   ]
  },
  {
   "cell_type": "code",
   "execution_count": 28,
   "metadata": {},
   "outputs": [
    {
     "name": "stdout",
     "output_type": "stream",
     "text": [
      "g i p\n"
     ]
    }
   ],
   "source": [
    "# Using bracket notation and reverse indexing, access the letter g, i and p\n",
    "fav_season = 'spring'\n",
    "g = fav_season[-1]\n",
    "i = fav_season[-3]\n",
    "p = fav_season[-5]\n",
    "print(g, i, p)"
   ]
  },
  {
   "cell_type": "code",
   "execution_count": 31,
   "metadata": {},
   "outputs": [
    {
     "name": "stdout",
     "output_type": "stream",
     "text": [
      "a\n",
      "i\n",
      "aghet\n"
     ]
    }
   ],
   "source": [
    "# Slicing \n",
    "# There are 3 parameters available with indexing with bracket notation [start:stop:step]\n",
    "fav_food = 'spaghetti'\n",
    "print(fav_food[2])\n",
    "print(fav_food[7]) # 6 is the actual last letter that will be sliced\n",
    "slice_of_fav_food = fav_food[2:7]\n",
    "print(slice_of_fav_food)"
   ]
  },
  {
   "cell_type": "code",
   "execution_count": 37,
   "metadata": {},
   "outputs": [
    {
     "name": "stdout",
     "output_type": "stream",
     "text": [
      "r\n",
      "a\n",
      "rica\n"
     ]
    }
   ],
   "source": [
    "# Using slicing please creat a string that accesses 'rica' in 'America'\n",
    "country = \"America\"\n",
    "print(country[3])\n",
    "print(country[6])\n",
    "rica = country[3:] # if were going to the end of the string we dont need a stop\n",
    "print(rica)\n"
   ]
  },
  {
   "cell_type": "code",
   "execution_count": 42,
   "metadata": {},
   "outputs": [
    {
     "name": "stdout",
     "output_type": "stream",
     "text": [
      "ora \n",
      "explo\n"
     ]
    }
   ],
   "source": [
    "cartoon = 'Dora the explorer'\n",
    "ora = cartoon[1:5]\n",
    "print(ora)\n",
    "\n",
    "explo = cartoon[9:14]\n",
    "print(explo)"
   ]
  },
  {
   "cell_type": "markdown",
   "metadata": {},
   "source": [
    "Example: Write some code to print the second half of a string\n",
    "\n",
    "python -> hon"
   ]
  },
  {
   "cell_type": "code",
   "execution_count": 48,
   "metadata": {},
   "outputs": [
    {
     "name": "stdout",
     "output_type": "stream",
     "text": [
      "rick\n"
     ]
    }
   ],
   "source": [
    "# Create a variable\n",
    "user = input(\"Enter your word: \")\n",
    "clean_word = user.strip()\n",
    "# Create a variable to get half of the length of the word\n",
    "word_length = len(clean_word)\n",
    "half_index = (word_length // 2) # since indexes have to be whole numbers we use integer division\n",
    "\n",
    "# Create final bracket notation and output\n",
    "second_half = clean_word[half_index:]\n",
    "print(second_half)"
   ]
  }
 ],
 "metadata": {
  "kernelspec": {
   "display_name": "Python 3",
   "language": "python",
   "name": "python3"
  },
  "language_info": {
   "codemirror_mode": {
    "name": "ipython",
    "version": 3
   },
   "file_extension": ".py",
   "mimetype": "text/x-python",
   "name": "python",
   "nbconvert_exporter": "python",
   "pygments_lexer": "ipython3",
   "version": "3.12.4"
  }
 },
 "nbformat": 4,
 "nbformat_minor": 2
}
