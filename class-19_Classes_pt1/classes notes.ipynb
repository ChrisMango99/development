{
  "nbformat": 4,
  "nbformat_minor": 0,
  "metadata": {
    "colab": {
      "provenance": []
    },
    "kernelspec": {
      "name": "python3",
      "display_name": "Python 3"
    },
    "language_info": {
      "name": "python"
    }
  },
  "cells": [
    {
      "cell_type": "code",
      "execution_count": 2,
      "metadata": {
        "id": "CT4NL2sZ1bMc"
      },
      "outputs": [],
      "source": [
        "animals = ['dog', 'cat', 'bird', 'sheep', 'giraffe', 'gorilla']\n",
        "\n",
        "with open(\"notes.txt\", 'w') as f:\n",
        "  for a in animals:\n",
        "    f.write(a + '\\n')"
      ]
    },
    {
      "cell_type": "code",
      "source": [
        "import csv\n",
        "columns = ['Name', 'Age', 'Salary']\n",
        "\n",
        "with open('employee_data.csv', 'w') as file:\n",
        "  for c in columns:\n",
        "    file.write(c + ' ')\n",
        "  file.write('\\n')\n",
        "\n",
        "with open('employee_data.csv', 'a+') as f:\n",
        "  writer = csv.writer(f)\n",
        "  while True:\n",
        "    name = input(\"Enter a name: \")\n",
        "    if (name == 'quit'):\n",
        "      break\n",
        "    age = input(\"Enter an age: \")\n",
        "    if age == 'quit':\n",
        "      break\n",
        "    salary = input('Enter a salary: ')\n",
        "    if salary == 'quit':\n",
        "      break\n",
        "    writer.writerow([name, age, salary])\n",
        ""
      ],
      "metadata": {
        "colab": {
          "base_uri": "https://localhost:8080/"
        },
        "id": "Y2OLYx583c6b",
        "outputId": "abf9a8b9-6bba-414d-ee40-7668de786532"
      },
      "execution_count": 12,
      "outputs": [
        {
          "name": "stdout",
          "output_type": "stream",
          "text": [
            "Enter a name: Pat\n",
            "Enter an age: 15\n",
            "Enter a salary: 1500000\n",
            "Enter a name: Jean\n",
            "Enter an age: 25\n",
            "Enter a salary: 1000000\n",
            "Enter a name: quit\n"
          ]
        }
      ]
    },
    {
      "cell_type": "code",
      "source": [
        "import pandas as pd\n",
        "data = [\n",
        "    {\n",
        "        'area': 'new-hills',\n",
        "        'rainfall': 100,\n",
        "        'temperature': 20\n",
        "    },\n",
        "    {\n",
        "        'area': 'cape-town',\n",
        "        'rainfall': 70,\n",
        "        'temperature': 25\n",
        "    },\n",
        "    {\n",
        "        'area': 'mumbai',\n",
        "        'rainfall': 200,\n",
        "        'temperature': 39\n",
        "    }\n",
        "]\n",
        "\n",
        "df = pd.DataFrame.from_dict(data)\n",
        "df.to_csv('output.csv', index=False)"
      ],
      "metadata": {
        "id": "a4VnCNBf5U0J"
      },
      "execution_count": 11,
      "outputs": []
    },
    {
      "cell_type": "code",
      "source": [
        "from datetime import datetime\n",
        "\n",
        "myts = datetime.today().strftime('%Y-%m-%d')\n",
        "# print(myts)\n",
        "\n",
        "new_df = df[['area', 'temperature']]\n",
        "new_df.to_csv(f\"{myts}.csv\", index=False)"
      ],
      "metadata": {
        "colab": {
          "base_uri": "https://localhost:8080/"
        },
        "id": "8b3ZlzKE6rAt",
        "outputId": "0891c3f6-0da8-46a5-8fee-5a202a8931b7"
      },
      "execution_count": 10,
      "outputs": [
        {
          "output_type": "stream",
          "name": "stdout",
          "text": [
            "2024-08-07\n"
          ]
        }
      ]
    },
    {
      "cell_type": "markdown",
      "source": [
        "# Classes\n",
        "* Used as a template for creating objects\n",
        "* Can also be used to describe all the objects of that type\n",
        "* Every object instantiated from a class will have the same set of attributes (with different values) and the same methods\n",
        "\n",
        "Python is considered an object-oriented programming language. If we write classes, we can create our own custom objects, which will be similar to data types in Python.\n",
        "\n",
        "You can think of a class as a blueprint, and an object as the actual house built from that blueprint. There can be multiple objects made from the same class, and they are all slightly different.\n",
        "\n",
        "Similar to functions, loops, and conditionals, everything in a class is indented.\n",
        "Classes have functions inside them. Functions that are part of a class are called methods (think of the built-in string/list/etc. methods we’ve seen so far).\n",
        "Every class needs the initializer method (also called constructor), which initializes the class and sets its attributes. It must be called __init__\n",
        "\n",
        "When you create an object from a class, you call the initializer and pass in values for the attributes."
      ],
      "metadata": {
        "id": "9-GB1DQz7olG"
      }
    },
    {
      "cell_type": "code",
      "source": [
        "class Point2D(object):\n",
        "  def __init__(self, x=0, y=0):\n",
        "    self.x = x\n",
        "    self.y = y\n",
        "\n",
        "my_point = Point2D(10,5)"
      ],
      "metadata": {
        "id": "JozhMLgU9IUl"
      },
      "execution_count": 13,
      "outputs": []
    },
    {
      "cell_type": "markdown",
      "source": [
        "## Python Built-in Methods\n",
        "Python has some built-in methods you can add to your classes. Every built-in method you add must be named specifically after a Python keyword with two underscores on each side.\n",
        "The only required method is __init__. Another useful one is __str__.\n",
        "The purpose of most other built-in methods is to override operators, so when you use an operator like + on objects from your class, it calls your method instead.\n",
        "You can give operators like +, ==, <, etc. any functionality you want."
      ],
      "metadata": {
        "id": "vYLzkp6s9eJ3"
      }
    },
    {
      "cell_type": "code",
      "source": [
        "class Point2D(object):\n",
        "  def __init__(self, x=0, y=0):\n",
        "    self.x = x\n",
        "    self.y = y\n",
        "\n",
        "  def __str__(self):\n",
        "    return f\"X: {self.x}\\nY: {self.y}\"\n",
        "\n",
        "  def __eq__(self, other):\n",
        "    if self.x == other.x and self.y == other.y:\n",
        "      return True\n",
        "    else:\n",
        "      return False\n",
        "\n",
        "point_1 = Point2D(10,5)\n",
        "point_2 = Point2D(9,3)\n",
        "\n",
        "print(point_1.__str__(), '\\n')\n",
        "print(point_2.__str__(), '\\n')\n",
        "\n",
        "print(point_1 == point_2)"
      ],
      "metadata": {
        "colab": {
          "base_uri": "https://localhost:8080/"
        },
        "id": "oZbCTS7m-IWP",
        "outputId": "d06709e2-e698-4015-8de4-9c3b075e5ee3"
      },
      "execution_count": 20,
      "outputs": [
        {
          "output_type": "stream",
          "name": "stdout",
          "text": [
            "X: 10\n",
            "Y: 5 \n",
            "\n",
            "X: 9\n",
            "Y: 3 \n",
            "\n",
            "False\n"
          ]
        }
      ]
    },
    {
      "cell_type": "code",
      "source": [
        "class Point2D(object):\n",
        "  # The initialization of the object\n",
        "  def __init__(self, x=0, y=0):\n",
        "    self.x = x\n",
        "    self.y = y\n",
        "\n",
        "  # This is how we define what happens when we print the Point2D object (or any other string like processing)\n",
        "  def __str__(self):\n",
        "    return f\"({self.x},{self.y})\"\n",
        "\n",
        "  # This is how we define what happens when we compare two Point2D objects together (Point2D == Point2D)\n",
        "  def __eq__(self, other):\n",
        "    if self.x == other.x and self.y == other.y:\n",
        "      return True\n",
        "    else:\n",
        "      return False\n",
        "\n",
        "  # This is how we define what happens when we compare two Point2D objects together (Point2D < Point2D)\n",
        "  def __lt__(self, other):\n",
        "    if self.x < other.x and self.y < other.y:\n",
        "      return True\n",
        "    else:\n",
        "      return False\n",
        "\n",
        "  # This is how we define what happens when we compare two Point2D objects together (Point2D > Point2D)\n",
        "  def __gt__(self, other):\n",
        "    if self.x > other.x and self.y > other.y:\n",
        "      return True\n",
        "    else:\n",
        "      return False\n",
        "\n",
        "  # This is how we define what happens when we add two Point2D objects together (Point2D + Point2D)\n",
        "  def __add__(self, other):\n",
        "    return Point2D(self.x + other.x, self.y + other.y)\n",
        "\n",
        "  # This is how we define what happens when we subtract two Point2D objects together (Point2D - Point2D)\n",
        "  def __sub__(self, other):\n",
        "    return Point2D(self.x - other.x, self.y - other.y)\n",
        "\n",
        "  # Mutation functions\n",
        "  # Changes the values of the member variables (x and y)\n",
        "  def set_x(self, new_x):\n",
        "    self.x = new_x\n",
        "\n",
        "  def set_y(self, new_y):\n",
        "    self.y = new_y\n",
        "\n",
        "\n",
        "point_1 = Point2D(10,5)\n",
        "point_2 = Point2D(9,3)\n",
        "point_3 = point_1 + point_2\n",
        "point_4 = point_1 - point_2\n",
        "\n",
        "print(point_1)\n",
        "point_1.set_x(11)\n",
        "print(point_1)\n",
        "print(point_2)\n",
        "point_2.set_y(4)\n",
        "print(point_2)\n",
        "\n",
        "print(\"Are both points equal?: \", point_1 == point_2)\n",
        "print(f\"Is {point_1} less than {point_2}?: {point_1 < point_2}\")\n",
        "print(f\"Is {point_1} greater than {point_2}?: {point_1 > point_2}\")\n",
        "\n",
        "print(f\"{point_1} + {point_2} = {point_3}\")\n",
        "print(f\"{point_1} - {point_2} = {point_4}\")\n",
        "\n"
      ],
      "metadata": {
        "colab": {
          "base_uri": "https://localhost:8080/"
        },
        "id": "iJ4-V2jJ_7tR",
        "outputId": "1f58422c-2885-4f2b-8ca0-1a62bd2e7b61"
      },
      "execution_count": 35,
      "outputs": [
        {
          "output_type": "stream",
          "name": "stdout",
          "text": [
            "(10,5)\n",
            "(11,5)\n",
            "(9,3)\n",
            "(9,4)\n",
            "Are both points equal?:  False\n",
            "Is (11,5) less than (9,4)?: False\n",
            "Is (11,5) greater than (9,4)?: True\n",
            "(11,5) + (9,4) = (19,8)\n",
            "(11,5) - (9,4) = (1,2)\n"
          ]
        }
      ]
    },
    {
      "cell_type": "code",
      "source": [
        "from datetime import datetime\n",
        "\n",
        "class Date(object):\n",
        "  def __init__(self, year=1970, month=1, day=1):\n",
        "    self.year = year\n",
        "    self.month = month\n",
        "    self.day = day\n",
        "\n",
        "  def __str__(self):\n",
        "    return f\"{self.month}/{self.day}/{self.year}\"\n",
        "\n",
        "  def __eq__(self, other):\n",
        "    if self.year == other.year and self.month == other.month and self.day == other.day:\n",
        "      return True\n",
        "    else:\n",
        "      return False\n",
        "\n",
        "  def __lt__(self, other):\n",
        "    self_date = datetime(self.year, self.month, self.day)\n",
        "    other_date = datetime(other.year, other.month, other.day)\n",
        "    return self_date < other_date\n",
        "\n",
        "  def __gt__(self, other):\n",
        "    self_date = datetime(self.year, self.month, self.day)\n",
        "    other_date = datetime(other.year, other.month, other.day)\n",
        "    return self_date > other_date\n",
        "\n",
        "  def is_leap_year(self):\n",
        "    if self.year % 4 == 0:\n",
        "      return True\n",
        "    else:\n",
        "      return False\n",
        "\n",
        "first_date = Date(1999, 12, 3)\n",
        "second_date = Date(2000, 12, 13)\n",
        "\n",
        "print(\"Are both points equal?: \", first_date == second_date)\n",
        "print(f\"Is {first_date} less than {second_date}?: {first_date < second_date}\")\n",
        "print(f\"Is {first_date} greater than {second_date}?: {first_date > second_date}\")\n",
        "\n",
        "print(f\"Is {first_date} a leap year?: {first_date.is_leap_year()}\")\n",
        "print(f\"Is {second_date} a leap year?: {second_date.is_leap_year()}\")"
      ],
      "metadata": {
        "colab": {
          "base_uri": "https://localhost:8080/"
        },
        "id": "9lPuFQ7gPsln",
        "outputId": "b7fa2b03-c419-4330-99ca-1153e4fa3555"
      },
      "execution_count": 57,
      "outputs": [
        {
          "output_type": "stream",
          "name": "stdout",
          "text": [
            "Are both points equal?:  False\n",
            "Is 12/3/1999 less than 12/13/2000?: True\n",
            "Is 12/3/1999 greater than 12/13/2000?: False\n",
            "Is 12/3/1999 a leap year?: False\n",
            "Is 12/13/2000 a leap year?: True\n"
          ]
        }
      ]
    }
  ]
}