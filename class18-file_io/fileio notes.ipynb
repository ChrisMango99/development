{
  "nbformat": 4,
  "nbformat_minor": 0,
  "metadata": {
    "colab": {
      "provenance": []
    },
    "kernelspec": {
      "name": "python3",
      "display_name": "Python 3"
    },
    "language_info": {
      "name": "python"
    }
  },
  "cells": [
    {
      "cell_type": "markdown",
      "source": [
        "# File I/O"
      ],
      "metadata": {
        "id": "TxkdHMcfjp6J"
      }
    },
    {
      "cell_type": "markdown",
      "source": [
        "## File Directory\n",
        "* Your file explorer has all the files stored on your computer, organized into folders (also called directories)\n",
        "* Each file has a path, which is the hierarchy of folders you need to follow to find the file.\n",
        "  * In Windows, paths have backwards slashes: C:\\Users\\YourUsername\\Programming\\My_Code.py\n",
        "  * In Unix (Mac or Linux), paths have forward slashes: c/Users/YourUsername/Programming/My_Code.py"
      ],
      "metadata": {
        "id": "B67GdNX4lbIc"
      }
    },
    {
      "cell_type": "markdown",
      "source": [
        "## Opening Files\n",
        "* To open a file, use the open() function, which takes 2 parameters: filename (required) and mode (optional)\n",
        "  * Filename is the name of your file, as a string in quotes.\n",
        "    * If it's in the same folder, all you need is the name. If it's in a different folder, you need the entire path.\n",
        "    * Make sure to get the correct extension.\n",
        "* open() returns a file object that you can use later."
      ],
      "metadata": {
        "id": "PdzXgDcGlaLe"
      }
    },
    {
      "cell_type": "code",
      "source": [
        "# If the file doesn't exist, make the mode set to 'w' for write (which will create the file if not already existing)\n",
        "f = open(\"my_file.txt\", 'w')\n",
        "# Monday.txt already exists, so we don't need to specify a mode\n",
        "monday = open(\"monday.txt\")"
      ],
      "metadata": {
        "id": "-BkWxyq55xjB"
      },
      "execution_count": 3,
      "outputs": []
    },
    {
      "cell_type": "markdown",
      "source": [
        "## Closing Files\n",
        "* Make sure to close your files!\n",
        "* There are multiple ways to do this"
      ],
      "metadata": {
        "id": "g3HmD7Y9lgWC"
      }
    },
    {
      "cell_type": "code",
      "execution_count": null,
      "metadata": {
        "id": "u1IDD3AFh4LV"
      },
      "outputs": [],
      "source": [
        "# One option is to open your file, set it as a variable, then close it later\n",
        "\n",
        "file = open(\"my_file.txt\")\n",
        "# file processing\n",
        "file.close()\n",
        "\n",
        "# If your code runs into an error during the file processing, your file won't close"
      ]
    },
    {
      "cell_type": "code",
      "source": [
        "# Option 2\n",
        "# To ensure the file closes properly, even if there are errors in your file processing, you can use a try-finally block\n",
        "\n",
        "file = open(\"my_file.txt\")\n",
        "try:\n",
        "  # file processing\n",
        "  pass\n",
        "finally:\n",
        "  file.close()"
      ],
      "metadata": {
        "id": "fkaq4an0mE7H"
      },
      "execution_count": null,
      "outputs": []
    },
    {
      "cell_type": "code",
      "source": [
        "# Option 3\n",
        "# If you iterate through your file using a with statement, your file automatically closes, even if an error occurs during the file processing\n",
        "\n",
        "with open(\"my_file.txt\") as file:\n",
        "  # file processing\n",
        "  pass"
      ],
      "metadata": {
        "id": "UhSn0SkCmbUq"
      },
      "execution_count": null,
      "outputs": []
    },
    {
      "cell_type": "markdown",
      "source": [
        "## File Mode\n",
        "* The mode is the second, optional parameter to the open function, and allows you to put the file in \"read-only\" or \"write-only\" mode\n",
        "* Most commonly used modes:\n",
        "  * 'r' open for reading (default)\n",
        "  * 'w' open for writing, which truncates (overwrites) the file\n",
        "\n",
        "### All Modes\n",
        "* 'r' open for reading (default). Starts at the beginning of the file.\n",
        "* 'r+' open for reading and writing. Starts at the beginning of the file.\n",
        "* 'w' open for writing. Truncate (overwrite) the file. Starts at the beginning of the file.\n",
        "* 'w+' open for reading and writing. Create the file if it does not exist, otherwise truncate it. Starts at the beginning of the file.\n",
        "* 'a' open for writing, create the file if it doesn't exist, and append to the end of the file instead of overwriting. Subsequent writes will always end up at the current end of the file.\n",
        "* 'a+' open for reading and writing, create the file if it doesn't exist, and append to the end of the file instead of overwriting. Subsequent writes will always end up at the current end of the file."
      ],
      "metadata": {
        "id": "1HNE6q0mmxoN"
      }
    },
    {
      "cell_type": "markdown",
      "source": [
        "## Reading Files\n",
        "Once you have a file object in read-only mode, we can read the file.\n",
        "There are three functions to read data from a file:\n",
        "* .read() Reads the entire file into a multi-line string\n",
        "* .readline() Reads one line of the file into a string\n",
        "* .readlines() Reads the entire file into a list, where each element in the list is a string representing one line."
      ],
      "metadata": {
        "id": "xxg0--73nHz3"
      }
    },
    {
      "cell_type": "code",
      "source": [
        "with open(\"monday.txt\", 'r') as monday:\n",
        "  output = monday.read()\n",
        "  print(output)"
      ],
      "metadata": {
        "colab": {
          "base_uri": "https://localhost:8080/"
        },
        "id": "aMVNLOlT5zWX",
        "outputId": "f065ab15-7994-42a2-f348-17a3bc257604"
      },
      "execution_count": 4,
      "outputs": [
        {
          "output_type": "stream",
          "name": "stdout",
          "text": [
            "Happy Monday everyone!\n",
            "What is Lorem Ipsum?\n",
            "Lorem Ipsum is simply dummy text of the printing and typesetting industry. Lorem Ipsum has been the industry's standard dummy text ever since the 1500s, when an unknown printer took a galley of type and scrambled it to make a type specimen book. It has survived not only five centuries, but also the leap into electronic typesetting, remaining essentially unchanged. It was popularised in the 1960s with the release of Letraset sheets containing Lorem Ipsum passages, and more recently with desktop publishing software like Aldus PageMaker including versions of Lorem Ipsum.\n",
            "\n",
            "Why do we use it?\n",
            "It is a long established fact that a reader will be distracted by the readable content of a page when looking at its layout. The point of using Lorem Ipsum is that it has a more-or-less normal distribution of letters, as opposed to using 'Content here, content here', making it look like readable English. Many desktop publishing packages and web page editors now use Lorem Ipsum as their default model text, and a search for 'lorem ipsum' will uncover many web sites still in their infancy. Various versions have evolved over the years, sometimes by accident, sometimes on purpose (injected humour and the like).\n",
            "\n",
            "\n",
            "Where does it come from?\n",
            "Contrary to popular belief, Lorem Ipsum is not simply random text. It has roots in a piece of classical Latin literature from 45 BC, making it over 2000 years old. Richard McClintock, a Latin professor at Hampden-Sydney College in Virginia, looked up one of the more obscure Latin words, consectetur, from a Lorem Ipsum passage, and going through the cites of the word in classical literature, discovered the undoubtable source. Lorem Ipsum comes from sections 1.10.32 and 1.10.33 of \"de Finibus Bonorum et Malorum\" (The Extremes of Good and Evil) by Cicero, written in 45 BC. This book is a treatise on the theory of ethics, very popular during the Renaissance. The first line of Lorem Ipsum, \"Lorem ipsum dolor sit amet..\", comes from a line in section 1.10.32.\n",
            "\n",
            "The standard chunk of Lorem Ipsum used since the 1500s is reproduced below for those interested. Sections 1.10.32 and 1.10.33 from \"de Finibus Bonorum et Malorum\" by Cicero are also reproduced in their exact original form, accompanied by English versions from the 1914 translation by H. Rackham.\n",
            "\n",
            "Where can I get some?\n",
            "There are many variations of passages of Lorem Ipsum available, but the majority have suffered alteration in some form, by injected humour, or randomised words which don't look even slightly believable. If you are going to use a passage of Lorem Ipsum, you need to be sure there isn't anything embarrassing hidden in the middle of text. All the Lorem Ipsum generators on the Internet tend to repeat predefined chunks as necessary, making this the first true generator on the Internet. It uses a dictionary of over 200 Latin words, combined with a handful of model sentence structures, to generate Lorem Ipsum which looks reasonable. The generated Lorem Ipsum is therefore always free from repetition, injected humour, or non-characteristic words etc.\n",
            "\n",
            "5\n",
            "\tparagraphs\n",
            "\twords\n",
            "\tbytes\n",
            "\tlists\n",
            "\tStart with 'Lorem\n",
            "ipsum dolor sit amet...'\n",
            "\n"
          ]
        }
      ]
    },
    {
      "cell_type": "code",
      "source": [
        "with open(\"monday.txt\", 'r') as monday:\n",
        "  line = monday.readline()\n",
        "  print(line)"
      ],
      "metadata": {
        "colab": {
          "base_uri": "https://localhost:8080/"
        },
        "id": "YqXFpOV78ZMS",
        "outputId": "bb691a5e-aa63-4922-d189-bb83f392cb49"
      },
      "execution_count": 7,
      "outputs": [
        {
          "output_type": "stream",
          "name": "stdout",
          "text": [
            "Happy Monday everyone!\n",
            "\n"
          ]
        }
      ]
    },
    {
      "cell_type": "code",
      "source": [
        "with open(\"monday.txt\", 'r') as monday:\n",
        "  lines = monday.readlines()\n",
        "  for line in lines:\n",
        "    print(line)"
      ],
      "metadata": {
        "colab": {
          "base_uri": "https://localhost:8080/"
        },
        "id": "m92HMg4H8-vZ",
        "outputId": "8f314047-1666-4845-bbf3-3351d8d0b414"
      },
      "execution_count": 8,
      "outputs": [
        {
          "output_type": "stream",
          "name": "stdout",
          "text": [
            "Happy Monday everyone!\n",
            "\n",
            "What is Lorem Ipsum?\n",
            "\n",
            "Lorem Ipsum is simply dummy text of the printing and typesetting industry. Lorem Ipsum has been the industry's standard dummy text ever since the 1500s, when an unknown printer took a galley of type and scrambled it to make a type specimen book. It has survived not only five centuries, but also the leap into electronic typesetting, remaining essentially unchanged. It was popularised in the 1960s with the release of Letraset sheets containing Lorem Ipsum passages, and more recently with desktop publishing software like Aldus PageMaker including versions of Lorem Ipsum.\n",
            "\n",
            "\n",
            "\n",
            "Why do we use it?\n",
            "\n",
            "It is a long established fact that a reader will be distracted by the readable content of a page when looking at its layout. The point of using Lorem Ipsum is that it has a more-or-less normal distribution of letters, as opposed to using 'Content here, content here', making it look like readable English. Many desktop publishing packages and web page editors now use Lorem Ipsum as their default model text, and a search for 'lorem ipsum' will uncover many web sites still in their infancy. Various versions have evolved over the years, sometimes by accident, sometimes on purpose (injected humour and the like).\n",
            "\n",
            "\n",
            "\n",
            "\n",
            "\n",
            "Where does it come from?\n",
            "\n",
            "Contrary to popular belief, Lorem Ipsum is not simply random text. It has roots in a piece of classical Latin literature from 45 BC, making it over 2000 years old. Richard McClintock, a Latin professor at Hampden-Sydney College in Virginia, looked up one of the more obscure Latin words, consectetur, from a Lorem Ipsum passage, and going through the cites of the word in classical literature, discovered the undoubtable source. Lorem Ipsum comes from sections 1.10.32 and 1.10.33 of \"de Finibus Bonorum et Malorum\" (The Extremes of Good and Evil) by Cicero, written in 45 BC. This book is a treatise on the theory of ethics, very popular during the Renaissance. The first line of Lorem Ipsum, \"Lorem ipsum dolor sit amet..\", comes from a line in section 1.10.32.\n",
            "\n",
            "\n",
            "\n",
            "The standard chunk of Lorem Ipsum used since the 1500s is reproduced below for those interested. Sections 1.10.32 and 1.10.33 from \"de Finibus Bonorum et Malorum\" by Cicero are also reproduced in their exact original form, accompanied by English versions from the 1914 translation by H. Rackham.\n",
            "\n",
            "\n",
            "\n",
            "Where can I get some?\n",
            "\n",
            "There are many variations of passages of Lorem Ipsum available, but the majority have suffered alteration in some form, by injected humour, or randomised words which don't look even slightly believable. If you are going to use a passage of Lorem Ipsum, you need to be sure there isn't anything embarrassing hidden in the middle of text. All the Lorem Ipsum generators on the Internet tend to repeat predefined chunks as necessary, making this the first true generator on the Internet. It uses a dictionary of over 200 Latin words, combined with a handful of model sentence structures, to generate Lorem Ipsum which looks reasonable. The generated Lorem Ipsum is therefore always free from repetition, injected humour, or non-characteristic words etc.\n",
            "\n",
            "\n",
            "\n",
            "5\n",
            "\n",
            "\tparagraphs\n",
            "\n",
            "\twords\n",
            "\n",
            "\tbytes\n",
            "\n",
            "\tlists\n",
            "\n",
            "\tStart with 'Lorem\n",
            "\n",
            "ipsum dolor sit amet...'\n",
            "\n"
          ]
        }
      ]
    },
    {
      "cell_type": "code",
      "source": [
        "'''\n",
        "Exercise\n",
        "Create a program that reads a text file named \"example.txt\" and outputs the number of lines in the file.\n",
        "(Assume your text file is in the same directory as your Python file)\n",
        "Hint: Open the file in read-only mode, and use the .readlines() function.\n",
        "\n",
        "'''\n",
        "\n",
        "with open('example.txt') as f:\n",
        "  lines = f.readlines()\n",
        "  output = len(lines)\n",
        "  print(output)"
      ],
      "metadata": {
        "colab": {
          "base_uri": "https://localhost:8080/"
        },
        "id": "HJHHABn49_6D",
        "outputId": "517b619e-5891-4760-ccaa-19ab0f990fec"
      },
      "execution_count": 9,
      "outputs": [
        {
          "output_type": "stream",
          "name": "stdout",
          "text": [
            "17\n"
          ]
        }
      ]
    },
    {
      "cell_type": "code",
      "source": [
        "'''Exercise\n",
        "You are a data analyst who must analyze a company's sales data to determine which products are selling the best.\n",
        "The data is stored in a CSV file named \"sales_data.csv\". The file contains the following columns: Product Name, Date Sold, Units Sold, Price per Unit, Total Sale\n",
        "Write a Python script that reads the data from the CSV file and calculates the total revenue generated by each product.\n",
        "Make sure to ignore the first line, since that's the header.\n",
        "You can go through the file line by line, and split each line into strings based on commas to get the individual column values.\n",
        "You can keep track of each product and its total sale in a dictionary.\n",
        "The only two relevant columns are Product Name and Total Sale.\n",
        "\n",
        "https://docs.python.org/3/library/csv.html\n",
        "'''\n",
        "sales_dict = {}\n",
        "with open(\"sales_data.csv\") as data:\n",
        "  lines = data.readlines()\n",
        "  num_lines = len(lines)\n",
        "  for i in range(1, num_lines):\n",
        "    line = lines[i]\n",
        "    product_name, date_sold, units_sold, price_per_unit, total_sale = line.removesuffix('\\n').split(sep=',', maxsplit=5)\n",
        "    sales_dict[product_name] = total_sale\n",
        "  print(sales_dict)"
      ],
      "metadata": {
        "colab": {
          "base_uri": "https://localhost:8080/"
        },
        "id": "orgkNZhb_Ru-",
        "outputId": "422837c0-308c-4136-aaad-f972a563e35a"
      },
      "execution_count": 12,
      "outputs": [
        {
          "output_type": "stream",
          "name": "stdout",
          "text": [
            "{'Jibbers': '62.37', 'Jabbers': '94.5', 'Willers': '45', 'Wonkers': '96'}\n"
          ]
        }
      ]
    },
    {
      "cell_type": "code",
      "source": [
        "sales_dict = {}\n",
        "with open(\"sales_data.csv\") as data:\n",
        "  next(data)\n",
        "  output = data.readlines()\n",
        "  # print(output)\n",
        "for o in output:\n",
        "  product_name, date, quantity, price, total = o.removesuffix('\\n').split(\",\")\n",
        "  sales_dict.update({product_name : total})\n",
        "print(sales_dict)"
      ],
      "metadata": {
        "colab": {
          "base_uri": "https://localhost:8080/"
        },
        "id": "T9ltuLStEJNi",
        "outputId": "251b819c-3174-4d79-d378-4c1bb951b3f8"
      },
      "execution_count": 18,
      "outputs": [
        {
          "output_type": "stream",
          "name": "stdout",
          "text": [
            "['Jibbers,12/1/2023,11,5.67,62.37\\n', 'Jabbers,11/30/2023,14,6.75,94.5\\n', 'Willers,10/12/2023,10,4.5,45\\n', 'Wonkers,12/3/2023,12,8,96\\n']\n",
            "{'Jibbers': '62.37', 'Jabbers': '94.5', 'Willers': '45', 'Wonkers': '96'}\n"
          ]
        }
      ]
    },
    {
      "cell_type": "markdown",
      "source": [
        "## Writing to Files\n",
        "Make sure to open your file in a mode that allows writing - the default mode is read-only.\n",
        "There are two functions to write data to a file:\n",
        "* .write(S) Insert the string S in a single line in the file.\n",
        "* .writelines(L) For a list L containing strings, insert each string as a new line in the file.\n"
      ],
      "metadata": {
        "id": "bs2QhbaOnP4z"
      }
    },
    {
      "cell_type": "code",
      "source": [
        "sales_data = ['Jibbers,12/1/2023,11, 5.67\\n', 'Jabbers,11/30/2023,14, 6.75\\n', 'Willers,10/12/2023,10, 4.50\\n', 'Wonkers,12/3/2023,12, 8.00\\n']\n",
        "\n",
        "with open(\"new_sales_data.csv\", 'w') as file:\n",
        "  file.writelines(sales_data)"
      ],
      "metadata": {
        "id": "lcVsBflf5z-g"
      },
      "execution_count": 20,
      "outputs": []
    },
    {
      "cell_type": "code",
      "source": [
        "# This is how we can check if it worked\n",
        "with open(\"new_sales_data.csv\", 'r') as file:\n",
        "  check = file.readlines()\n",
        "\n",
        "if (check == sales_data):\n",
        "  print(\"The data is the same!\")\n",
        "else:\n",
        "  print(\"The data was not written/read properly.\")"
      ],
      "metadata": {
        "colab": {
          "base_uri": "https://localhost:8080/"
        },
        "id": "d-wq74lTFokQ",
        "outputId": "9a8ffe35-5576-4e44-a922-8da9ae571f44"
      },
      "execution_count": 21,
      "outputs": [
        {
          "output_type": "stream",
          "name": "stdout",
          "text": [
            "The data is the same!\n"
          ]
        }
      ]
    },
    {
      "cell_type": "code",
      "source": [
        "\n",
        "'''\n",
        "Exercise\n",
        "Create a program that asks the user for their name and favorite color, then writes this information to a new text file named \"user_info.txt\".\n",
        "Write the name on the first line of the file, and the age on the second line of the file.\n",
        "\n",
        "'''\n",
        "\n",
        "username = input(\"Enter your name: \")\n",
        "user_color = input(\"Enter your favorite color: \")\n",
        "\n",
        "with open(\"user_info.txt\", 'w') as f:\n",
        "  f.write(username + '\\n' + user_color)\n"
      ],
      "metadata": {
        "colab": {
          "base_uri": "https://localhost:8080/"
        },
        "id": "vLh3GqvBG__L",
        "outputId": "ae9061d7-f51a-4cf8-d1ac-efa483b943bc"
      },
      "execution_count": 27,
      "outputs": [
        {
          "name": "stdout",
          "output_type": "stream",
          "text": [
            "Enter your name: Pat\n",
            "Enter your favorite color: Blue\n"
          ]
        }
      ]
    },
    {
      "cell_type": "code",
      "source": [
        "with open(\"user_info.txt\", 'r') as file:\n",
        "  check = file.read()\n",
        "  print(check)"
      ],
      "metadata": {
        "colab": {
          "base_uri": "https://localhost:8080/"
        },
        "id": "8AylH7fVHg3w",
        "outputId": "574f161d-d4a2-48fd-d8fe-9b3640242eaa"
      },
      "execution_count": 28,
      "outputs": [
        {
          "output_type": "stream",
          "name": "stdout",
          "text": [
            "Pat\n",
            "Blue\n"
          ]
        }
      ]
    },
    {
      "cell_type": "markdown",
      "source": [
        "##File Formatting in Windows vs Unix\n",
        "* Text files are formatted differently depending on whether you use Windows or Unix (Mac/Linux)\n",
        "  * In Windows, there is \\r\\n at the end of every line (\\r is carriage return)\n",
        "  * In Unix, there is just \\n at the end of every line\n",
        "* This usually doesn't cause any issues if you're just doing simple file processing, but it makes the exact contents of a text file differ based on what operating system you're using"
      ],
      "metadata": {
        "id": "7FmVhCzgnZH2"
      }
    },
    {
      "cell_type": "code",
      "source": [],
      "metadata": {
        "id": "f2isTJDM51KE"
      },
      "execution_count": null,
      "outputs": []
    }
  ]
}