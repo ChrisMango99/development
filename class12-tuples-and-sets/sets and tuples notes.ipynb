{
  "nbformat": 4,
  "nbformat_minor": 0,
  "metadata": {
    "colab": {
      "provenance": []
    },
    "kernelspec": {
      "name": "python3",
      "display_name": "Python 3"
    },
    "language_info": {
      "name": "python"
    }
  },
  "cells": [
    {
      "cell_type": "markdown",
      "source": [
        "# Sets and Tuples\n",
        "## Tuples\n",
        "* A collection that is ordered and unchangable\n",
        "* Similar to a list, but you can't add or remove items after initialization\n",
        "* Uses parentheses () instead of square brackets []\n",
        "* Used to store constants (data that won't change)\n",
        "\n",
        "### Tuple Methods\n",
        "* .count() - returns the number of times a value occurs in a tuple\n",
        "* .index() - returns the index number (int) of the tuple that holds a specified value\n",
        "\n",
        "### Tuple Features\n",
        "* You can index tuples\n",
        "* You can iterate through tuples using for loops\n",
        "* You can add two tuples together using '+' operator"
      ],
      "metadata": {
        "id": "IGX1CJo8YtO1"
      }
    },
    {
      "cell_type": "code",
      "source": [
        "my_tuple = (54, 12)\n",
        "print(type(my_tuple))"
      ],
      "metadata": {
        "colab": {
          "base_uri": "https://localhost:8080/"
        },
        "id": "0MmC1k_KdmZG",
        "outputId": "50a0470a-7c10-454d-8d9a-711be3f594ff"
      },
      "execution_count": 7,
      "outputs": [
        {
          "output_type": "stream",
          "name": "stdout",
          "text": [
            "<class 'tuple'>\n"
          ]
        }
      ]
    },
    {
      "cell_type": "code",
      "execution_count": 8,
      "metadata": {
        "colab": {
          "base_uri": "https://localhost:8080/"
        },
        "id": "WK2giTVvYnzC",
        "outputId": "2f801242-e947-438b-b439-f732260100fe"
      },
      "outputs": [
        {
          "output_type": "stream",
          "name": "stdout",
          "text": [
            "54\n"
          ]
        }
      ],
      "source": [
        "print(my_tuple[0])"
      ]
    },
    {
      "cell_type": "code",
      "source": [
        "for value in my_tuple:\n",
        "  print(value)"
      ],
      "metadata": {
        "colab": {
          "base_uri": "https://localhost:8080/"
        },
        "id": "i9EKQH1Ga3IZ",
        "outputId": "499b4cd0-fef7-4254-8656-3ed7754f61fe"
      },
      "execution_count": 2,
      "outputs": [
        {
          "output_type": "stream",
          "name": "stdout",
          "text": [
            "54\n",
            "12\n"
          ]
        }
      ]
    },
    {
      "cell_type": "code",
      "source": [
        "tuple1 = ('a', 'b', 'c')\n",
        "tuple2 = ('d', 'e')\n",
        "tuple3 = tuple1 + tuple2\n",
        "print(tuple3)"
      ],
      "metadata": {
        "colab": {
          "base_uri": "https://localhost:8080/"
        },
        "id": "xmR74iyPa8Yn",
        "outputId": "b3106b92-f80b-461b-b597-7145911afe6f"
      },
      "execution_count": 4,
      "outputs": [
        {
          "output_type": "stream",
          "name": "stdout",
          "text": [
            "('a', 'b', 'c', 'd', 'e')\n"
          ]
        }
      ]
    },
    {
      "cell_type": "markdown",
      "source": [
        "### Tuple Unpacking\n",
        "* You can upack the tuple into multiple variables\n",
        "* You MUST have a variable for each item in the tuple\n"
      ],
      "metadata": {
        "id": "fdv7BZiBbPwD"
      }
    },
    {
      "cell_type": "code",
      "source": [
        "my_tuple = (1,2,3)\n",
        "num1, num2, num3 = my_tuple\n",
        "print(num2)"
      ],
      "metadata": {
        "colab": {
          "base_uri": "https://localhost:8080/"
        },
        "id": "JgqGll1Hbark",
        "outputId": "1cb4be98-8857-48b5-e2e6-118d60c72fea"
      },
      "execution_count": 5,
      "outputs": [
        {
          "output_type": "stream",
          "name": "stdout",
          "text": [
            "2\n"
          ]
        }
      ]
    },
    {
      "cell_type": "code",
      "source": [
        "weekdays = [(\"Monday\", 1), (\"Tuesday\", 2), (\"Wednesday\", 3), (\"Thursday\", 4), (\"Friday\", 5), (\"Saturday\", 6), (\"Sunday\", 7)]\n",
        "for name, num in weekdays:\n",
        "  print(f\"{name} is day {num} of the week.\")"
      ],
      "metadata": {
        "colab": {
          "base_uri": "https://localhost:8080/"
        },
        "id": "dyGDNHtcbipf",
        "outputId": "6581c6fb-f894-4a0e-8adb-90ad4d5d3693"
      },
      "execution_count": 6,
      "outputs": [
        {
          "output_type": "stream",
          "name": "stdout",
          "text": [
            "Monday is day 1 of the week.\n",
            "Tuesday is day 2 of the week.\n",
            "Wednesday is day 3 of the week.\n",
            "Thursday is day 4 of the week.\n",
            "Friday is day 5 of the week.\n",
            "Saturday is day 6 of the week.\n",
            "Sunday is day 7 of the week.\n"
          ]
        }
      ]
    },
    {
      "cell_type": "code",
      "source": [
        "'''\n",
        "Exercise:\n",
        "\n",
        "You have a tuple of numbers and a tuple of months.\n",
        "Use these tuples to make a list of tuples where each tuple contains a\n",
        "number and the month it corresponds to.\n",
        "\n",
        "Now print each month and its number using tuple unpacking like above.\n",
        "'''\n",
        "\n",
        "numbers = (1,2,3,4,5,6,7,8,9,10,11,12)\n",
        "months = (\"January\", \"February\", \"March\", \"April\", \"May\", \"June\", \"July\", \"August\", \"September\", \"October\", \"November\", \"December\")\n",
        "year = []\n",
        "\n",
        "for num in numbers:\n",
        "  print(months[num-1], num)\n",
        "  year[num-1] = (months[numbers.index(num)], num)\n",
        "\n",
        "print(year)"
      ],
      "metadata": {
        "colab": {
          "base_uri": "https://localhost:8080/",
          "height": 234
        },
        "id": "pTk7BBQidqmj",
        "outputId": "39945487-ac16-4410-ea5d-7485153f8b1b"
      },
      "execution_count": 14,
      "outputs": [
        {
          "output_type": "stream",
          "name": "stdout",
          "text": [
            "January 1\n"
          ]
        },
        {
          "output_type": "error",
          "ename": "IndexError",
          "evalue": "list assignment index out of range",
          "traceback": [
            "\u001b[0;31m---------------------------------------------------------------------------\u001b[0m",
            "\u001b[0;31mIndexError\u001b[0m                                Traceback (most recent call last)",
            "\u001b[0;32m<ipython-input-14-86956bb20465>\u001b[0m in \u001b[0;36m<cell line: 15>\u001b[0;34m()\u001b[0m\n\u001b[1;32m     15\u001b[0m \u001b[0;32mfor\u001b[0m \u001b[0mnum\u001b[0m \u001b[0;32min\u001b[0m \u001b[0mnumbers\u001b[0m\u001b[0;34m:\u001b[0m\u001b[0;34m\u001b[0m\u001b[0;34m\u001b[0m\u001b[0m\n\u001b[1;32m     16\u001b[0m   \u001b[0mprint\u001b[0m\u001b[0;34m(\u001b[0m\u001b[0mmonths\u001b[0m\u001b[0;34m[\u001b[0m\u001b[0mnum\u001b[0m\u001b[0;34m-\u001b[0m\u001b[0;36m1\u001b[0m\u001b[0;34m]\u001b[0m\u001b[0;34m,\u001b[0m \u001b[0mnum\u001b[0m\u001b[0;34m)\u001b[0m\u001b[0;34m\u001b[0m\u001b[0;34m\u001b[0m\u001b[0m\n\u001b[0;32m---> 17\u001b[0;31m   \u001b[0myear\u001b[0m\u001b[0;34m[\u001b[0m\u001b[0mnum\u001b[0m\u001b[0;34m-\u001b[0m\u001b[0;36m1\u001b[0m\u001b[0;34m]\u001b[0m \u001b[0;34m=\u001b[0m \u001b[0;34m(\u001b[0m\u001b[0mmonths\u001b[0m\u001b[0;34m[\u001b[0m\u001b[0mnumbers\u001b[0m\u001b[0;34m.\u001b[0m\u001b[0mindex\u001b[0m\u001b[0;34m(\u001b[0m\u001b[0mnum\u001b[0m\u001b[0;34m)\u001b[0m\u001b[0;34m]\u001b[0m\u001b[0;34m,\u001b[0m \u001b[0mnum\u001b[0m\u001b[0;34m)\u001b[0m\u001b[0;34m\u001b[0m\u001b[0;34m\u001b[0m\u001b[0m\n\u001b[0m\u001b[1;32m     18\u001b[0m \u001b[0;34m\u001b[0m\u001b[0m\n\u001b[1;32m     19\u001b[0m \u001b[0mprint\u001b[0m\u001b[0;34m(\u001b[0m\u001b[0myear\u001b[0m\u001b[0;34m)\u001b[0m\u001b[0;34m\u001b[0m\u001b[0;34m\u001b[0m\u001b[0m\n",
            "\u001b[0;31mIndexError\u001b[0m: list assignment index out of range"
          ]
        }
      ]
    },
    {
      "cell_type": "markdown",
      "source": [
        "## Set\n",
        "* A set is a collection that is unordered, unchangable, and unindexed\n",
        "  * Unchangable, but can add and remove items\n",
        "* Don't allow for duplicates\n",
        "* We use curly brackets {}\n",
        "* Because they aren't ordered, you can't index them\n",
        "  * you can still loop through with a for loop\n",
        "\n",
        "### Set Methods\n",
        "* .add() - add an item to a set (like .append() for a list)\n",
        "* .clear() - removes all the items of a set\n",
        "* .copy() - returns a copy of a set\n",
        "* .difference() - gets the difference between two sets\n",
        "* .symmetric_difference() - gets the symmetric difference of two sets\n",
        "* .intersection() - gets intersection (the items that appear in both) of two sets\n",
        "* .union() - gets union (the items that appear in either or both) of two sets\n",
        "* .isdisjoint() - returns whether two sets have an intersetion or not\n",
        "* .remove() - removes the specified element from the set\n",
        "\n",
        "### Set Features\n",
        "* Union: all the items that appear in either of the sets (remember no duplicates)\n",
        "* Intersection: all the items that appear in both sets\n",
        "* Difference: The items that appear in set A but not set B\n",
        "* Symmetric Difference: The items that appear in set A or B, but not BOTH\n",
        "  * opposite of intersection"
      ],
      "metadata": {
        "id": "9AZ1rxMNfzWZ"
      }
    },
    {
      "cell_type": "code",
      "source": [
        "# Let's add silver .add()\n",
        "colors = {'blue', 'green', 'red'}\n",
        "colors.add('silver')\n",
        "print(colors)"
      ],
      "metadata": {
        "colab": {
          "base_uri": "https://localhost:8080/"
        },
        "id": "le40iRZbmlxL",
        "outputId": "2cc9850a-b539-4c19-c8c0-2d4023fa47c1"
      },
      "execution_count": 27,
      "outputs": [
        {
          "output_type": "stream",
          "name": "stdout",
          "text": [
            "{'silver', 'red', 'green', 'blue'}\n"
          ]
        }
      ]
    },
    {
      "cell_type": "code",
      "source": [
        "# Lets clear all our items .clear()\n",
        "transportation = {'cars', 'bikes', 'plane'}\n",
        "transportation.clear()\n",
        "print(transportation)"
      ],
      "metadata": {
        "colab": {
          "base_uri": "https://localhost:8080/"
        },
        "id": "GNoD95o2msxa",
        "outputId": "be2ddc30-1f11-4923-fd52-c9c8cb2f90a5"
      },
      "execution_count": 28,
      "outputs": [
        {
          "output_type": "stream",
          "name": "stdout",
          "text": [
            "set()\n"
          ]
        }
      ]
    },
    {
      "cell_type": "code",
      "source": [
        "# Lets create a copy .copy()\n",
        "sitcoms = {'friends', 'seinfeld', 'honeymooners'}\n",
        "new_set = sitcoms.copy()\n",
        "print(new_set)"
      ],
      "metadata": {
        "colab": {
          "base_uri": "https://localhost:8080/"
        },
        "id": "3HzINfycmyqk",
        "outputId": "4a5e7667-b322-41bd-aec5-bf0e4adc3374"
      },
      "execution_count": 30,
      "outputs": [
        {
          "output_type": "stream",
          "name": "stdout",
          "text": [
            "{'seinfeld', 'honeymooners', 'friends'}\n"
          ]
        }
      ]
    },
    {
      "cell_type": "code",
      "source": [
        "set_A = {0,1,2,3}\n",
        "set_B = {2,3,4,5}"
      ],
      "metadata": {
        "id": "cX4cSv_XiqNf"
      },
      "execution_count": 15,
      "outputs": []
    },
    {
      "cell_type": "code",
      "source": [
        "# Union\n",
        "set_A.union(set_B) # can also be typed 'set_A | set_B'"
      ],
      "metadata": {
        "colab": {
          "base_uri": "https://localhost:8080/"
        },
        "id": "MgtZkvmLim3t",
        "outputId": "45619195-534c-4c9d-c69a-b252a909616c"
      },
      "execution_count": 17,
      "outputs": [
        {
          "output_type": "execute_result",
          "data": {
            "text/plain": [
              "{0, 1, 2, 3, 4, 5}"
            ]
          },
          "metadata": {},
          "execution_count": 17
        }
      ]
    },
    {
      "cell_type": "code",
      "source": [
        "joel_pets = {'dog', 'cat', 'bird'}\n",
        "mustafa_pets = {'chickens', 'dog', 'fish'}\n",
        "sarah_pets = {'bird', 'dog', 'fish'}\n",
        "leah_pets = {'turtle'}\n",
        "\n",
        "result = joel_pets | mustafa_pets | sarah_pets | leah_pets\n",
        "print(result)"
      ],
      "metadata": {
        "colab": {
          "base_uri": "https://localhost:8080/"
        },
        "id": "z60C06ZokXJd",
        "outputId": "e67f0933-c775-431d-89f6-1dae9436650a"
      },
      "execution_count": 25,
      "outputs": [
        {
          "output_type": "stream",
          "name": "stdout",
          "text": [
            "{'fish', 'turtle', 'bird', 'dog', 'chickens', 'cat'}\n"
          ]
        }
      ]
    },
    {
      "cell_type": "code",
      "source": [
        "# Intersection\n",
        "set_A.intersection(set_B) # can also be typed 'set_A & set_B'"
      ],
      "metadata": {
        "colab": {
          "base_uri": "https://localhost:8080/"
        },
        "id": "JW3v9KUWi9je",
        "outputId": "c6a1164c-2df2-4f02-b4fa-23bc07d7e7a1"
      },
      "execution_count": 18,
      "outputs": [
        {
          "output_type": "execute_result",
          "data": {
            "text/plain": [
              "{2, 3}"
            ]
          },
          "metadata": {},
          "execution_count": 18
        }
      ]
    },
    {
      "cell_type": "code",
      "source": [
        "my_schedule = {'mon', 'wed', 'thurs'}\n",
        "pats_schedule = {'wed', 'fri', 'sat'}\n",
        "result = my_schedule & pats_schedule\n",
        "print(result)"
      ],
      "metadata": {
        "colab": {
          "base_uri": "https://localhost:8080/"
        },
        "id": "c5hjQfTQkHX2",
        "outputId": "3a9effdc-1a04-412a-f740-61dcf374fe7d"
      },
      "execution_count": 24,
      "outputs": [
        {
          "output_type": "stream",
          "name": "stdout",
          "text": [
            "{'wed'}\n"
          ]
        }
      ]
    },
    {
      "cell_type": "code",
      "source": [
        "# Difference\n",
        "set_A.difference(set_B) # can also be types 'set_A - set_B'"
      ],
      "metadata": {
        "colab": {
          "base_uri": "https://localhost:8080/"
        },
        "id": "bXNDeJ8_jKJH",
        "outputId": "fced67f0-9ab7-47f3-91aa-f8951330ca91"
      },
      "execution_count": 19,
      "outputs": [
        {
          "output_type": "execute_result",
          "data": {
            "text/plain": [
              "{0, 1}"
            ]
          },
          "metadata": {},
          "execution_count": 19
        }
      ]
    },
    {
      "cell_type": "code",
      "source": [
        "student_set_1 = {'brad', 'dez', 'kenneth', 'pat', 'jean'}\n",
        "student_set_2 = {'brad', 'dez', 'chelsea'}\n",
        "result = student_set_1 - student_set_2\n",
        "print(result)"
      ],
      "metadata": {
        "colab": {
          "base_uri": "https://localhost:8080/"
        },
        "id": "Ie1pVqfBjtoj",
        "outputId": "9904734b-f00f-4125-b382-b718dd6e5930"
      },
      "execution_count": 21,
      "outputs": [
        {
          "output_type": "stream",
          "name": "stdout",
          "text": [
            "{'jean', 'kenneth', 'pat'}\n"
          ]
        }
      ]
    },
    {
      "cell_type": "code",
      "source": [
        "# Symmetric Difference\n",
        "set_A.symmetric_difference(set_B) # can also be typed 'set_A ^ set_B'"
      ],
      "metadata": {
        "colab": {
          "base_uri": "https://localhost:8080/"
        },
        "id": "jjLP0nnkjT4_",
        "outputId": "68c645fe-eace-41e6-d795-315ab8a0abe7"
      },
      "execution_count": 20,
      "outputs": [
        {
          "output_type": "execute_result",
          "data": {
            "text/plain": [
              "{0, 1, 4, 5}"
            ]
          },
          "metadata": {},
          "execution_count": 20
        }
      ]
    },
    {
      "cell_type": "code",
      "source": [
        "wendy_books = {'catcher in the rye', 'richest man in babylon'}\n",
        "cain_books = {'catcher in the rye', 'richest man in babylon', 'sounder'}\n",
        "result = wendy_books ^ cain_books\n",
        "print(result)"
      ],
      "metadata": {
        "colab": {
          "base_uri": "https://localhost:8080/"
        },
        "id": "I0JOR6qPlq3Z",
        "outputId": "1d0cb7b1-c0af-4cc1-a165-d4546071ccb1"
      },
      "execution_count": 26,
      "outputs": [
        {
          "output_type": "stream",
          "name": "stdout",
          "text": [
            "{'sounder'}\n"
          ]
        }
      ]
    },
    {
      "cell_type": "code",
      "source": [
        "'''\n",
        "Exercise - Sets\n",
        "You work at a company where some people know Python, some people know JavaScript, and some people know both.\n",
        "In a loop, prompt the user to input an employee name, whether they know Python, and whether they know JavaScript. Use this to build two sets: a set of employees that know Python, and a set of employees that know JavaScript.\n",
        "Use set operators to compute the following sets:\n",
        "The set of employees that know both Python and JavaScript\n",
        "The set of employees that know JavaScript, but not Python\n",
        "The set of employees that know Python or JavaScript, but not both\n",
        "'''\n",
        "\n",
        "python_devs, js_devs = set(), set()\n",
        "\n",
        "dev_type_input, dev_name_input = '', ''\n",
        "\n",
        "msgs = ('Stopping program!', 'Invalid input! Please try again', 'Thank you! Have a nice day')\n",
        "\n",
        "# User Instructions\n",
        "print('''\n",
        "Python and JS Developer Tracker\n",
        "Instructions\n",
        "Input 's' or 'stop' at anytime to exit program\n",
        "To add or Python developer type 'p' when prompted.\n",
        "To add a JavaScript developer type 'js' when prompted.\n",
        "''')\n",
        "\n",
        "while True:\n",
        "  dev_type_input = input(\"Type 'p' for Python Dev, 'js' for Javascript, or 'stop' to exit: \").lower()\n",
        "\n",
        "  if dev_type_input == 'stop':\n",
        "    print(msgs[0])\n",
        "    break\n",
        "  elif dev_type_input == 'p' or dev_type_input == 'js':\n",
        "    dev_name_input = input(\"Please enter developer name: \").lower()\n",
        "    if dev_name_input == 'stop':\n",
        "      print(msgs[0])\n",
        "      break\n",
        "    elif dev_type_input == 'p':\n",
        "      python_devs.add(dev_name_input.title())\n",
        "      print(python_devs)\n",
        "    elif dev_type_input == 'js':\n",
        "      js_devs.add(dev_name_input.title())\n",
        "      print(js_devs)\n",
        "  else:\n",
        "    print(msgs[1])\n",
        "\n",
        "  know_both = python_devs.intersection(js_devs)\n",
        "  know_js_not_python = js_devs.difference(python_devs)\n",
        "  know_js_or_python_not_both = js_devs.symmetric_difference(python_devs)\n",
        "  print(f\"Knows both: {know_both}\")\n",
        "  print(f\"Knows Javascript but not Python: {know_js_not_python}\")\n",
        "  print(f\"Knows JS or Python but not both: {know_js_or_python_not_both}\")"
      ],
      "metadata": {
        "colab": {
          "base_uri": "https://localhost:8080/"
        },
        "id": "2j_Pbys4e2GJ",
        "outputId": "7c04f4b2-8a4b-435e-f5e4-d47fece4d5ca"
      },
      "execution_count": 37,
      "outputs": [
        {
          "output_type": "stream",
          "name": "stdout",
          "text": [
            "\n",
            "Python and JS Developer Tracker\n",
            "Instructions\n",
            "Input 's' or 'stop' at anytime to exit program\n",
            "To add or Python developer type 'p' when prompted.\n",
            "To add a JavaScript developer type 'js' when prompted.\n",
            "\n",
            "Type 'p' for Python Dev, 'js' for Javascript, or 'stop' to exit: p\n",
            "Please enter developer name: Jean\n",
            "{'Jean'}\n",
            "Knows both: set()\n",
            "Knows Javascript but not Python: set()\n",
            "Knows JS or Python but not both: {'Jean'}\n",
            "Type 'p' for Python Dev, 'js' for Javascript, or 'stop' to exit: js\n",
            "Please enter developer name: Pat\n",
            "{'Pat'}\n",
            "Knows both: set()\n",
            "Knows Javascript but not Python: {'Pat'}\n",
            "Knows JS or Python but not both: {'Pat', 'Jean'}\n",
            "Type 'p' for Python Dev, 'js' for Javascript, or 'stop' to exit: p\n",
            "Please enter developer name: Pat\n",
            "{'Pat', 'Jean'}\n",
            "Knows both: {'Pat'}\n",
            "Knows Javascript but not Python: set()\n",
            "Knows JS or Python but not both: {'Jean'}\n",
            "Type 'p' for Python Dev, 'js' for Javascript, or 'stop' to exit: js\n",
            "Please enter developer name: Sarah\n",
            "{'Sarah', 'Pat'}\n",
            "Knows both: {'Pat'}\n",
            "Knows Javascript but not Python: {'Sarah'}\n",
            "Knows JS or Python but not both: {'Sarah', 'Jean'}\n",
            "Type 'p' for Python Dev, 'js' for Javascript, or 'stop' to exit: stop\n",
            "Stopping program!\n"
          ]
        }
      ]
    }
  ]
}