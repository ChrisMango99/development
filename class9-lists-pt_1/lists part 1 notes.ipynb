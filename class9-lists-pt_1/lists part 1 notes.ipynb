{
  "nbformat": 4,
  "nbformat_minor": 0,
  "metadata": {
    "colab": {
      "provenance": []
    },
    "kernelspec": {
      "name": "python3",
      "display_name": "Python 3"
    },
    "language_info": {
      "name": "python"
    }
  },
  "cells": [
    {
      "cell_type": "markdown",
      "source": [
        "# Lists (Part 1)\n",
        "* Stores a group of objects (string, integer, float, list, dictionary, etc.)\n",
        "* Lists are mutable\n",
        "  * We can change an individual object in a list using the index\n",
        "  * We can also add and remove objects from a list\n",
        "* We can also use lists in a for loop"
      ],
      "metadata": {
        "id": "av-i3B6okvon"
      }
    },
    {
      "cell_type": "markdown",
      "source": [
        "## Index Review\n",
        "* Indexing is how we access an individual item inside a group\n",
        "* We use square brackets []\n",
        "  * ex: list[index]\n",
        "* zero based indexing: we start counting at 0 instead of 1\n",
        "  * The \"first\" index is [0]\n",
        "  * The \"second\" index is [1]\n"
      ],
      "metadata": {
        "id": "K-7Cs8_ClggL"
      }
    },
    {
      "cell_type": "code",
      "execution_count": 2,
      "metadata": {
        "colab": {
          "base_uri": "https://localhost:8080/"
        },
        "id": "u1wb-kgziBI0",
        "outputId": "90b16f67-2d01-499f-d992-0c97b64ab2a9"
      },
      "outputs": [
        {
          "output_type": "stream",
          "name": "stdout",
          "text": [
            "mars\n"
          ]
        }
      ],
      "source": [
        "planets = ['mercury', 'venus', 'earth', 'mars', 'jupiter']\n",
        "print(planets[3])"
      ]
    },
    {
      "cell_type": "markdown",
      "source": [
        "## Lists in a FOR Loop\n",
        "* You can iterate through a list in a for loop, just like a string, because a list is an iterable - a collection of objects"
      ],
      "metadata": {
        "id": "VtDyLr1nmMK-"
      }
    },
    {
      "cell_type": "code",
      "source": [
        "for i in 'hello':\n",
        "  print(i)"
      ],
      "metadata": {
        "colab": {
          "base_uri": "https://localhost:8080/"
        },
        "id": "CW9suToumLKt",
        "outputId": "47cd733c-8c1c-4885-889a-04ae0040a9c3"
      },
      "execution_count": 3,
      "outputs": [
        {
          "output_type": "stream",
          "name": "stdout",
          "text": [
            "h\n",
            "e\n",
            "l\n",
            "l\n",
            "o\n"
          ]
        }
      ]
    },
    {
      "cell_type": "code",
      "source": [
        "for i in [1,2,3,4]:\n",
        "  print(i)\n",
        "\n",
        "# len() function also works for lists\n",
        "print(f\"The length of this list is: {len([1,2,3,4])}\")"
      ],
      "metadata": {
        "colab": {
          "base_uri": "https://localhost:8080/"
        },
        "id": "GDdzVSEmmmYv",
        "outputId": "4d025808-013c-420e-ed6a-3e2630820717"
      },
      "execution_count": 7,
      "outputs": [
        {
          "output_type": "stream",
          "name": "stdout",
          "text": [
            "1\n",
            "2\n",
            "3\n",
            "4\n",
            "\n",
            "The length of this list is: 4\n"
          ]
        }
      ]
    },
    {
      "cell_type": "markdown",
      "source": [
        "## List Methods\n",
        "* .append() - adds an element at the end of the list\n",
        "* .clear() - removes all the elements from the list\n",
        "* .copy() - returns a copy of the list\n",
        "* .count() - returns the number of elements with the specified value\n",
        "* .extend() - adds the elements of a list (or any iterable) to the end of the current list\n",
        "* .index() - returns the index of the first element with the specified value\n",
        "* .insert() - adds an element at the specified position\n",
        "* .pop() - removes the element at the specified position\n",
        "* .remove() - removes the first item with the specified value\n",
        "* .reverse() - reverses the order of the list\n",
        "* .sort() - sorts the list"
      ],
      "metadata": {
        "id": "njox6YYMm_Ie"
      }
    },
    {
      "cell_type": "code",
      "source": [
        "# append() Adds an element at the end of the list\n",
        "\n",
        "days = ['sunday', 'monday']\n",
        "\n",
        "days.append('tuesday')\n",
        "print(days)"
      ],
      "metadata": {
        "colab": {
          "base_uri": "https://localhost:8080/"
        },
        "id": "VKV8kSMCsrEz",
        "outputId": "2a0e54c2-bafd-4384-e410-8e4da1ad26a6"
      },
      "execution_count": 28,
      "outputs": [
        {
          "output_type": "stream",
          "name": "stdout",
          "text": [
            "['sunday', 'monday', 'tuesday']\n"
          ]
        }
      ]
    },
    {
      "cell_type": "code",
      "source": [
        "# clear() Removes all the elements from the list\n",
        "months = ['january', 'february']\n",
        "\n",
        "months.clear()\n",
        "print(months) # outputs '[]' signifying this list is empty"
      ],
      "metadata": {
        "colab": {
          "base_uri": "https://localhost:8080/"
        },
        "id": "TWm0IbKTs65m",
        "outputId": "29c91872-08a0-4603-cab8-b431230f4d12"
      },
      "execution_count": 29,
      "outputs": [
        {
          "output_type": "stream",
          "name": "stdout",
          "text": [
            "[]\n"
          ]
        }
      ]
    },
    {
      "cell_type": "code",
      "source": [
        "# copy() Returns a copy of the list\n",
        "copy_me = [1, 2, 6]\n",
        "\n",
        "new_list = copy_me.copy()\n",
        "print(new_list) # See how new_list has the same values as copy_me"
      ],
      "metadata": {
        "colab": {
          "base_uri": "https://localhost:8080/"
        },
        "id": "Z3z-cf1htHVL",
        "outputId": "dbcfd44a-ed86-4946-b1a7-ff9cf9bd6d0e"
      },
      "execution_count": 30,
      "outputs": [
        {
          "output_type": "stream",
          "name": "stdout",
          "text": [
            "[1, 2, 6]\n"
          ]
        }
      ]
    },
    {
      "cell_type": "code",
      "source": [
        "# count() Returns the number of elements with the specified value\n",
        "three_cheers = ['hooray', 'hooray', 'hooray']\n",
        "\n",
        "# Print out the length of the list and the count of how many 'hooray' values are in the list\n",
        "length_of_list = len(three_cheers)\n",
        "print(f'Length: {length_of_list}')\n",
        "\n",
        "count_of_hooray = three_cheers.count('hooray')\n",
        "print(f'Count of \"hooray\": {count_of_hooray}')\n",
        "\n",
        "# Since both the length and count are 3, lets add a different value (that's not 'hooray') to see the difference.\n",
        "three_cheers.append(\"hello\")\n",
        "print(\"\\n\\nAdded the value 'hello' to the list\\n\\n\")\n",
        "\n",
        "# Print out the NEW length of the list and the count of how many 'hooray' values are in the list\n",
        "length_of_list = len(three_cheers)\n",
        "print(f'Length: {length_of_list}')\n",
        "\n",
        "count_of_hooray = three_cheers.count('hooray')\n",
        "print(f'Count of \"hooray\": {count_of_hooray}')"
      ],
      "metadata": {
        "colab": {
          "base_uri": "https://localhost:8080/"
        },
        "id": "SwE_3ar1tZrq",
        "outputId": "c233d3df-a43a-4819-d0a6-3ea94ac02cd6"
      },
      "execution_count": 40,
      "outputs": [
        {
          "output_type": "stream",
          "name": "stdout",
          "text": [
            "Length: 3\n",
            "Count of \"hooray\": 3\n",
            "\n",
            "\n",
            "Added the value 'hello' to the list\n",
            "\n",
            "\n",
            "Length: 4\n",
            "Count of \"hooray\": 3\n"
          ]
        }
      ]
    },
    {
      "cell_type": "code",
      "source": [
        "# extend() Add the elements of a list (or any iterable), to the end of the current list\n",
        "\n",
        "new_users = ['Sally', 'Mohammad', ]\n",
        "current_users = ['Ted', 'Brad', 'Charlie']\n",
        "\n",
        "print(f'New Users: {new_users}\\nCurrent Users: {current_users}\\n\\n')\n",
        "\n",
        "# We add the new users to the current users list. Now both new_users and current_users have Sally and Mohammad\n",
        "current_users.extend(new_users)\n",
        "\n",
        "print(f\"Current Users: {current_users}\")"
      ],
      "metadata": {
        "colab": {
          "base_uri": "https://localhost:8080/"
        },
        "id": "W0UN1IU0ubie",
        "outputId": "e5dd88f6-0911-4467-9a82-0de65aa70119"
      },
      "execution_count": 43,
      "outputs": [
        {
          "output_type": "stream",
          "name": "stdout",
          "text": [
            "New Users: ['Sally', 'Mohammad']\n",
            "Current Users: ['Ted', 'Brad', 'Charlie']\n",
            "\n",
            "\n",
            "Current Users: ['Ted', 'Brad', 'Charlie', 'Sally', 'Mohammad']\n"
          ]
        }
      ]
    },
    {
      "cell_type": "code",
      "source": [
        "# index() Returns the index of the first element with the specified value\n",
        "\n",
        "cartoons = ['bugs bunny', 'minnie mouse', 'daffy duck']\n",
        "\n",
        "index = cartoons.index('minnie mouse')\n",
        "print(f\"Minnie Mouse Index: {index}\")\n",
        "# index + 1 because the index is zero based\n",
        "print(f\"Minnie Mouse is the {index + 1}nd item in the list\")"
      ],
      "metadata": {
        "colab": {
          "base_uri": "https://localhost:8080/"
        },
        "id": "4_g1k-EHu5xw",
        "outputId": "eeea0869-3776-4dd6-e91d-e7780843eda8"
      },
      "execution_count": 44,
      "outputs": [
        {
          "output_type": "stream",
          "name": "stdout",
          "text": [
            "Minnie Mouse Index: 1\n",
            "Minnie Mouse is the 2nd item in the list\n"
          ]
        }
      ]
    },
    {
      "cell_type": "code",
      "source": [
        "# insert() Adds an element at the specified position\n",
        "\n",
        "coding_language = 'Python'\n",
        "other_languages = ['Javascript', 'Java', 'R']\n",
        "\n",
        "# We insert 'Python' at the \"second\" index\n",
        "other_languages.insert(1, coding_language)\n",
        "print(other_languages)"
      ],
      "metadata": {
        "colab": {
          "base_uri": "https://localhost:8080/"
        },
        "id": "nv0lawQQvYr0",
        "outputId": "2e54a5dc-adb6-4a08-e54e-3d518edfc3b9"
      },
      "execution_count": 46,
      "outputs": [
        {
          "output_type": "stream",
          "name": "stdout",
          "text": [
            "['Javascript', 'Python', 'Java', 'R']\n"
          ]
        }
      ]
    },
    {
      "cell_type": "markdown",
      "source": [
        ".pop() removes by the index\n",
        ".remove() removes by the value"
      ],
      "metadata": {
        "id": "2iLUrQ4AxDxz"
      }
    },
    {
      "cell_type": "code",
      "source": [
        "# pop() Removes the element at the specified position\n",
        "weather = ['sunny', 'rainy', 'mild']\n",
        "\n",
        "# Removes index 1 (\"second\" index which is 'rainy')\n",
        "weather.pop(1)\n",
        "\n",
        "print(weather)"
      ],
      "metadata": {
        "colab": {
          "base_uri": "https://localhost:8080/"
        },
        "id": "0xSe40WBwYFG",
        "outputId": "76368298-4fec-4556-99af-590001f4cf85"
      },
      "execution_count": 48,
      "outputs": [
        {
          "output_type": "stream",
          "name": "stdout",
          "text": [
            "['sunny', 'mild']\n"
          ]
        }
      ]
    },
    {
      "cell_type": "code",
      "source": [
        "# remove() Removes the first item with the specified value\n",
        "\n",
        "movies = ['avengers endgame', 'avengers endgame', 'dune', 'frozen']\n",
        "\n",
        "# Removes (only one of) the values that are 'avengers endgame'\n",
        "movies.remove('avengers endgame')\n",
        "\n",
        "print(movies)"
      ],
      "metadata": {
        "colab": {
          "base_uri": "https://localhost:8080/"
        },
        "id": "Ege1W9Kawu7A",
        "outputId": "c90fb26a-7a89-42e2-9f8e-0d35a6d85719"
      },
      "execution_count": 50,
      "outputs": [
        {
          "output_type": "stream",
          "name": "stdout",
          "text": [
            "['avengers endgame', 'dune', 'frozen']\n"
          ]
        }
      ]
    },
    {
      "cell_type": "code",
      "source": [
        "# reverse() Reverses the order of the list\n",
        "num_list = [1, 2, 3, 4, 5, 6]\n",
        "\n",
        "num_list.reverse()\n",
        "\n",
        "print(num_list)"
      ],
      "metadata": {
        "colab": {
          "base_uri": "https://localhost:8080/"
        },
        "id": "OGj7s6CMxOWG",
        "outputId": "32ac4012-0d0c-4b42-eb38-cf870506e399"
      },
      "execution_count": 52,
      "outputs": [
        {
          "output_type": "stream",
          "name": "stdout",
          "text": [
            "[6, 5, 4, 3, 2, 1]\n"
          ]
        }
      ]
    },
    {
      "cell_type": "markdown",
      "source": [
        ".sort will sort the list that we use the method on.\n",
        "\n",
        "sorted() takes a list as an argument and returns a new sorted list."
      ],
      "metadata": {
        "id": "eLtYriusExOb"
      }
    },
    {
      "cell_type": "code",
      "source": [
        "# sort() Sorts the list\n",
        "\n",
        "letters = ['z', 'b',  'f', 'r']\n",
        "letters.sort()\n",
        "print(letters)\n",
        "\n",
        "nums = [4, 5, 10, 19.8, 1, 1004]\n",
        "nums.sort()\n",
        "print(nums)"
      ],
      "metadata": {
        "colab": {
          "base_uri": "https://localhost:8080/"
        },
        "id": "4m3JuxL-xjSS",
        "outputId": "8e9c0c55-55ef-4823-aa04-0414658f7a6f"
      },
      "execution_count": 53,
      "outputs": [
        {
          "output_type": "stream",
          "name": "stdout",
          "text": [
            "['b', 'f', 'r', 'z']\n",
            "[1, 4, 5, 10, 19.8, 1004]\n"
          ]
        }
      ]
    },
    {
      "cell_type": "code",
      "source": [
        "# sorted() this will return a new list\n",
        "letters = ['z', 'b',  'f', 'r']\n",
        "nums = [4, 5, 10, 19.8, 1, 1004]\n",
        "\n",
        "new_letters = sorted(letters)\n",
        "new_nums = sorted(nums)\n",
        "\n",
        "print(new_letters)\n",
        "print(new_nums)"
      ],
      "metadata": {
        "colab": {
          "base_uri": "https://localhost:8080/"
        },
        "id": "e8zaRa1zsJG2",
        "outputId": "1d079c74-3cdf-49bf-ab7a-c65cd3a22a36"
      },
      "execution_count": 55,
      "outputs": [
        {
          "output_type": "stream",
          "name": "stdout",
          "text": [
            "['b', 'f', 'r', 'z']\n",
            "[1, 4, 5, 10, 19.8, 1004]\n"
          ]
        }
      ]
    },
    {
      "cell_type": "code",
      "source": [
        "'''\n",
        "Write a while true loop that will keep asking the day of the week until you type in Wednesday\n",
        "'''\n",
        "\n",
        "while True:\n",
        "  # Notice that we use .lower to make sure every letter in the string is set lowercase - this helps with the conditional\n",
        "  user = input(\"What day is today?: \").lower()\n",
        "  # Check if the user input (lowercase) is Wednesday. If so, break out of the loop.\n",
        "  if (user == 'wednesday'):\n",
        "    break\n",
        "  else:\n",
        "    print(f\"Happy {user}\")\n",
        "\n"
      ],
      "metadata": {
        "colab": {
          "base_uri": "https://localhost:8080/"
        },
        "id": "FB0dAUILn3Nv",
        "outputId": "cadab0af-7106-4cba-a5f2-8a03b2fcad1f"
      },
      "execution_count": 9,
      "outputs": [
        {
          "name": "stdout",
          "output_type": "stream",
          "text": [
            "What day is today?: Monday\n",
            "Happy monday\n",
            "What day is today?: Tuesday\n",
            "Happy tuesday\n",
            "What day is today?: Wednesday\n"
          ]
        }
      ]
    },
    {
      "cell_type": "code",
      "source": [
        "# As you can see here, a list can hold any data type as an item in the list. Even another list.\n",
        "i_can_hold_anything = [1, 'cosmos', True, ['blue', 'green', 'red'], {'south', 'east', 5}, {\"firstname\":'Sonia'}]\n",
        "\n",
        "for item in i_can_hold_anything:\n",
        "  print(f\"Index {i_can_hold_anything.index(item)}: {item} Type: {type(item)} \")"
      ],
      "metadata": {
        "colab": {
          "base_uri": "https://localhost:8080/"
        },
        "id": "EFEhdmkHqI-C",
        "outputId": "1a8faa5b-ddb1-4b0e-be71-4afdbdd4f6e7"
      },
      "execution_count": 12,
      "outputs": [
        {
          "output_type": "stream",
          "name": "stdout",
          "text": [
            "Index 0: 1 Type: <class 'int'> \n",
            "Index 1: cosmos Type: <class 'str'> \n",
            "Index 0: True Type: <class 'bool'> \n",
            "Index 3: ['blue', 'green', 'red'] Type: <class 'list'> \n",
            "Index 4: {5, 'east', 'south'} Type: <class 'set'> \n",
            "Index 5: {'firstname': 'Sonia'} Type: <class 'dict'> \n"
          ]
        }
      ]
    },
    {
      "cell_type": "code",
      "source": [
        "# We can change the value of an individual index - This case is that mercedes is spelled wrong\n",
        "cars = ['honda', 'ford', 'toyota', 'mersedes'] # mersedes is spelled wrong\n",
        "\n",
        "# Overwrite the value of index 3\n",
        "cars[3] = 'mercedes'\n",
        "print(cars)"
      ],
      "metadata": {
        "colab": {
          "base_uri": "https://localhost:8080/"
        },
        "id": "HXoXmXEDqxg-",
        "outputId": "526ad779-b472-405a-a808-891c9df56227"
      },
      "execution_count": 27,
      "outputs": [
        {
          "output_type": "stream",
          "name": "stdout",
          "text": [
            "['honda', 'ford', 'toyota', 'mercedes']\n"
          ]
        }
      ]
    },
    {
      "cell_type": "code",
      "source": [
        "'''Exercise\n",
        "\n",
        "Create a for loop that goes through a list and prints each item in the list, along with its index. (Hint: Create a separate counter variable to keep track of the index.)\n",
        "\n",
        "Example:\n",
        "planets = [\"mercury\", \"venus\", \"earth\", \"mars\"]\n",
        "0: mercury, 1: venus, 2: earth, 3: mars\n",
        "'''\n",
        "\n",
        "planets = [\"mercury\", \"venus\", \"earth\", \"mars\"]\n",
        "\n",
        "for planet in planets:\n",
        "  # Using the .index() function (w/ the planet being the iterating value)\n",
        "  index_of_planet = planets.index(planet)\n",
        "  print(f'Index {index_of_planet}: {planet}')"
      ],
      "metadata": {
        "colab": {
          "base_uri": "https://localhost:8080/"
        },
        "id": "uliVWrk8yPJz",
        "outputId": "b6eebc74-67e3-4eb7-c37a-8a1fc4e06361"
      },
      "execution_count": 57,
      "outputs": [
        {
          "output_type": "stream",
          "name": "stdout",
          "text": [
            "Index 0: mercury\n",
            "Index 1: venus\n",
            "Index 2: earth\n",
            "Index 3: mars\n"
          ]
        }
      ]
    },
    {
      "cell_type": "code",
      "source": [
        "'''Exercise\n",
        "\n",
        "Write some code that takes one list and creates a second list that has the type for each entry in the list. Hint: Use the type() function and a for loop\n",
        "\n",
        "Optional:\n",
        "Make sure you filter out any repeats.\n",
        "\n",
        "'''\n",
        "\n",
        "old_list = ['Wednesday','Thursday', 'Friday', True, ['blue', 'green', 'red'], {\"First Name\": \"Michelle\"}, 12.23, {'Sunday', 'Monday', 'Tuesday'}, (1, 2, 3, 4, 5)]\n",
        "# New list that will hold types\n",
        "new_list = []\n",
        "# For every item in the old list\n",
        "for item in old_list:\n",
        "  # Get the type of the item\n",
        "  item_type = type(item)\n",
        "  # If the item type isn't in the new list already,\n",
        "  if item_type not in new_list:\n",
        "    # Add the item type to the new list\n",
        "    new_list.append(item_type)\n",
        "  # If the item is in the new list that's a repeat, so we don't add it to the new list\n",
        "# Once we go through each item of the old list, print out the new list\n",
        "# No indent on this line\n",
        "print(new_list)"
      ],
      "metadata": {
        "colab": {
          "base_uri": "https://localhost:8080/"
        },
        "id": "Xpz_SmqQy7HN",
        "outputId": "bc055bc2-cbaf-4bcc-e66c-96ae8c54b7a9"
      },
      "execution_count": 75,
      "outputs": [
        {
          "output_type": "stream",
          "name": "stdout",
          "text": [
            "[<class 'str'>, <class 'bool'>, <class 'list'>, <class 'dict'>, <class 'float'>, <class 'set'>, <class 'tuple'>]\n"
          ]
        }
      ]
    },
    {
      "cell_type": "code",
      "source": [
        "'''\n",
        "Exercise: List of Pets\n",
        "\n",
        "You want to make a list containing the names of pets. Keep prompting the user for a pet name until they enter \"stop\". If it's a new pet, add it to the list. If the list already has that pet, don't add it.\n",
        "\n",
        "'''\n",
        "# Initialize a list of pets as an empty list\n",
        "pets = []\n",
        "# While True to keep looping until we break out of the loop\n",
        "while True:\n",
        "  # Get the input from the user\n",
        "  user = input(\"Enter a pet: \")\n",
        "\n",
        "  # If the user input (in all lowercase) is 'stop', ...\n",
        "  if (user.lower() == 'stop'):\n",
        "    # Then lets break out of the while True loop\n",
        "    break\n",
        "  # If the user input (in all lowercase) isn't 'stop', ...\n",
        "  else:\n",
        "    # and if the user input is not already in the list of pets, ...\n",
        "    if (user.lower() not in pets):\n",
        "      # add the user input into the list of pets using .append()\n",
        "      pets.append(user.lower())\n",
        "      # Just so we can see the addition, lets print out the list after every append\n",
        "      print(pets)\n",
        "    # If the user input is not stop and is already part of the list of pets, ...\n",
        "    else:\n",
        "      # Print an error message saying try again\n",
        "      print(f\"{user} is already in the list! Try again\")\n",
        "      continue\n",
        "\n",
        "# Once the user inputs 'stop' to break out of the list, print the final list of pets\n",
        "print(f\"Final list of pets: {pets}\")"
      ],
      "metadata": {
        "colab": {
          "base_uri": "https://localhost:8080/"
        },
        "id": "8sKAd7ec9Unn",
        "outputId": "4c98becb-8ef7-410b-d7e8-77c6d56fcf61"
      },
      "execution_count": 79,
      "outputs": [
        {
          "output_type": "stream",
          "name": "stdout",
          "text": [
            "Enter a pet: DOG\n",
            "['dog']\n",
            "Enter a pet: CaT\n",
            "['dog', 'cat']\n",
            "Enter a pet: cat\n",
            "cat is already in the list! Try again\n",
            "Enter a pet: dog\n",
            "dog is already in the list! Try again\n",
            "Enter a pet: MoUsE\n",
            "['dog', 'cat', 'mouse']\n",
            "Enter a pet: mouse\n",
            "mouse is already in the list! Try again\n",
            "Enter a pet: stop\n",
            "Final list of pets: ['dog', 'cat', 'mouse']\n"
          ]
        }
      ]
    },
    {
      "cell_type": "code",
      "source": [
        "'''\n",
        "Example: Removing Values\n",
        "You have a list of numbers, but it contains multiple of the number 2. Remove the number 2 until it only appears in the list once.\n",
        "\n",
        "'''\n",
        "\n",
        "removing_values = [1, 2, 3, 2, 2, 3, 4, 5, 6, 2, 2, 2, 2, 2, 1, 1, 5, 6, 5]\n",
        "\n",
        "while (removing_values.count(2) != 1):\n",
        "  removing_values.remove(2)\n",
        "\n",
        "print(removing_values)"
      ],
      "metadata": {
        "colab": {
          "base_uri": "https://localhost:8080/"
        },
        "id": "tgbVpsy7AvYI",
        "outputId": "1781768f-b323-4868-ecfc-9956c0bf6e62"
      },
      "execution_count": 80,
      "outputs": [
        {
          "output_type": "stream",
          "name": "stdout",
          "text": [
            "[1, 3, 3, 4, 5, 6, 2, 1, 1, 5, 6, 5]\n"
          ]
        }
      ]
    },
    {
      "cell_type": "code",
      "source": [
        "'''\n",
        "\n",
        "Exercise: Removing All Duplicates\n",
        "You have a list storing important data for your company, but it contains some duplicate entries. Go through your list and remove all the duplicates. When you're done, each item should appear in the list exactly once.\n",
        "Hint: How would you expand our previous example, which removed duplicates of one value, to remove duplicates of all values?\n",
        "Hint 2: You might want to make a copy of the original list to use as reference. You may want to use more than one loop.\n",
        "\n",
        "'''\n",
        "\n",
        "# original list\n",
        "states = ['alaska', 'alaska', 'alaska', 'alabama', 'alabama', 'new york', 'new york', 'new york']\n",
        "\n",
        "# Adding the .copy() to the states list updates the list - and that's necessary when we use .remove()\n",
        "for item in states.copy():\n",
        "  # Just so we know what we are looking at every loop, lets print the index and the value\n",
        "  print(f'Index {states.index(item)}: {item}')\n",
        "\n",
        "  # Get the count of the item in the list\n",
        "  item_count = states.count(item)\n",
        "  print(f\"Item count: {item_count}\\n\\n\")\n",
        "\n",
        "  # If the count is greater than 1 (meaning there are duplicates), then remove the item\n",
        "  if item_count > 1:\n",
        "    states.remove(item)\n",
        "\n",
        "# Once we iterate through all the indexes of the list, we will have a version of the list with only unique values (no repeats)\n",
        "print(f'Final list of states: {states}')"
      ],
      "metadata": {
        "colab": {
          "base_uri": "https://localhost:8080/"
        },
        "id": "zQAgvzB8BEf0",
        "outputId": "85ec8d0c-3fd5-4bca-c0e4-8eab2a7a7113"
      },
      "execution_count": 88,
      "outputs": [
        {
          "output_type": "stream",
          "name": "stdout",
          "text": [
            "Index 0: alaska\n",
            "Item count: 3\n",
            "\n",
            "\n",
            "Index 0: alaska\n",
            "Item count: 2\n",
            "\n",
            "\n",
            "Index 0: alaska\n",
            "Item count: 1\n",
            "\n",
            "\n",
            "Index 1: alabama\n",
            "Item count: 2\n",
            "\n",
            "\n",
            "Index 1: alabama\n",
            "Item count: 1\n",
            "\n",
            "\n",
            "Index 2: new york\n",
            "Item count: 3\n",
            "\n",
            "\n",
            "Index 2: new york\n",
            "Item count: 2\n",
            "\n",
            "\n",
            "Index 2: new york\n",
            "Item count: 1\n",
            "\n",
            "\n",
            "Final list of states: ['alaska', 'alabama', 'new york']\n"
          ]
        }
      ]
    },
    {
      "cell_type": "code",
      "source": [
        "# Another way we can do this.\n",
        "# Sets are like lists but with a few more specific rules\n",
        "# One rule of sets is that there can't be any repeating values\n",
        "\n",
        "states = ['alaska', 'alaska', 'alaska', 'alabama', 'alabama', 'new york', 'new york', 'new york']\n",
        "# We can type cast the list into a set to remove the repeating values\n",
        "set_states = set(states)\n",
        "print(set_states)\n",
        "\n",
        "# Then we can type cast the set back into a list\n",
        "new_list = list(set_states)\n",
        "print(new_list)"
      ],
      "metadata": {
        "colab": {
          "base_uri": "https://localhost:8080/"
        },
        "id": "tKnaskCDKm1J",
        "outputId": "d64cbaee-b480-455a-f6c0-0514459ded5a"
      },
      "execution_count": 91,
      "outputs": [
        {
          "output_type": "stream",
          "name": "stdout",
          "text": [
            "{'new york', 'alabama', 'alaska'}\n",
            "['new york', 'alabama', 'alaska']\n"
          ]
        }
      ]
    }
  ]
}