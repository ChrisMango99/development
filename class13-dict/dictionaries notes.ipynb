{
  "nbformat": 4,
  "nbformat_minor": 0,
  "metadata": {
    "colab": {
      "provenance": []
    },
    "kernelspec": {
      "name": "python3",
      "display_name": "Python 3"
    },
    "language_info": {
      "name": "python"
    }
  },
  "cells": [
    {
      "cell_type": "markdown",
      "source": [
        "# Dictionaries\n",
        "* A collection of keys and values\n",
        "* Think of it as a dictionary\n",
        "  * A key is the term\n",
        "  * A value is the definition\n",
        "\n",
        "## Dictionary Methods\n",
        "* .keys() - returns a list of the dictionary keys\n",
        "* .values() - returns a list of the dictionary values\n",
        "* .clear() - removes all elements from the dictionary\n",
        "* .copy() - returns a copy of the dictionary\n",
        "* .pop() - removes the last inserted key-value pair\n",
        "* .popitem() - removes the last inserted key-value pair\n",
        "* .items() - returns a list containing a tuple for each key-value pair\n",
        "* .update() - update the dictionary with the specified key-value pairs"
      ],
      "metadata": {
        "id": "L36y5qhD0K3N"
      }
    },
    {
      "cell_type": "code",
      "execution_count": 2,
      "metadata": {
        "colab": {
          "base_uri": "https://localhost:8080/"
        },
        "id": "h1fDzaT6nN_1",
        "outputId": "b409ed59-3685-498b-aa5b-35ac8451c77a"
      },
      "outputs": [
        {
          "output_type": "stream",
          "name": "stdout",
          "text": [
            "d d\n"
          ]
        }
      ],
      "source": [
        "list1 = ['a', 'b', 'c', 'd', 'e']\n",
        "dict1 = {0: 'a', 1: 'b', 2: 'c', 3: 'd', 4: 'e'}\n",
        "\n",
        "print(list1[3], dict1[3])"
      ]
    },
    {
      "cell_type": "code",
      "source": [
        "list1[3] = 'z'\n",
        "dict1[3] = 'z'\n",
        "print(list1)\n",
        "print(dict1)"
      ],
      "metadata": {
        "colab": {
          "base_uri": "https://localhost:8080/"
        },
        "id": "92vukKhw2CuR",
        "outputId": "6a36da8a-d62b-471e-f4eb-0458397e4fc0"
      },
      "execution_count": 3,
      "outputs": [
        {
          "output_type": "stream",
          "name": "stdout",
          "text": [
            "['a', 'b', 'c', 'z', 'e']\n",
            "{0: 'a', 1: 'b', 2: 'c', 3: 'z', 4: 'e'}\n"
          ]
        }
      ]
    },
    {
      "cell_type": "code",
      "source": [
        "# How do we create a dictionary?\n",
        "\n",
        "user_data = {\n",
        "    \"user_id\": 400,\n",
        "    \"f_name\": \"Fritz\"\n",
        "}\n",
        "\n",
        "print(type(user_data))\n",
        "print(user_data)"
      ],
      "metadata": {
        "colab": {
          "base_uri": "https://localhost:8080/"
        },
        "id": "b1mbctZI3Meg",
        "outputId": "cbaced53-24bb-44ae-cff7-0322a02dae36"
      },
      "execution_count": 5,
      "outputs": [
        {
          "output_type": "stream",
          "name": "stdout",
          "text": [
            "<class 'dict'>\n",
            "{'user_id': 400, 'f_name': 'Fritz'}\n"
          ]
        }
      ]
    },
    {
      "cell_type": "code",
      "source": [
        "# Bracket notation - we can grab the value by referencing the key\n",
        "user_id = user_data['user_id']\n",
        "print(user_id)\n",
        "f_name = user_data['f_name']\n",
        "print(f_name)"
      ],
      "metadata": {
        "colab": {
          "base_uri": "https://localhost:8080/"
        },
        "id": "Jcududg_3TI0",
        "outputId": "c517cb23-5894-43e8-f525-9681c981d694"
      },
      "execution_count": 7,
      "outputs": [
        {
          "output_type": "stream",
          "name": "stdout",
          "text": [
            "400\n",
            "Fritz\n"
          ]
        }
      ]
    },
    {
      "cell_type": "code",
      "source": [
        "# Add new key/value pair\n",
        "user_data['address'] = \"123 Elm Street\"\n",
        "print(user_data)"
      ],
      "metadata": {
        "colab": {
          "base_uri": "https://localhost:8080/"
        },
        "id": "FGngnG3s316o",
        "outputId": "63d00395-5eed-40d3-95e5-e670db6982ae"
      },
      "execution_count": 9,
      "outputs": [
        {
          "output_type": "stream",
          "name": "stdout",
          "text": [
            "{'user_id': 400, 'f_name': 'Fritz', 'address': '123 Elm Street'}\n"
          ]
        }
      ]
    },
    {
      "cell_type": "code",
      "source": [
        "# lets look at all the methods available to us\n",
        "print(dir(dict))"
      ],
      "metadata": {
        "colab": {
          "base_uri": "https://localhost:8080/"
        },
        "id": "wv1QIk4K4NOr",
        "outputId": "f6a14cd7-b3a1-41ec-ceb9-fb891d174e8f"
      },
      "execution_count": 14,
      "outputs": [
        {
          "output_type": "stream",
          "name": "stdout",
          "text": [
            "['__class__', '__class_getitem__', '__contains__', '__delattr__', '__delitem__', '__dir__', '__doc__', '__eq__', '__format__', '__ge__', '__getattribute__', '__getitem__', '__gt__', '__hash__', '__init__', '__init_subclass__', '__ior__', '__iter__', '__le__', '__len__', '__lt__', '__ne__', '__new__', '__or__', '__reduce__', '__reduce_ex__', '__repr__', '__reversed__', '__ror__', '__setattr__', '__setitem__', '__sizeof__', '__str__', '__subclasshook__', 'clear', 'copy', 'fromkeys', 'get', 'items', 'keys', 'pop', 'popitem', 'setdefault', 'update', 'values']\n"
          ]
        }
      ]
    },
    {
      "cell_type": "code",
      "source": [
        "# lets try one\n",
        "\n",
        "print(user_data.__contains__(\"user_id\"))\n",
        "print(user_data.__contains__(\"username\"))"
      ],
      "metadata": {
        "colab": {
          "base_uri": "https://localhost:8080/"
        },
        "id": "bf2XHGcZ4O5K",
        "outputId": "3cf112fc-65d5-4ad0-acba-01634b9dda5f"
      },
      "execution_count": 15,
      "outputs": [
        {
          "output_type": "stream",
          "name": "stdout",
          "text": [
            "True\n",
            "False\n"
          ]
        }
      ]
    },
    {
      "cell_type": "code",
      "source": [
        "# Dict constructor\n",
        "\n",
        "new_dict = dict()\n",
        "# new_dict = {}"
      ],
      "metadata": {
        "id": "sUVMypbS4QTz"
      },
      "execution_count": null,
      "outputs": []
    },
    {
      "cell_type": "code",
      "source": [
        "# Let's update our name key\n",
        "\n",
        "user_data = dict(user_id = 400, f_name = 'Daisy')\n",
        "print(user_data.values())"
      ],
      "metadata": {
        "colab": {
          "base_uri": "https://localhost:8080/"
        },
        "id": "M36HLIcG4SzN",
        "outputId": "96d8595e-6f65-4f03-b5e3-b01b6c25dbee"
      },
      "execution_count": 17,
      "outputs": [
        {
          "output_type": "stream",
          "name": "stdout",
          "text": [
            "dict_values([400, 'Daisy'])\n"
          ]
        }
      ]
    },
    {
      "cell_type": "code",
      "source": [
        "# Lets use the keys methods to get the keys from this dictionary\n",
        "dog = {\n",
        "    \"breed\": \"japanese chin\",\n",
        "    \"gender\": \"female\",\n",
        "    \"age\": 7\n",
        "}\n",
        "\n",
        "# Let's look at our keys\n",
        "print(f'The keys for the dog dictionary are {dog.keys()}')\n",
        "\n",
        "# or set it as a variable?\n",
        "dog_info = dog.keys()\n",
        "print(dog_info)"
      ],
      "metadata": {
        "colab": {
          "base_uri": "https://localhost:8080/"
        },
        "id": "PZRXpmyJ3FX7",
        "outputId": "33214be2-db66-49da-9ee8-88597337d4d5"
      },
      "execution_count": 19,
      "outputs": [
        {
          "output_type": "stream",
          "name": "stdout",
          "text": [
            "The keys for the dog dictionary are dict_keys(['breed', 'gender', 'age'])\n",
            "dict_keys(['breed', 'gender', 'age'])\n"
          ]
        }
      ]
    },
    {
      "cell_type": "code",
      "source": [
        "# Lets look at our values\n",
        "print(f'The values for the dog dictionary are {dog.values()}')\n",
        "\n",
        "# or set to a variable\n",
        "values = dog.values()\n",
        "print(values)"
      ],
      "metadata": {
        "colab": {
          "base_uri": "https://localhost:8080/"
        },
        "id": "YOMj_Vcm64Qj",
        "outputId": "174015fa-aeb0-4b39-9559-216249bdd4d0"
      },
      "execution_count": 20,
      "outputs": [
        {
          "output_type": "stream",
          "name": "stdout",
          "text": [
            "The values for the dog dictionary are dict_values(['japanese chin', 'female', 7])\n",
            "dict_values(['japanese chin', 'female', 7])\n"
          ]
        }
      ]
    },
    {
      "cell_type": "code",
      "source": [
        "# Lets use clear method to remove all elements\n",
        "print(dog)\n",
        "dog.clear()\n",
        "print(dog)"
      ],
      "metadata": {
        "colab": {
          "base_uri": "https://localhost:8080/"
        },
        "id": "h8xgKmRP7D4c",
        "outputId": "f4ca00fc-e2be-49a2-9a35-e498a0dbcac3"
      },
      "execution_count": 21,
      "outputs": [
        {
          "output_type": "stream",
          "name": "stdout",
          "text": [
            "{'breed': 'japanese chin', 'gender': 'female', 'age': 7}\n",
            "{}\n"
          ]
        }
      ]
    },
    {
      "cell_type": "code",
      "source": [
        "dog = {\n",
        "    \"breed\": \"japanese chin\",\n",
        "    \"gender\": \"female\",\n",
        "    \"age\": 7\n",
        "}\n",
        "#  lets look at one of the parameters to show an error if the key doesnt exist\n",
        "print(dog.get('age'))\n",
        "print(dog.get('temperament'))\n",
        "print(dog.get('temperament', 'Key does not exist in dictionary'))"
      ],
      "metadata": {
        "colab": {
          "base_uri": "https://localhost:8080/"
        },
        "id": "gyfVnuZY7LjA",
        "outputId": "26227964-bb1e-4be9-f272-0cd652bd2279"
      },
      "execution_count": 70,
      "outputs": [
        {
          "output_type": "stream",
          "name": "stdout",
          "text": [
            "7\n",
            "None\n",
            "Key does not exist in dictionary\n"
          ]
        }
      ]
    },
    {
      "cell_type": "code",
      "source": [
        "# Making a copy of a Dictionary\n",
        "new_dog = dog.copy()\n",
        "# Here we are effecting the original not the copy\n",
        "dog['breed'] = 'Golden Retriever'\n",
        "\n",
        "print(f\"Original Dictionary: {dog}\\nCopy of Original Dictionary: {new_dog}\")"
      ],
      "metadata": {
        "colab": {
          "base_uri": "https://localhost:8080/"
        },
        "id": "awInGnIR_YRs",
        "outputId": "582136d4-050c-4f32-8394-75daca8115cc"
      },
      "execution_count": 71,
      "outputs": [
        {
          "output_type": "stream",
          "name": "stdout",
          "text": [
            "Original Dictionary: {'breed': 'Golden Retriever', 'gender': 'female', 'age': 7}\n",
            "Copy of Original Dictionary: {'breed': 'japanese chin', 'gender': 'female', 'age': 7}\n"
          ]
        }
      ]
    },
    {
      "cell_type": "code",
      "source": [
        "# Popping a specific item from the dictionary\n",
        "breed = dog.pop('breed')\n",
        "print(breed)\n",
        "print(dog)"
      ],
      "metadata": {
        "colab": {
          "base_uri": "https://localhost:8080/"
        },
        "id": "i5VX5e2EACxO",
        "outputId": "0e6c6ddb-e2dd-40bd-ee70-53cba0abe982"
      },
      "execution_count": 72,
      "outputs": [
        {
          "output_type": "stream",
          "name": "stdout",
          "text": [
            "Golden Retriever\n",
            "{'gender': 'female', 'age': 7}\n"
          ]
        }
      ]
    },
    {
      "cell_type": "code",
      "source": [
        "# Popping the last item of a dictionary\n",
        "age = dog.popitem()\n",
        "print(age)\n",
        "print(dog)"
      ],
      "metadata": {
        "colab": {
          "base_uri": "https://localhost:8080/"
        },
        "id": "WQRmgHxDAQCO",
        "outputId": "0936e51a-752a-4125-bd94-3c7aa147d2ec"
      },
      "execution_count": 73,
      "outputs": [
        {
          "output_type": "stream",
          "name": "stdout",
          "text": [
            "('age', 7)\n",
            "{'gender': 'female'}\n"
          ]
        }
      ]
    },
    {
      "cell_type": "code",
      "source": [
        "# Get a list with each key-value pair with items\n",
        "dog = {\n",
        "    \"breed\": \"japanese chin\",\n",
        "    \"gender\": \"male\",\n",
        "    \"age\": 7\n",
        "}\n",
        "keyvalue_list = dog.items()\n",
        "print(keyvalue_list)"
      ],
      "metadata": {
        "colab": {
          "base_uri": "https://localhost:8080/"
        },
        "id": "VHplcBVwA8Bt",
        "outputId": "155ef7df-07b3-4b63-897f-70eb024b303b"
      },
      "execution_count": 74,
      "outputs": [
        {
          "output_type": "stream",
          "name": "stdout",
          "text": [
            "dict_items([('breed', 'japanese chin'), ('gender', 'male'), ('age', 7)])\n"
          ]
        }
      ]
    },
    {
      "cell_type": "code",
      "source": [
        "# we can loop through\n",
        "for key, value in dog.items():\n",
        "  print(key, value)"
      ],
      "metadata": {
        "colab": {
          "base_uri": "https://localhost:8080/"
        },
        "id": "7Pd9gCsmBRKa",
        "outputId": "bd29f996-da0b-48a7-b1f6-421fc91ad439"
      },
      "execution_count": 75,
      "outputs": [
        {
          "output_type": "stream",
          "name": "stdout",
          "text": [
            "breed japanese chin\n",
            "gender male\n",
            "age 7\n"
          ]
        }
      ]
    },
    {
      "cell_type": "code",
      "source": [
        "# Update Dictionary\n",
        "dog.update({'temperament': \"happy\"})\n",
        "print(dog)"
      ],
      "metadata": {
        "colab": {
          "base_uri": "https://localhost:8080/"
        },
        "id": "1tnPhI_IBulN",
        "outputId": "a9e008ee-e3f5-4348-b4b6-bdaa95fccb5d"
      },
      "execution_count": 76,
      "outputs": [
        {
          "output_type": "stream",
          "name": "stdout",
          "text": [
            "{'breed': 'japanese chin', 'gender': 'male', 'age': 7, 'temperament': 'happy'}\n"
          ]
        }
      ]
    },
    {
      "cell_type": "code",
      "source": [
        "# Updating in different ways\n",
        "# All of the ways also can be used to create new key value pairs\n",
        "size = {\"size\": \"small\"}\n",
        "dog.update(size)\n",
        "print(dog)\n",
        "\n",
        "dog.update({'size': 'medium'})\n",
        "print(dog)\n",
        "\n",
        "dog['size'] = 'large'\n",
        "print(dog)"
      ],
      "metadata": {
        "colab": {
          "base_uri": "https://localhost:8080/"
        },
        "id": "QXR8pja2CQFc",
        "outputId": "c68c4cd2-6b5f-4e22-f182-9be5cbfb5226"
      },
      "execution_count": 78,
      "outputs": [
        {
          "output_type": "stream",
          "name": "stdout",
          "text": [
            "{'breed': 'japanese chin', 'gender': 'male', 'age': 7, 'temperament': 'happy', 'size': 'small'}\n",
            "{'breed': 'japanese chin', 'gender': 'male', 'age': 7, 'temperament': 'happy', 'size': 'medium'}\n",
            "{'breed': 'japanese chin', 'gender': 'male', 'age': 7, 'temperament': 'happy', 'size': 'large'}\n"
          ]
        }
      ]
    },
    {
      "cell_type": "code",
      "source": [
        "'''\n",
        "Example: Write some code that takes two lists and converts them into one dictionary.\n",
        "'''\n",
        "# The 2 given lists\n",
        "list1 = ['one', 'two', 'three']\n",
        "list2 = [4, 10, 30]\n",
        "# Create an empty dictionary to add key value pair into\n",
        "dict1 = {}\n",
        "\n",
        "# using a range to iterate through the lists as an index and not a value of either list\n",
        "for i in range(len(list1)):\n",
        "  # set the value from list1 as the key and the value from list2 as the value of the corresponding key\n",
        "  dict1[list1[i]] = list2[i]\n",
        "\n",
        "# Finally print the resulting dictionary\n",
        "print(dict1)"
      ],
      "metadata": {
        "colab": {
          "base_uri": "https://localhost:8080/"
        },
        "id": "8KsaZDTj2HOL",
        "outputId": "b9e59c0e-8385-411b-a67e-12f871323100"
      },
      "execution_count": 79,
      "outputs": [
        {
          "output_type": "stream",
          "name": "stdout",
          "text": [
            "{'one': 4, 'two': 10, 'three': 30}\n"
          ]
        }
      ]
    },
    {
      "cell_type": "code",
      "source": [
        "# Theres a more efficient way to do this\n",
        "# The zip() function allows you to pair two or more datasets\n",
        "\n",
        "# We have to set the datatype as dict so the zip knows how to format it\n",
        "dict2 = dict(zip(list1, list2))\n",
        "print(dict2)"
      ],
      "metadata": {
        "colab": {
          "base_uri": "https://localhost:8080/"
        },
        "id": "_hkKCLC4GgJz",
        "outputId": "65a82db1-8bc2-426e-c685-1681f175e4ec"
      },
      "execution_count": 81,
      "outputs": [
        {
          "output_type": "stream",
          "name": "stdout",
          "text": [
            "{'one': 4, 'two': 10, 'three': 30}\n"
          ]
        }
      ]
    },
    {
      "cell_type": "code",
      "source": [
        "'''\n",
        "Exercise\n",
        "\n",
        "Write a dictionary that five countries and their languages Then have your code print the languages of each country one at a time.\n",
        "Hint: Use the items() method\n",
        "\n",
        "\n",
        "'''\n",
        "languages = { 'USA': 'English', 'Mexico': 'Spanish', 'France': 'French', 'Portugal':'Portugese', 'Belgium':'Dutch' }\n",
        "\n",
        "for country, language in languages.items():\n",
        "  print(f\"The language of {country} is {language}\")"
      ],
      "metadata": {
        "colab": {
          "base_uri": "https://localhost:8080/"
        },
        "id": "6hjtXIsm25as",
        "outputId": "9637094d-b992-489e-8dbb-51fbdea0e2cf"
      },
      "execution_count": 83,
      "outputs": [
        {
          "output_type": "stream",
          "name": "stdout",
          "text": [
            "The language of USA is English\n",
            "The language of Mexico is Spanish\n",
            "The language of France is French\n",
            "The language of Portugal is Portugese\n",
            "The language of Belgium is Dutch\n"
          ]
        }
      ]
    },
    {
      "cell_type": "code",
      "source": [
        "# As datasets, we can use bracket notation\n",
        "choices = {\"flavors\":['strawberry', 'vanilla', 'orange'],\n",
        "           \"sizes\":['large', 'medium', 'small']}\n",
        "\n",
        "strawberry = choices['flavors'][0]\n",
        "vanilla = choices['flavors'][1]\n",
        "orange = choices['flavors'][2]\n",
        "\n",
        "large = choices['sizes'][0]\n",
        "medium = choices['sizes'][1]\n",
        "small = choices['sizes'][2]\n",
        "\n",
        "print(orange, vanilla, strawberry)\n",
        "print(small, medium, large)"
      ],
      "metadata": {
        "colab": {
          "base_uri": "https://localhost:8080/"
        },
        "id": "6EzvmnVaH-ep",
        "outputId": "d8676e65-89fb-4be1-d06e-fa79756a4b33"
      },
      "execution_count": 86,
      "outputs": [
        {
          "output_type": "stream",
          "name": "stdout",
          "text": [
            "orange vanilla strawberry\n",
            "small medium large\n"
          ]
        }
      ]
    },
    {
      "cell_type": "markdown",
      "source": [
        "## Pandas Example"
      ],
      "metadata": {
        "id": "M4b4eEx6JJMX"
      }
    },
    {
      "cell_type": "code",
      "source": [
        "import pandas as pd\n",
        "\n",
        "choices.update({\"region\": [\"central asia\", \"south america\", \"united states\"]})\n",
        "\n",
        "choices_df = pd.DataFrame(choices)\n",
        "print(choices_df)"
      ],
      "metadata": {
        "colab": {
          "base_uri": "https://localhost:8080/"
        },
        "id": "-o-L8zuRJLkH",
        "outputId": "8f7d5e4a-f95b-4550-c964-3eb9fa98157d"
      },
      "execution_count": 88,
      "outputs": [
        {
          "output_type": "stream",
          "name": "stdout",
          "text": [
            "      flavors   sizes         region\n",
            "0  strawberry   large   central asia\n",
            "1     vanilla  medium  south america\n",
            "2      orange   small  united states\n"
          ]
        }
      ]
    },
    {
      "cell_type": "code",
      "source": [
        "'''\n",
        "In statistics, the mode is the value that appears most frequently in a dataset.\n",
        "For example, in this list: [1,2,4,1,3,4,1,1] the mode is 1\n",
        "Write some code that uses a dictionary to calculate the mode of a list.\n",
        "\n",
        "'''\n",
        "\n",
        "my_list_items = [1,2,4,1,3,4,1,1] # our list\n",
        "\n",
        "\n",
        "output = {}\n",
        "\n",
        "for m in my_list_items:\n",
        "  if m not in output:\n",
        "    output[m] = 1\n",
        "  else:\n",
        "    output[m] += 1\n",
        "\n",
        "print(output)\n",
        "\n",
        "# We can also use the .count() function\n",
        "for m in my_list_items:\n",
        "  output[m] = my_list_items.count(m)\n",
        "print(output)"
      ],
      "metadata": {
        "colab": {
          "base_uri": "https://localhost:8080/"
        },
        "id": "xTHvua4JLNyl",
        "outputId": "454b2d4d-2cfb-4e44-aa89-423e5abe3a7a"
      },
      "execution_count": 90,
      "outputs": [
        {
          "output_type": "stream",
          "name": "stdout",
          "text": [
            "{1: 4, 2: 1, 4: 2, 3: 1}\n",
            "{1: 4, 2: 1, 4: 2, 3: 1}\n"
          ]
        }
      ]
    },
    {
      "cell_type": "code",
      "source": [
        "# In normal professional coding situations, we would use a library to do the work for us for efficiency\n",
        "from statistics import mode\n",
        "result = mode(my_list_items)\n",
        "print(f\"The modes is {result}\")"
      ],
      "metadata": {
        "colab": {
          "base_uri": "https://localhost:8080/"
        },
        "id": "vG6idyFqNEKe",
        "outputId": "c53df3b7-612d-40ce-a687-9f45dbe45139"
      },
      "execution_count": 92,
      "outputs": [
        {
          "output_type": "stream",
          "name": "stdout",
          "text": [
            "The modes is 1\n"
          ]
        }
      ]
    },
    {
      "cell_type": "code",
      "source": [
        "'''\n",
        "Suppose you have a list of employee records that contain the following information for each employee: name, job title, salary. The records are stored as a list of dictionaries.\n",
        "Use this list to create a dictionary where the keys are the job titles and the values are the average salaries for each job title.\n",
        "Example:\n",
        "records = [{'name': 'Bob', 'title': 'manager', 'salary': 50000},\\\n",
        "           {'name': 'Alice', 'title': 'developer', 'salary': 60000},\\\n",
        "           {'name': 'David', 'title': 'developer', 'salary': 65000}]\n",
        "Output: {'manager': 50000, 'developer': 62500}\n",
        "'''\n",
        "\n",
        "records = [\n",
        "    {'name': 'Bob', 'title': 'manager', 'salary': 50000},\n",
        "    {'name': 'Alice', 'title': 'developer', 'salary': 60000},\n",
        "    {'name': 'David', 'title': 'developer', 'salary': 65000}\n",
        "]\n",
        "\n",
        "manager_salaries = []\n",
        "developer_salaries = []\n",
        "output = {}\n",
        "\n",
        "# Get a list of salaries for each position\n",
        "for person in records:\n",
        "  if person['title'] == 'manager':\n",
        "    manager_salaries.append(person['salary'])\n",
        "  elif person['title'] == 'developer':\n",
        "    developer_salaries.append(person['salary'])\n",
        "\n",
        "# Initialize variables to zero\n",
        "developer_avg = 0\n",
        "manager_avg = 0\n",
        "\n",
        "# For every salary in the manager salaries, get the sum then divide by the length to get the average\n",
        "for salary in manager_salaries:\n",
        "  manager_avg += salary\n",
        "manager_avg /= len(manager_salaries)\n",
        "\n",
        "# For every salary in the developer salaries, get the sum then divide by the length to get the average\n",
        "for salary in developer_salaries:\n",
        "  developer_avg += salary\n",
        "developer_avg /= len(developer_salaries)\n",
        "\n",
        "# Add the key and value pairs to the output dictionary\n",
        "output['manager'] = manager_avg\n",
        "output['developer'] = developer_avg\n",
        "\n",
        "# Print out the output to check\n",
        "print(output)\n",
        "\n",
        "# This way only accounts for managers and developers\n",
        "# The way jean did in the class recordings is more modular to the record dictionaries"
      ],
      "metadata": {
        "colab": {
          "base_uri": "https://localhost:8080/"
        },
        "id": "U2mwDSFUM06G",
        "outputId": "3d673b1b-e61c-4495-d592-2440a35e04fc"
      },
      "execution_count": 96,
      "outputs": [
        {
          "output_type": "stream",
          "name": "stdout",
          "text": [
            "{'manager': 50000.0, 'developer': 62500.0}\n"
          ]
        }
      ]
    },
    {
      "cell_type": "code",
      "source": [
        "records = [\n",
        "    {'name': 'Bob', 'title': 'manager', 'salary': 50000},\n",
        "    {'name': 'Alice', 'title': 'developer', 'salary': 60000},\n",
        "    {'name': 'David', 'title': 'developer', 'salary': 65000}\n",
        "]\n",
        "\n",
        "title_salaries = {}\n",
        "title_count = {}\n",
        "\n",
        "for person in records:\n",
        "  if person['title'] not in title_count.keys():\n",
        "    title_count[person['title']] = 1\n",
        "    title_salaries[person['title']] = person['salary']\n",
        "  else:\n",
        "    title_count[person['title']] += 1\n",
        "    title_salaries[person['title']] += person['salary']\n",
        "\n",
        "# print(title_salaries, title_count)\n",
        "result = {s:float(title_salaries[s])/title_count[s] for s in title_salaries}\n",
        "print(result)"
      ],
      "metadata": {
        "colab": {
          "base_uri": "https://localhost:8080/"
        },
        "id": "mX0I8MJ7Q06Y",
        "outputId": "7fc184df-f6de-4dda-f138-f68581030766"
      },
      "execution_count": 101,
      "outputs": [
        {
          "output_type": "stream",
          "name": "stdout",
          "text": [
            "{'manager': 50000.0, 'developer': 62500.0}\n"
          ]
        }
      ]
    }
  ]
}