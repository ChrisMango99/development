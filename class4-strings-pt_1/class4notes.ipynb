{
 "cells": [
  {
   "cell_type": "code",
   "execution_count": 11,
   "metadata": {},
   "outputs": [],
   "source": [
    "'''\n",
    "You have a variable called hours which equals 24. The number of hours in a day.\n",
    "Print There are 24 hours in a day. Make sure to use your variable.\n",
    "First, print using commas. Remember that using commas automatically adds spaces!\n",
    "Second, print using string concatenation. Remember to cast hours to a string and manually add spaces!\n",
    "\n",
    "'''\n",
    "hours = 24\n",
    "day_of_the_week = 'Wednesday'"
   ]
  },
  {
   "cell_type": "code",
   "execution_count": 15,
   "metadata": {},
   "outputs": [
    {
     "name": "stdout",
     "output_type": "stream",
     "text": [
      "There are 24 hours in a day. Happy Wednesday !\n"
     ]
    }
   ],
   "source": [
    "# Commas\n",
    "print(\"There are\", hours, 'hours in a day. Happy', day_of_the_week, '!')"
   ]
  },
  {
   "cell_type": "code",
   "execution_count": 16,
   "metadata": {},
   "outputs": [
    {
     "name": "stdout",
     "output_type": "stream",
     "text": [
      "There are 24 hours in a day. Happy Wednesday!\n"
     ]
    }
   ],
   "source": [
    "# Concatenation\n",
    "# Typecast int to string so that it can be concatenated\n",
    "print(\"There are \" + str(hours) + \" hours in a day. Happy \" + day_of_the_week + \"!\")"
   ]
  },
  {
   "cell_type": "code",
   "execution_count": 17,
   "metadata": {},
   "outputs": [
    {
     "name": "stdout",
     "output_type": "stream",
     "text": [
      "There are 24 hours in a day. Happy Wednesday!\n"
     ]
    }
   ],
   "source": [
    "# Formatted Strings\n",
    "print(f'There are {hours} hours in a day. Happy {day_of_the_week}!')"
   ]
  },
  {
   "cell_type": "markdown",
   "metadata": {},
   "source": [
    "# Concatenation and Multiplication"
   ]
  },
  {
   "cell_type": "code",
   "execution_count": 18,
   "metadata": {},
   "outputs": [
    {
     "name": "stdout",
     "output_type": "stream",
     "text": [
      "Joe Smith\n"
     ]
    }
   ],
   "source": [
    "# Concatenation\n",
    "first_name = 'Joe'\n",
    "last_name = 'Smith'\n",
    "full_name = first_name + ' ' + last_name\n",
    "print(full_name)"
   ]
  },
  {
   "cell_type": "code",
   "execution_count": 20,
   "metadata": {},
   "outputs": [
    {
     "name": "stdout",
     "output_type": "stream",
     "text": [
      "hip hip hooray hip hip hooray hip hip hooray \n"
     ]
    }
   ],
   "source": [
    "# Multiplication\n",
    "greeting = 'hip hip hooray '\n",
    "three_cheers = greeting * 3\n",
    "print(three_cheers)"
   ]
  },
  {
   "cell_type": "markdown",
   "metadata": {},
   "source": [
    "Exercise: Create a variable called fav_food, and assign a string value of your favorite food. Create a second variable called result which multiplies your fav_food variable by 10."
   ]
  },
  {
   "cell_type": "code",
   "execution_count": 23,
   "metadata": {},
   "outputs": [
    {
     "name": "stdout",
     "output_type": "stream",
     "text": [
      "Pizza Pizza Pizza Pizza Pizza Pizza Pizza Pizza Pizza Pizza \n"
     ]
    }
   ],
   "source": [
    "fav_food = 'Pizza '\n",
    "result = fav_food * 10\n",
    "print(result)"
   ]
  },
  {
   "cell_type": "markdown",
   "metadata": {},
   "source": [
    "Exercise: Using the 'in' keyword solve the following\n",
    "* Is 'a' in giraffe?\n",
    "* Is 'z' in birthday?\n",
    "* Is 'w' in wrapper?"
   ]
  },
  {
   "cell_type": "code",
   "execution_count": 25,
   "metadata": {},
   "outputs": [
    {
     "name": "stdout",
     "output_type": "stream",
     "text": [
      "True\n"
     ]
    }
   ],
   "source": [
    "# Is 'a' in girrafe?\n",
    "print( 'a' in 'giraffe')"
   ]
  },
  {
   "cell_type": "code",
   "execution_count": 26,
   "metadata": {},
   "outputs": [
    {
     "name": "stdout",
     "output_type": "stream",
     "text": [
      "False\n"
     ]
    }
   ],
   "source": [
    "# Is 'z' in birthday?\n",
    "print('z' in 'birthday')"
   ]
  },
  {
   "cell_type": "code",
   "execution_count": 30,
   "metadata": {},
   "outputs": [
    {
     "name": "stdout",
     "output_type": "stream",
     "text": [
      "True\n",
      "False\n"
     ]
    }
   ],
   "source": [
    "# Is 'w' in wrapper\n",
    "print('w' in 'wrapper')\n",
    "print('W' in 'wrapper')"
   ]
  },
  {
   "cell_type": "markdown",
   "metadata": {},
   "source": [
    "Exercise: Using the len function find the number of characters in the following strings.\n",
    "* Pardon\n",
    "* Halloween\n",
    "* Ice Cream\n",
    "* Tank\n",
    "* Laptop"
   ]
  },
  {
   "cell_type": "code",
   "execution_count": 31,
   "metadata": {},
   "outputs": [
    {
     "name": "stdout",
     "output_type": "stream",
     "text": [
      "6\n"
     ]
    }
   ],
   "source": [
    "# Pardon\n",
    "pardon_length = len('Pardon')\n",
    "print(pardon_length)"
   ]
  },
  {
   "cell_type": "code",
   "execution_count": 32,
   "metadata": {},
   "outputs": [
    {
     "name": "stdout",
     "output_type": "stream",
     "text": [
      "9\n"
     ]
    }
   ],
   "source": [
    "halloween_length = len(\"Halloween\")\n",
    "print(halloween_length)"
   ]
  },
  {
   "cell_type": "code",
   "execution_count": 33,
   "metadata": {},
   "outputs": [
    {
     "name": "stdout",
     "output_type": "stream",
     "text": [
      "9\n"
     ]
    }
   ],
   "source": [
    "# Notice that it counts the space in between words\n",
    "icecream_length = len(\"Ice Cream\")\n",
    "print(icecream_length)"
   ]
  },
  {
   "cell_type": "code",
   "execution_count": 34,
   "metadata": {},
   "outputs": [
    {
     "name": "stdout",
     "output_type": "stream",
     "text": [
      "4\n"
     ]
    }
   ],
   "source": [
    "tank_length = len(\"Tank\")\n",
    "print(tank_length)"
   ]
  },
  {
   "cell_type": "code",
   "execution_count": 35,
   "metadata": {},
   "outputs": [
    {
     "name": "stdout",
     "output_type": "stream",
     "text": [
      "6\n"
     ]
    }
   ],
   "source": [
    "laptop_length = len(\"Laptop\")\n",
    "print(laptop_length)"
   ]
  },
  {
   "cell_type": "markdown",
   "metadata": {},
   "source": [
    "# String Methods"
   ]
  },
  {
   "cell_type": "code",
   "execution_count": 36,
   "metadata": {},
   "outputs": [
    {
     "name": "stdout",
     "output_type": "stream",
     "text": [
      "Blue\n"
     ]
    }
   ],
   "source": [
    "# capitalize() Converts the first character to upper case\n",
    "color = 'blue'\n",
    "print(color.capitalize())\n"
   ]
  },
  {
   "cell_type": "code",
   "execution_count": 42,
   "metadata": {},
   "outputs": [
    {
     "name": "stdout",
     "output_type": "stream",
     "text": [
      "False\n",
      "simon\n",
      "simon\n",
      "True\n"
     ]
    }
   ],
   "source": [
    "# casefold() converts string into lower case\n",
    "name_one = 'sImOn'\n",
    "name_two = 'SiMoN'\n",
    "\n",
    "# Since strings are case sensitive, initially it returns False\n",
    "print(name_one == name_two)\n",
    "\n",
    "# lower case every letter of the string\n",
    "# you can also use .lower() for lower case and .upper() for upper case\n",
    "print(name_one.casefold())\n",
    "print(name_two.casefold())\n",
    "\n",
    "# Lets check again. This should return True now!\n",
    "print(name_one.casefold() == name_two.casefold())"
   ]
  },
  {
   "cell_type": "code",
   "execution_count": 43,
   "metadata": {},
   "outputs": [
    {
     "name": "stdout",
     "output_type": "stream",
     "text": [
      "                                               hello                                                \n"
     ]
    }
   ],
   "source": [
    "# .center() returns a centered string\n",
    "print('hello'.center(100))"
   ]
  },
  {
   "cell_type": "code",
   "execution_count": 47,
   "metadata": {},
   "outputs": [
    {
     "name": "stdout",
     "output_type": "stream",
     "text": [
      "5\n",
      "2\n"
     ]
    }
   ],
   "source": [
    "# .count() returns the number of times a specified value occurs in a string\n",
    "# will return 0 if the letter doesn't appear in the string\n",
    "my_string = 'abracadabra'\n",
    "letter_count = my_string.count('a')\n",
    "print(letter_count)\n",
    "\n",
    "# there are multiple arguments that can be passed into .count()\n",
    "# reading documentation shows all the available arguments and which ones are required\n",
    "a_count_in_first_four_chars = my_string.count('a', 0, 4)\n",
    "print(a_count_in_first_four_chars)"
   ]
  },
  {
   "cell_type": "code",
   "execution_count": 56,
   "metadata": {},
   "outputs": [
    {
     "name": "stdout",
     "output_type": "stream",
     "text": [
      "Happy\tWednesday\tEveryone!\n",
      "Happy Wednesday Everyone!\n",
      "Happy     Wednesday Everyone!\n",
      "Happy          Wednesday      Everyone!\n"
     ]
    }
   ],
   "source": [
    "# .expandtabs() sets the tab size of the string\n",
    "testing_tabs = 'Happy\\tWednesday\\tEveryone!'\n",
    "print(testing_tabs)\n",
    "two_chars = testing_tabs.expandtabs(2)\n",
    "print(two_chars)\n",
    "ten_chars = testing_tabs.expandtabs(10)\n",
    "print(ten_chars)\n",
    "fifteen_chars = testing_tabs.expandtabs(15)\n",
    "print(fifteen_chars)"
   ]
  },
  {
   "cell_type": "code",
   "execution_count": 65,
   "metadata": {},
   "outputs": [
    {
     "name": "stdout",
     "output_type": "stream",
     "text": [
      "2\n",
      "The letter \"J\" appears at the index 0 in June\n",
      "The letter \"R\" appears at the index 12 in Lord of The Rings\n",
      "-1\n"
     ]
    }
   ],
   "source": [
    "# .find() searches the string for a specified value and returns the position of where it was found\n",
    "# so does .index()\n",
    "day = 'Tuesday'\n",
    "month = 'June'\n",
    "movie = 'Lord of The Rings'\n",
    "\n",
    "# Find position of e in day\n",
    "e = day.find('e')\n",
    "print(e)\n",
    "# We get 2 as an output because this is using zero based indexing where T is 0 and u is 1, so e is the third character but the second index\n",
    "\n",
    "# Find position of J in month\n",
    "J = month.find('J')\n",
    "print(f'The letter \"J\" appears at the index {J} in {month}')\n",
    "\n",
    "# Find the position of R in movie\n",
    "R = movie.index('R')\n",
    "print(f'The letter \"R\" appears at the index {R} in {movie}')\n",
    "\n",
    "# If the character is not in the string, you will get -1 as an output\n",
    "b = movie.find('b')\n",
    "print(b)"
   ]
  },
  {
   "cell_type": "code",
   "execution_count": 66,
   "metadata": {},
   "outputs": [
    {
     "ename": "ValueError",
     "evalue": "substring not found",
     "output_type": "error",
     "traceback": [
      "\u001b[1;31m---------------------------------------------------------------------------\u001b[0m",
      "\u001b[1;31mValueError\u001b[0m                                Traceback (most recent call last)",
      "Cell \u001b[1;32mIn[66], line 2\u001b[0m\n\u001b[0;32m      1\u001b[0m \u001b[38;5;66;03m# With .index(), if the character is not in the string, you will get an error as an output\u001b[39;00m\n\u001b[1;32m----> 2\u001b[0m z \u001b[38;5;241m=\u001b[39m \u001b[43mmovie\u001b[49m\u001b[38;5;241;43m.\u001b[39;49m\u001b[43mindex\u001b[49m\u001b[43m(\u001b[49m\u001b[38;5;124;43m'\u001b[39;49m\u001b[38;5;124;43mz\u001b[39;49m\u001b[38;5;124;43m'\u001b[39;49m\u001b[43m)\u001b[49m\n",
      "\u001b[1;31mValueError\u001b[0m: substring not found"
     ]
    }
   ],
   "source": [
    "# With .index(), if the character is not in the string, you will get an error as an output\n",
    "z = movie.index('z')"
   ]
  },
  {
   "cell_type": "markdown",
   "metadata": {},
   "source": [
    "Exercise: Create a variable called index_of_y and apply the index string method to locate the index position of the letter y. What happens if we try to locate a letter that doesn't exist in our string?"
   ]
  },
  {
   "cell_type": "code",
   "execution_count": 69,
   "metadata": {},
   "outputs": [
    {
     "name": "stdout",
     "output_type": "stream",
     "text": [
      "2\n"
     ]
    },
    {
     "ename": "ValueError",
     "evalue": "substring not found",
     "output_type": "error",
     "traceback": [
      "\u001b[1;31m---------------------------------------------------------------------------\u001b[0m",
      "\u001b[1;31mValueError\u001b[0m                                Traceback (most recent call last)",
      "Cell \u001b[1;32mIn[69], line 4\u001b[0m\n\u001b[0;32m      2\u001b[0m index_of_y \u001b[38;5;241m=\u001b[39m fav_car\u001b[38;5;241m.\u001b[39mindex(\u001b[38;5;124m'\u001b[39m\u001b[38;5;124my\u001b[39m\u001b[38;5;124m'\u001b[39m)\n\u001b[0;32m      3\u001b[0m \u001b[38;5;28mprint\u001b[39m(index_of_y)\n\u001b[1;32m----> 4\u001b[0m index_of_l \u001b[38;5;241m=\u001b[39m \u001b[43mfav_car\u001b[49m\u001b[38;5;241;43m.\u001b[39;49m\u001b[43mindex\u001b[49m\u001b[43m(\u001b[49m\u001b[38;5;124;43m'\u001b[39;49m\u001b[38;5;124;43ml\u001b[39;49m\u001b[38;5;124;43m'\u001b[39;49m\u001b[43m)\u001b[49m\n",
      "\u001b[1;31mValueError\u001b[0m: substring not found"
     ]
    }
   ],
   "source": [
    "fav_car = 'toyota'\n",
    "index_of_y = fav_car.index('y')\n",
    "print(index_of_y)\n",
    "index_of_l = fav_car.index('l')"
   ]
  },
  {
   "cell_type": "code",
   "execution_count": 71,
   "metadata": {},
   "outputs": [
    {
     "name": "stdout",
     "output_type": "stream",
     "text": [
      "False\n",
      "True\n",
      "True\n"
     ]
    }
   ],
   "source": [
    "# .isanum() returns True if all characters in the string are alphanumeric (letters and numbers)\n",
    "word_one = '%^&*'\n",
    "word_two = 'hello'\n",
    "word_three = 'abc123'\n",
    "\n",
    "print(word_one.isalnum())\n",
    "print(word_two.isalnum())\n",
    "print(word_three.isalnum())\n",
    "\n",
    "# Helpful to force users to input only alphanumeric values (for maybe like a username)"
   ]
  },
  {
   "cell_type": "code",
   "execution_count": 72,
   "metadata": {},
   "outputs": [
    {
     "name": "stdout",
     "output_type": "stream",
     "text": [
      "True\n",
      "False\n",
      "False\n"
     ]
    }
   ],
   "source": [
    "# .isalpha() is similar to .isalnum() but only alphabetical values\n",
    "word_one = 'abcd'\n",
    "word_two = 'a2b4'\n",
    "word_three = '&apple'\n",
    "\n",
    "print(word_one.isalpha())\n",
    "print(word_two.isalpha())\n",
    "print(word_three.isalpha())"
   ]
  },
  {
   "cell_type": "code",
   "execution_count": 74,
   "metadata": {},
   "outputs": [
    {
     "name": "stdout",
     "output_type": "stream",
     "text": [
      "True\n",
      "False\n",
      "False\n"
     ]
    }
   ],
   "source": [
    "# .isdecimal() returns True if all characters in the string are decimals (whole numbers)\n",
    "num_one = '12345'\n",
    "num_two = '4.125' # False because '.' imples a non whole number\n",
    "num_three = 'abcde'\n",
    "\n",
    "print(num_one.isdecimal())\n",
    "print(num_two.isdecimal())\n",
    "print(num_three.isdecimal())"
   ]
  },
  {
   "cell_type": "code",
   "execution_count": 75,
   "metadata": {},
   "outputs": [
    {
     "name": "stdout",
     "output_type": "stream",
     "text": [
      "True\n",
      "False\n",
      "False\n"
     ]
    }
   ],
   "source": [
    "# .isdigit() returns True if all characters in the string are digits\n",
    "\n",
    "print(num_one.isdigit())\n",
    "print(num_two.isdigit()) # False because '.' is not digit\n",
    "print(num_three.isdigit())"
   ]
  },
  {
   "cell_type": "code",
   "execution_count": 76,
   "metadata": {},
   "outputs": [
    {
     "name": "stdout",
     "output_type": "stream",
     "text": [
      "False\n",
      "True\n"
     ]
    }
   ],
   "source": [
    "# .islower() returns True if all characters in the string are lower case\n",
    "house_type = 'MULTI-FAMILY'\n",
    "house_type_lower = house_type.lower()\n",
    "\n",
    "print(house_type.islower()) \n",
    "print(house_type_lower.islower())"
   ]
  },
  {
   "cell_type": "markdown",
   "metadata": {},
   "source": [
    "Try the islower method to test if the following strings are upper and lower case"
   ]
  },
  {
   "cell_type": "code",
   "execution_count": 77,
   "metadata": {},
   "outputs": [
    {
     "name": "stdout",
     "output_type": "stream",
     "text": [
      "False\n",
      "True\n",
      "False\n",
      "False\n"
     ]
    }
   ],
   "source": [
    "animal = 'GIRAFFE'\n",
    "car = 'truck'\n",
    "season = 'SUMMERTIME'\n",
    "transportation = 'plAne'\n",
    "\n",
    "print(animal.islower())\n",
    "print(car.islower())\n",
    "print(season.islower())\n",
    "print(transportation.islower()) # Flase because as long as one character isn't lowercase it will be False"
   ]
  },
  {
   "cell_type": "code",
   "execution_count": 78,
   "metadata": {},
   "outputs": [
    {
     "name": "stdout",
     "output_type": "stream",
     "text": [
      "True\n",
      "False\n"
     ]
    }
   ],
   "source": [
    "# .istitle() returns True if the string follows the rule of a title\n",
    "# title rules = if every word is capitalized\n",
    "\n",
    "w1 = \"Dog\"\n",
    "w2 = 'cat'\n",
    "print(w1.istitle())\n",
    "print(w2.istitle())"
   ]
  },
  {
   "cell_type": "code",
   "execution_count": 79,
   "metadata": {},
   "outputs": [
    {
     "name": "stdout",
     "output_type": "stream",
     "text": [
      "blue yellow red\n"
     ]
    }
   ],
   "source": [
    "# .join() joins the elements of an iterable to the end of the string\n",
    "my_colors = ['blue', 'yellow', 'red']\n",
    "result = ' '.join(my_colors)\n",
    "print(result)"
   ]
  },
  {
   "cell_type": "markdown",
   "metadata": {},
   "source": [
    "# Input Function\n",
    "This is a helpful function because it allows a user to input a string.\n",
    "The user input string needs to be checked and sanitized so that it doesn't result in errors later on."
   ]
  },
  {
   "cell_type": "code",
   "execution_count": 82,
   "metadata": {},
   "outputs": [
    {
     "name": "stdout",
     "output_type": "stream",
     "text": [
      "You typed in Patrick.\n"
     ]
    }
   ],
   "source": [
    "first_name = input(\"Enter your first name: \")\n",
    "print(f\"You typed in {first_name}.\")"
   ]
  },
  {
   "cell_type": "code",
   "execution_count": 90,
   "metadata": {},
   "outputs": [
    {
     "name": "stdout",
     "output_type": "stream",
     "text": [
      "You typed in    Pat    .\n",
      "Your name is 10 characters.\n",
      "Your sanitized name is Pat.\n",
      "Your name is 3 characters.\n"
     ]
    }
   ],
   "source": [
    "# Lets sanitize the input\n",
    "name = input(\"Enter your name: \")\n",
    "name_length = len(name)\n",
    "# Adding '\\n' is a new line character - this is basically the enter button\n",
    "print(f\"You typed in {name}.\\nYour name is {name_length} characters.\")\n",
    "\n",
    "# .strip() gets rid of any blank spaces before or after the string\n",
    "sanitized_name = name.strip()\n",
    "sanitized_name_length = len(sanitized_name)\n",
    "print(f\"Your sanitized name is {sanitized_name}.\\nYour name is {sanitized_name_length} characters.\")\n"
   ]
  },
  {
   "cell_type": "markdown",
   "metadata": {},
   "source": [
    "Exercise: Write some code that prints out whether the inputted string is a number or not"
   ]
  },
  {
   "cell_type": "code",
   "execution_count": 99,
   "metadata": {},
   "outputs": [
    {
     "name": "stdout",
     "output_type": "stream",
     "text": [
      "You input:    3.333\n",
      "Sanitized input: 3.333\n",
      "False\n",
      "This is not a number\n"
     ]
    }
   ],
   "source": [
    "# Get the user input\n",
    "user = input(\"Enter in value: \")\n",
    "print(f'You input: {user}')\n",
    "\n",
    "# Sanitize input\n",
    "user = user.strip()\n",
    "print(f'Sanitized input: {user}')\n",
    "\n",
    "# See if the string is a number or not - .isdigit()\n",
    "number_or_not = user.isdigit()\n",
    "print(number_or_not)\n",
    "\n",
    "\n",
    "# A look into the future\n",
    "if (number_or_not):\n",
    "    print(\"This is a whole number\")\n",
    "else:\n",
    "    print(\"This is not a whole number\")"
   ]
  },
  {
   "cell_type": "code",
   "execution_count": 104,
   "metadata": {},
   "outputs": [
    {
     "name": "stdout",
     "output_type": "stream",
     "text": [
      "apple 6\n",
      "False\n",
      "Does apple have more than 6 letters? False\n"
     ]
    }
   ],
   "source": [
    "# Get input\n",
    "word = input(\"Enter a word: \")\n",
    "num = input(\"Enter a number: \")\n",
    "print(word, num)\n",
    "\n",
    "# Cast the string the user input as a number into an int\n",
    "num_int = int(num)\n",
    "\n",
    "# See if word is longer than the number\n",
    "word_length = len(word)\n",
    "\n",
    "# Use the greater than symbol (>) to compare the word length and the number\n",
    "comparison = word_length > num_int\n",
    "print(comparison)\n",
    "\n",
    "print(f'Does {word} have more than {num_int} letters? {comparison}')"
   ]
  },
  {
   "cell_type": "code",
   "execution_count": 109,
   "metadata": {},
   "outputs": [
    {
     "name": "stdout",
     "output_type": "stream",
     "text": [
      "abracadabra\n",
      "5 vowels\n"
     ]
    }
   ],
   "source": [
    "'''\n",
    "Write some code that takes a string from the user, and prints how many vowels\n",
    "are in the string.\n",
    "'''\n",
    "# Get the user input\n",
    "user = input(\"Enter a word: \").lower()\n",
    "print(user)\n",
    "\n",
    "# Vowel count - .count()\n",
    "\n",
    "# Get the count for each vowel\n",
    "a_count = user.count('a')\n",
    "e_count = user.count('e')\n",
    "i_count = user.count('i')\n",
    "o_count = user.count('o')\n",
    "u_count = user.count('u')\n",
    "# Sum them all up to get the total\n",
    "total = a_count + e_count + i_count + o_count + u_count\n",
    "print(f'{total} vowels')"
   ]
  },
  {
   "cell_type": "markdown",
   "metadata": {},
   "source": [
    "Write some code that will print a box around a string.\n",
    "\n",
    "Examples:\n",
    "User input: hello\n",
    "Output:\n",
    "*******\n",
    "*hello*\n",
    "*******"
   ]
  }
 ],
 "metadata": {
  "kernelspec": {
   "display_name": "Python 3",
   "language": "python",
   "name": "python3"
  },
  "language_info": {
   "codemirror_mode": {
    "name": "ipython",
    "version": 3
   },
   "file_extension": ".py",
   "mimetype": "text/x-python",
   "name": "python",
   "nbconvert_exporter": "python",
   "pygments_lexer": "ipython3",
   "version": "3.12.4"
  }
 },
 "nbformat": 4,
 "nbformat_minor": 2
}
