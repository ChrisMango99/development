{
  "nbformat": 4,
  "nbformat_minor": 0,
  "metadata": {
    "colab": {
      "provenance": []
    },
    "kernelspec": {
      "name": "python3",
      "display_name": "Python 3"
    },
    "language_info": {
      "name": "python"
    }
  },
  "cells": [
    {
      "cell_type": "markdown",
      "source": [
        "# List Part 2\n",
        "\n",
        "## List Containing Other Lists\n",
        "* Lists can hold objects of any type (int, string, dicts, lists, etc.)\n",
        "* To access the element of a list within another list, you have to index twice\n",
        "  * you can add a layer of depth with every list within another list (3+ dimensions)\n"
      ],
      "metadata": {
        "id": "SSRcop41pMWO"
      }
    },
    {
      "cell_type": "code",
      "execution_count": 3,
      "metadata": {
        "colab": {
          "base_uri": "https://localhost:8080/"
        },
        "id": "EchdM4wnkvKb",
        "outputId": "fe89bb84-2c7b-4899-845d-a4ed1ecdf690"
      },
      "outputs": [
        {
          "output_type": "stream",
          "name": "stdout",
          "text": [
            "hello 5\n"
          ]
        }
      ],
      "source": [
        "my_list = [[\"hello\", \"bye\"], [1,5]]\n",
        "\n",
        "hello = my_list[0][0]\n",
        "five = my_list[1][1]\n",
        "print(hello, five)"
      ]
    },
    {
      "cell_type": "code",
      "source": [
        "my_list = [\"hello\", 1, [\"dog\", 3], \"cat\", [True, [\"frog\", 5]]]\n",
        "\n",
        "hello = my_list[0]\n",
        "one = my_list[1]\n",
        "dog = my_list[2][0]\n",
        "three = my_list[2][1]\n",
        "cat = my_list[3]\n",
        "true = my_list[4][0]\n",
        "frog = my_list[4][1][0]\n",
        "five = my_list[4][1][1]\n",
        "\n",
        "print(hello, dog, cat, frog, one, three, five, true)"
      ],
      "metadata": {
        "colab": {
          "base_uri": "https://localhost:8080/"
        },
        "id": "plFUT4zcqPTb",
        "outputId": "1065d3b0-0871-4de6-dbd0-672257b5c2b4"
      },
      "execution_count": 5,
      "outputs": [
        {
          "output_type": "stream",
          "name": "stdout",
          "text": [
            "hello dog cat frog 1 3 5 True\n"
          ]
        }
      ]
    },
    {
      "cell_type": "code",
      "source": [
        "my_super_list = [\n",
        "    ['superman', 'wonderwoman','batman'],\n",
        "    ['spiderman','captain america','ironman'],\n",
        "    ['aquaman']]\n",
        "\n",
        "# # Create a variable and assign it to wonderwoman via indexing\n",
        "wonderwoman = my_super_list[0][1]\n",
        "\n",
        "# # Create a variable and assign it to spiderman via indexing\n",
        "spiderman = my_super_list[1][0]\n",
        "\n",
        "# # Create a variable and assign it to aquaman via indexing\n",
        "aquaman = my_super_list[2][0]\n",
        "\n",
        "print(wonderwoman, spiderman, aquaman)"
      ],
      "metadata": {
        "colab": {
          "base_uri": "https://localhost:8080/"
        },
        "id": "f11kY1IF3nVD",
        "outputId": "587dfb7b-c551-41fb-849d-b681655b1c46"
      },
      "execution_count": 27,
      "outputs": [
        {
          "output_type": "stream",
          "name": "stdout",
          "text": [
            "wonderwoman spiderman aquaman\n"
          ]
        }
      ]
    },
    {
      "cell_type": "markdown",
      "source": [
        "## 2D Lists\n",
        "* We can create a 2 dimensional list\n",
        "* Another way to think of them is a \"list of lists\" or a table\n",
        "* We have to use two indexes for any element\n",
        "* List_name[i][j]\n",
        "  * i: row\n",
        "  * j: column"
      ],
      "metadata": {
        "id": "XA2IADFYqP3j"
      }
    },
    {
      "cell_type": "code",
      "source": [
        "mdList = [[1,2,3], [4,5,6], [7,8,9]]"
      ],
      "metadata": {
        "id": "kCGJzSsztMHH"
      },
      "execution_count": 7,
      "outputs": []
    },
    {
      "cell_type": "markdown",
      "source": [
        "## Nested Loops Review\n",
        "* Nested Loops - a loop within another loop\n",
        "  * the inner loop runs for each outer loop iteration\n",
        "  * since we're dealing with a list in a list, using a loop in a loop makes sense\n"
      ],
      "metadata": {
        "id": "ARGdVSMJtJ18"
      }
    },
    {
      "cell_type": "code",
      "source": [
        "for row in mdList:\n",
        "  for val in row:\n",
        "    print(val)"
      ],
      "metadata": {
        "colab": {
          "base_uri": "https://localhost:8080/"
        },
        "id": "tspCzUput8Q0",
        "outputId": "6aaac3a3-2b28-453f-b8e4-b668e4e9ceae"
      },
      "execution_count": 8,
      "outputs": [
        {
          "output_type": "stream",
          "name": "stdout",
          "text": [
            "1\n",
            "2\n",
            "3\n",
            "4\n",
            "5\n",
            "6\n",
            "7\n",
            "8\n",
            "9\n"
          ]
        }
      ]
    },
    {
      "cell_type": "code",
      "source": [
        "''' Exercise:\n",
        "\n",
        "Write a 2D list that is a 3x3 grid of numbers\n",
        "Write some code that prints out that grid nicely wither proper formatting.\n",
        "'''\n",
        "\n",
        "lis = [[1,2,3], [4,5,6], [7,8,9]]\n",
        "\n",
        "for row in lis:\n",
        "  # print(row)\n",
        "  for column in row:\n",
        "    print(column, end=' ')\n",
        "  print('')"
      ],
      "metadata": {
        "colab": {
          "base_uri": "https://localhost:8080/"
        },
        "id": "kMkrltZKubdW",
        "outputId": "236825d5-6854-47dd-8c9e-3697aefdfe42"
      },
      "execution_count": 12,
      "outputs": [
        {
          "output_type": "stream",
          "name": "stdout",
          "text": [
            "[1, 2, 3]\n",
            "1 2 3 \n",
            "[4, 5, 6]\n",
            "4 5 6 \n",
            "[7, 8, 9]\n",
            "7 8 9 \n"
          ]
        }
      ]
    },
    {
      "cell_type": "code",
      "source": [
        "'''\n",
        "Exercise:\n",
        "\n",
        "Write some code that goes through a 2D list and prints the rows\n",
        "\n",
        "'''\n",
        "\n",
        "\n",
        "lis = [[1,2,3], [4,5,6], [7,8,9]]\n",
        "\n",
        "for i in range(len(lis[0])):\n",
        "  for row in lis:\n",
        "    print(row[i], end=' ')\n",
        "  print('')"
      ],
      "metadata": {
        "colab": {
          "base_uri": "https://localhost:8080/"
        },
        "id": "TACZF6JpvQUG",
        "outputId": "efda6bca-9a0e-4fdc-8141-f8cbea1e2fd3"
      },
      "execution_count": 28,
      "outputs": [
        {
          "output_type": "stream",
          "name": "stdout",
          "text": [
            "1 4 7 \n",
            "2 5 8 \n",
            "3 6 9 \n"
          ]
        }
      ]
    },
    {
      "cell_type": "code",
      "source": [
        "'''\n",
        "Exercise:\n",
        "\n",
        "You are given a 2D list representing a table of data with rows and columns.\n",
        "Write a script to calculate the sum and average of each column in the table.\n",
        "\n",
        "'''\n",
        "\n",
        "data = [[45, 56, 89], [67, 34, 78], [23, 67, 34]]\n",
        "\n",
        "counter = 1\n",
        "for row in data:\n",
        "  sum = 0\n",
        "  for column in row:\n",
        "    print(column)\n",
        "    sum += column\n",
        "  avg = sum / 3\n",
        "  print(f\"Column {counter}: Sum = {sum}, Average = {avg}\")\n",
        "  counter +=1"
      ],
      "metadata": {
        "colab": {
          "base_uri": "https://localhost:8080/"
        },
        "id": "ivugyoR_y1k7",
        "outputId": "52df8a64-a8d8-4cbb-ede8-df69e6267a97"
      },
      "execution_count": 26,
      "outputs": [
        {
          "output_type": "stream",
          "name": "stdout",
          "text": [
            "45\n",
            "56\n",
            "89\n",
            "Column 1: Sum = 190, Average = 63.333333333333336\n",
            "67\n",
            "34\n",
            "78\n",
            "Column 2: Sum = 179, Average = 59.666666666666664\n",
            "23\n",
            "67\n",
            "34\n",
            "Column 3: Sum = 124, Average = 41.333333333333336\n"
          ]
        }
      ]
    },
    {
      "cell_type": "markdown",
      "source": [
        "## List Comprehension\n",
        "* lets you quickly make a new list based on the values of an existing list\n",
        "* Only one line of code\n",
        "* It doesn't modify the original list, it returns a new list"
      ],
      "metadata": {
        "id": "DxxVNvCmJkxE"
      }
    },
    {
      "cell_type": "code",
      "source": [
        "'''\n",
        "Creating a list via for loop vs List comprehension\n",
        "\n",
        "Let's say you have a list of vegetables, and you want a new list containing only the vegetables that are less than 6 letters long.\n",
        "\n",
        "\n",
        "'''\n",
        "\n",
        "# For Loop\n",
        "\n",
        "vegetables = ['broccoli', 'kale', 'onion', 'garlic', 'kale']\n",
        "\n",
        "\n",
        "short_vegetables = []\n",
        "for v in vegetables:\n",
        "  if len(v) < 6:\n",
        "    short_vegetables.append(v)\n",
        "print(short_vegetables)"
      ],
      "metadata": {
        "colab": {
          "base_uri": "https://localhost:8080/"
        },
        "id": "D7TLfFIdJoZF",
        "outputId": "ff454197-03cd-49d4-94dd-bf43e48a2a24"
      },
      "execution_count": 29,
      "outputs": [
        {
          "output_type": "stream",
          "name": "stdout",
          "text": [
            "['kale', 'onion', 'kale']\n"
          ]
        }
      ]
    },
    {
      "cell_type": "code",
      "source": [
        "# List comprehension\n",
        "short_vegetables = []\n",
        "short_vegetables = [v for v in vegetables if len(v) < 6]\n",
        "print(short_vegetables)"
      ],
      "metadata": {
        "colab": {
          "base_uri": "https://localhost:8080/"
        },
        "id": "WaM-Fd5QKAe4",
        "outputId": "e8963c4b-ed59-4831-b43a-97a2d3178080"
      },
      "execution_count": 30,
      "outputs": [
        {
          "output_type": "stream",
          "name": "stdout",
          "text": [
            "['kale', 'onion', 'kale']\n"
          ]
        }
      ]
    },
    {
      "cell_type": "code",
      "source": [
        "# Lets add a range to a list comprehension\n",
        "short_vegetables = []\n",
        "# Remember range arguments go (start, stop, step) and stop is n-1 technically\n",
        "count_to_fifty_by_two = [i for i in range(0, 51, 2)]\n",
        "print(count_to_fifty_by_two)"
      ],
      "metadata": {
        "colab": {
          "base_uri": "https://localhost:8080/"
        },
        "id": "nVad3wUiKTZF",
        "outputId": "ac832c94-3959-4d4a-ef99-a69e7e565a89"
      },
      "execution_count": 31,
      "outputs": [
        {
          "output_type": "stream",
          "name": "stdout",
          "text": [
            "[0, 2, 4, 6, 8, 10, 12, 14, 16, 18, 20, 22, 24, 26, 28, 30, 32, 34, 36, 38, 40, 42, 44, 46, 48, 50]\n"
          ]
        }
      ]
    },
    {
      "cell_type": "code",
      "source": [
        "'''\n",
        "You are given a list of integers. Write a Python program to create a new list\n",
        "that only includes the even numbers from the original list.\n",
        "You can do this in one line with a list comprehension.\n",
        "Example:\n",
        "original_list = [34, 57, 81, 92, 2, 13]\n",
        "new_list = [34, 92, 2]\n",
        "\n",
        "\n",
        "'''\n",
        "original_list = [34, 57, 81, 92, 2, 13]\n",
        "# We know that taking the modulo 2 (% 2) of a number is a way to tell if its even or odd\n",
        "new_list = [i for i in original_list if i%2 == 0]\n",
        "print(new_list)"
      ],
      "metadata": {
        "colab": {
          "base_uri": "https://localhost:8080/"
        },
        "id": "BriPgeiMKxpx",
        "outputId": "b1076576-c4bc-46a6-acc2-68a48cf9ed54"
      },
      "execution_count": 32,
      "outputs": [
        {
          "output_type": "stream",
          "name": "stdout",
          "text": [
            "[34, 92, 2]\n"
          ]
        }
      ]
    },
    {
      "cell_type": "code",
      "source": [
        "''' Exercise\n",
        "\n",
        "\n",
        "You work for a sales company and must generate a list of all customers who get a certain discount. The criteria for getting a discount is that they're over 60 years old and have made at least 5 purchases.\n",
        "You have a list of customers over 60, and a list of customers who have made at least 5 purchases. Use a list comprehension to output a list of customers that fit both criteria for the discount. You can do this in one line of code.\n",
        "Example:\n",
        "over_60_years = ['Dominic', 'Linda', 'Simone', 'Swathi', 'Olaf']\n",
        "over_5_purchases = ['Finn', 'Simone', 'Aaron', 'Dominic']\n",
        "Output: ['Dominic', 'Simone']\n",
        "\n",
        "'''\n",
        "\n",
        "over_60_years = ['Dominic', 'Linda', 'Simone', 'Swathi', 'Olaf']\n",
        "over_5_purchases = ['Finn', 'Simone', 'Aaron', 'Dominic']\n",
        "\n",
        "customer_discount = []\n",
        "\n",
        "# For Loop\n",
        "for customer in over_60_years:\n",
        "  if customer in over_5_purchases:\n",
        "    customer_discount.append(customer)\n",
        "print(customer_discount)"
      ],
      "metadata": {
        "colab": {
          "base_uri": "https://localhost:8080/"
        },
        "id": "i7nrbRdLMUKu",
        "outputId": "66c6bc47-9886-48e6-a76e-75f6657b207c"
      },
      "execution_count": 33,
      "outputs": [
        {
          "output_type": "stream",
          "name": "stdout",
          "text": [
            "['Dominic', 'Simone']\n"
          ]
        }
      ]
    },
    {
      "cell_type": "code",
      "source": [
        "# Now with list comprehension\n",
        "customer_discount = [customer for customer in over_60_years if customer in over_5_purchases]\n",
        "print(customer_discount)"
      ],
      "metadata": {
        "colab": {
          "base_uri": "https://localhost:8080/"
        },
        "id": "Np8_ixERM2Dy",
        "outputId": "f817108b-053b-446f-f7b8-fd177e98ad03"
      },
      "execution_count": 34,
      "outputs": [
        {
          "output_type": "stream",
          "name": "stdout",
          "text": [
            "['Dominic', 'Simone']\n"
          ]
        }
      ]
    }
  ]
}