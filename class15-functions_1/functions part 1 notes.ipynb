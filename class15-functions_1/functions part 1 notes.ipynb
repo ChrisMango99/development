{
  "nbformat": 4,
  "nbformat_minor": 0,
  "metadata": {
    "colab": {
      "provenance": []
    },
    "kernelspec": {
      "name": "python3",
      "display_name": "Python 3"
    },
    "language_info": {
      "name": "python"
    }
  },
  "cells": [
    {
      "cell_type": "markdown",
      "source": [
        "# Functions Part 1\n",
        "\n",
        "## FUNctions\n",
        "* A function - a block of code which runs when it is called\n",
        "* We pass parameters into functions (arguments)\n",
        "* Operations:\n",
        "  * Perform actions on objects\n",
        "  * Returns an object\n",
        "  * Prints out the value of variables\n",
        "* Just like with conditionals and loops, everything inside the body of a function must be indented\n",
        "\n",
        "## Calling a Function\n",
        "* A function is not active until it is called\n",
        "  * there can be defined functions in the script that aren't called/ran\n",
        "* We call a function by entering its name with arguments (function parameters) included inside the parentheses\n",
        "  * the argument of the function is like a temporary placeholder variable name for the actual variable that we pass into the function\n",
        "  * You must provide the same number of arguments as parameters listed in the function definition\n",
        "\n",
        "## Writing a Function\n",
        "* Key questions to consider:\n",
        "  * What is the name of the function?\n",
        "  * What does this function do?\n",
        "  * What do we need to get from the user to execute the action for the function?\n",
        "  * What do we want to return as an output value/object of the function?\n",
        "\n",
        "## Function Purposes\n",
        "1. Modify one or more of its parameters\n",
        "2. Return something\n",
        "3. Print something\n",
        "\n",
        "* most functions will only do one of these things\n",
        "* when you're writing your function, think about which of these categories it falls into\n",
        "\n",
        "## What is Return\n",
        "* You can have a function that returns something, or a function that retuns nothing\n",
        "* The return statement goes at the end of a function\n",
        "* If a function returns something, that is the result of the function\n",
        "  * You can set the define a variable to hold the value of a function with a given set of arguments\n",
        "  * A function can return any data type\n",
        "* If a function returns nothing, there is no return statement\n",
        "  * Think of it as at the end, there is a 'return None' or 'return' line of code\n",
        "  * Using a return value from a function that returns nothing, this will cause issues/errors\n",
        "\n",
        "## Parameters vs. Arguments\n",
        "* Somewhat used interchangably, but there are fine differences\n",
        "* **Parameters** - in the functions definition\n",
        "* **Arguments** - in your function call\n",
        "  * When you call the function, the parameters get assigned to the values of the arguments"
      ],
      "metadata": {
        "id": "yp1QoR1Ltouu"
      }
    },
    {
      "cell_type": "code",
      "execution_count": null,
      "metadata": {
        "colab": {
          "base_uri": "https://localhost:8080/"
        },
        "id": "eDwvUolQtlhW",
        "outputId": "92f2f883-9cdc-41f8-d39a-57beeb797b0b"
      },
      "outputs": [
        {
          "output_type": "stream",
          "name": "stdout",
          "text": [
            "aeie\n"
          ]
        }
      ],
      "source": [
        "def get_vowels(word):\n",
        "  out = ''\n",
        "  for letter in word:\n",
        "    if letter in \"aeiou\":\n",
        "      out += letter\n",
        "  return out\n",
        "\n",
        "my_word = \"Strawberries\"\n",
        "vowels = get_vowels(my_word)\n",
        "print(vowels)"
      ]
    },
    {
      "cell_type": "code",
      "source": [
        "def print_vowels(word):\n",
        "  out = ''\n",
        "  for letter in word:\n",
        "    if letter in \"aeiou\":\n",
        "      out += letter\n",
        "  print(out)\n",
        "\n",
        "print(print_vowels(my_word))"
      ],
      "metadata": {
        "colab": {
          "base_uri": "https://localhost:8080/"
        },
        "id": "lpL_I7bxzB0j",
        "outputId": "8dacff7c-c368-4eab-ebe1-888074844a94"
      },
      "execution_count": null,
      "outputs": [
        {
          "output_type": "stream",
          "name": "stdout",
          "text": [
            "aeie\n",
            "None\n"
          ]
        }
      ]
    },
    {
      "cell_type": "code",
      "source": [
        "'''\n",
        "1. Write as function that converts celsius to fahrenheit\n",
        "'''\n",
        "# Notice how when we run this code cell, we don't get any output because we didn't call the function yet\n",
        "\n",
        "def calculate_fahrenheit(temp_celcius):\n",
        "  print(f\"You input {temp_celcius} degrees celcius\\n\\nCalculating fahrenheit...\\n\")\n",
        "  fahrenheit = (9/5) * temp_celcius + 32\n",
        "  print(f\"Fahrenheit temperature: {fahrenheit} degrees\")\n",
        "  return fahrenheit"
      ],
      "metadata": {
        "id": "Dut-Dr4izWYg"
      },
      "execution_count": null,
      "outputs": []
    },
    {
      "cell_type": "code",
      "source": [
        "# Here we call the function with our argument\n",
        "c = 20 # 20 degrees celcius\n",
        "f = calculate_fahrenheit(c)"
      ],
      "metadata": {
        "colab": {
          "base_uri": "https://localhost:8080/"
        },
        "id": "kHars8Ad0U-k",
        "outputId": "3cfe9914-c98e-496a-8655-72a1a846beaf"
      },
      "execution_count": null,
      "outputs": [
        {
          "output_type": "stream",
          "name": "stdout",
          "text": [
            "You input 20 degrees celcius\n",
            "\n",
            "Calculating fahrenheit...\n",
            "\n",
            "Fahrenheit temperature: 68.0 degrees\n"
          ]
        }
      ]
    },
    {
      "cell_type": "code",
      "source": [
        "''' 2. write a function that generates a filename of lastname, firstname, and todays date'''\n",
        "from datetime import date\n",
        "\n",
        "firstname = 'Will'\n",
        "lastname = 'Smith'\n",
        "\n",
        "def generate_filename(fname, lname):\n",
        "  return f\"{lname}_{fname}_{date.today()}.txt\"\n",
        "\n",
        "filename = generate_filename(lname=lastname, fname=firstname)\n",
        "print(filename)"
      ],
      "metadata": {
        "colab": {
          "base_uri": "https://localhost:8080/"
        },
        "id": "uBYXNIrm1T-m",
        "outputId": "304a10d6-ceb0-456b-9c1d-2eb6d3034202"
      },
      "execution_count": null,
      "outputs": [
        {
          "output_type": "stream",
          "name": "stdout",
          "text": [
            "Smith_Will_2024-07-24.txt\n"
          ]
        }
      ]
    },
    {
      "cell_type": "code",
      "source": [
        "'''  3. Function to add two different numbers '''\n",
        "\n",
        "def addition(num1, num2):\n",
        "  return num1 + num2\n",
        "\n",
        "sum = addition(23, 45)\n",
        "print(sum)"
      ],
      "metadata": {
        "colab": {
          "base_uri": "https://localhost:8080/"
        },
        "id": "0WlLQ3o76AbX",
        "outputId": "88b588f5-48a0-4f5d-f53a-d904b361e07f"
      },
      "execution_count": null,
      "outputs": [
        {
          "output_type": "stream",
          "name": "stdout",
          "text": [
            "68\n"
          ]
        }
      ]
    },
    {
      "cell_type": "code",
      "source": [
        "word = 'hi'\n",
        "for number in range(len(word), 0, -1):\n",
        "  print(number)"
      ],
      "metadata": {
        "colab": {
          "base_uri": "https://localhost:8080/"
        },
        "id": "yYFJfMlp8fcM",
        "outputId": "4d599713-97b6-405f-efd0-6d7bae38b6e3"
      },
      "execution_count": null,
      "outputs": [
        {
          "output_type": "stream",
          "name": "stdout",
          "text": [
            "2\n",
            "1\n"
          ]
        }
      ]
    },
    {
      "cell_type": "code",
      "source": [
        "'''   4. Function to reverse a word for example 'team' becomes 'maet' '''\n",
        "\n",
        "def reverse_word_hard(word):\n",
        "  reverse = \"\"\n",
        "  for number in range(len(word)-1, -1, -1):\n",
        "    reverse += word[number]\n",
        "  return reverse\n",
        "\n",
        "def reverse_word_easy(word):\n",
        "  return word[::-1]\n",
        "\n",
        "print(reverse_word_hard(\"team\"))\n",
        "print(reverse_word_easy(\"team\"))"
      ],
      "metadata": {
        "colab": {
          "base_uri": "https://localhost:8080/"
        },
        "id": "65aNRV7z6pN6",
        "outputId": "faef25e6-6874-442d-cc17-ff3d97eacc16"
      },
      "execution_count": null,
      "outputs": [
        {
          "output_type": "stream",
          "name": "stdout",
          "text": [
            "maet\n",
            "maet\n"
          ]
        }
      ]
    },
    {
      "cell_type": "code",
      "source": [
        "'''  5. Function that will deliver the average of 2 values '''\n",
        "\n",
        "def average_2_nums(num1, num2):\n",
        "  return (num1 + num2) / 2\n",
        "\n",
        "print(average_2_nums(100, 98))\n",
        "print(average_2_nums(100, 50))"
      ],
      "metadata": {
        "colab": {
          "base_uri": "https://localhost:8080/"
        },
        "id": "E-q5ww1v9xsN",
        "outputId": "a94032f9-f012-479e-d2d5-205dbf01bca0"
      },
      "execution_count": null,
      "outputs": [
        {
          "output_type": "stream",
          "name": "stdout",
          "text": [
            "99.0\n",
            "75.0\n"
          ]
        }
      ]
    },
    {
      "cell_type": "code",
      "source": [
        "'''\n",
        " 6. Write a function that will loop through a string and print whether a character is or is not a vowel.\n",
        "'''\n",
        "\n",
        "def is_vowel(letter):\n",
        "  vowels = ['a','e','i','o','u']\n",
        "  if letter in vowels:\n",
        "    return True\n",
        "  else:\n",
        "    return False\n",
        "\n",
        "def check_word_for_vowels(word):\n",
        "  for letter in word:\n",
        "    print(f\"{letter}: {is_vowel(letter)}\")\n",
        "\n",
        "check_word_for_vowels(\"expialidocious\")\n"
      ],
      "metadata": {
        "colab": {
          "base_uri": "https://localhost:8080/"
        },
        "id": "lhF4T1F7B13t",
        "outputId": "15ff964a-547d-4ddb-f5e3-e8470aebde93"
      },
      "execution_count": null,
      "outputs": [
        {
          "output_type": "stream",
          "name": "stdout",
          "text": [
            "e: True\n",
            "x: False\n",
            "p: False\n",
            "i: True\n",
            "a: True\n",
            "l: False\n",
            "i: True\n",
            "d: False\n",
            "o: True\n",
            "c: False\n",
            "i: True\n",
            "o: True\n",
            "u: True\n",
            "s: False\n"
          ]
        }
      ]
    },
    {
      "cell_type": "code",
      "source": [
        "'''  7. Write a function that takes a list of these dictionary items. Return the first names from the list of dictionaries in a single list\n",
        "\n",
        "students = [{'name': 'Alice', 'age': 20}, {'name': 'Bob', 'age': 22}, {'name': 'Charlie', 'age': 21}]'''\n",
        "\n",
        "students = [\n",
        "  {\n",
        "    'name': \"Alice\",\n",
        "    'age': 20,\n",
        "  },\n",
        "  {\n",
        "    'name': \"Bob\",\n",
        "    'age': 22\n",
        "  },\n",
        "  {\n",
        "    'name': \"Charlie\",\n",
        "    'age': 21\n",
        "  }\n",
        "]\n",
        "\n",
        "def pull_names(dictionary):\n",
        "  names = []\n",
        "  for item in dictionary:\n",
        "    names.append(item['name'])\n",
        "  return names\n",
        "\n",
        "print(pull_names(students))\n"
      ],
      "metadata": {
        "colab": {
          "base_uri": "https://localhost:8080/"
        },
        "id": "mx0EGfbKFZ-S",
        "outputId": "70a5181a-d99c-42ac-82f1-d092306de7a1"
      },
      "execution_count": null,
      "outputs": [
        {
          "output_type": "stream",
          "name": "stdout",
          "text": [
            "['Alice', 'Bob', 'Charlie']\n"
          ]
        }
      ]
    },
    {
      "cell_type": "code",
      "source": [
        "''' Let's print from our functions'''\n",
        "\n",
        "''' 8.  Create a function that asks the user for their name and greets them back with a hello'''\n",
        "\n",
        "def welcome():\n",
        "  name = input(\"Enter your name: \")\n",
        "  print(f\"Hello {name}!\")\n",
        "\n",
        "welcome()\n",
        "\n",
        "''' If we print we return none'''\n",
        "print(welcome())"
      ],
      "metadata": {
        "colab": {
          "base_uri": "https://localhost:8080/"
        },
        "id": "Waow-AMfGSu5",
        "outputId": "3444b59b-a853-4040-f94d-ec38c481be7c"
      },
      "execution_count": null,
      "outputs": [
        {
          "output_type": "stream",
          "name": "stdout",
          "text": [
            "Enter your name: Pat\n",
            "Hello Pat!\n",
            "Enter your name: Pat\n",
            "Hello Pat!\n",
            "None\n"
          ]
        }
      ]
    },
    {
      "cell_type": "code",
      "source": [
        "''' 9.  Write a condition that takes a list of students grades, return a dictionary with the students names and grade averages\n",
        "\n",
        "students = [{'name': 'Alice', 'science':75, 'math':80, 'world history': 90},\\\n",
        "            {'name': 'Bob', 'science':50, 'math':65, 'world history': 88},\\\n",
        "            {'name': 'Charlie', 'science':100, 'math':75, 'world history': 70}]\n",
        "\n",
        "'''\n",
        "\n",
        "students = [{'name': 'Alice', 'science': 75, 'math': 80, 'world history': 90},\n",
        "            {'name': 'Bob', 'science': 50, 'math': 65, 'world history': 88},\n",
        "            {'name': 'Charlie', 'science': 100, 'math': 75, 'world history': 70}]\n",
        "\n",
        "\n",
        "def average_grades(student_list):\n",
        "  averages = {} # Initialize output dictionary\n",
        "  for student in student_list: # For every student in the given dictionary\n",
        "    # Lets calculate the sum of all the grades\n",
        "    sum = student['science'] + student['math'] + student['world history']\n",
        "    # Then we create a key value pair for our output dictionary\n",
        "    # The students name is the key\n",
        "    # The value is going to be the average of the students grades (sum/3)\n",
        "    name = student[\"name\"]\n",
        "    averages[name] = round((sum / 3), 2)\n",
        "  # Once the for loop is complete, return the output dictionary\n",
        "  return averages\n",
        "\n",
        "# Lets print the result using the students dictionary above\n",
        "print(average_grades(students))"
      ],
      "metadata": {
        "colab": {
          "base_uri": "https://localhost:8080/"
        },
        "id": "t0PWQ-zGGx5i",
        "outputId": "d83f4fa5-cc4b-439d-a57c-a120eff5f708"
      },
      "execution_count": 52,
      "outputs": [
        {
          "output_type": "stream",
          "name": "stdout",
          "text": [
            "{'Alice': 81.67, 'Bob': 67.67, 'Charlie': 81.67}\n"
          ]
        }
      ]
    },
    {
      "cell_type": "code",
      "source": [
        "'''\n",
        "\n",
        "10.\n",
        "Suppose you work for a bank, and you have a list of transactions with the following information for each one: customer ID, transaction amount, and transaction type (deposit or withdrawal).\n",
        "Write a function that takes in the list of customer transactions and returns a dictionary where the keys are the customer IDs and the values are the total transaction amounts for each customer.\n",
        "Example:\n",
        "\n",
        "transactions = [{'id': 'a', 'amount': 500, 'type': 'deposit'},\\\n",
        "                {'id': 'b', 'amount': 350, 'type': 'deposit'},\\\n",
        "                {'id': 'a', 'amount': 450, 'type': 'withdrawal'}]\n",
        "     Output: {'a': 50, 'b': 350}\n",
        "'''\n",
        "\n",
        "transactions = [{'id': 'a', 'amount': 500, 'type': 'deposit'},\n",
        "                {'id': 'b', 'amount': 1350, 'type': 'deposit'},\n",
        "                {'id': 'a', 'amount': 450, 'type': 'withdrawal'},\n",
        "                {'id': 'a', 'amount': 1000, 'type': 'deposit'},\n",
        "                {'id': 'a', 'amount': 75, 'type': 'deposit'},\n",
        "                {'id': 'a', 'amount': 60, 'type': 'deposit'},\n",
        "                {'id': 'b', 'amount': 13, 'type': 'withdrawal'}]\n",
        "\n",
        "def total_transactions(transaction_list):\n",
        "  totals = {} # Initialize the dictionary that will be the output of the function\n",
        "  ids = [] # Initialize the list that we are going to store the ids we've set before so we know whether to define or add to the key value pair of the corresponding id.\n",
        "  for transaction in transaction_list: # For every transaction dictionary in the given list argument\n",
        "    # If the transaction id is not one we've seen before...\n",
        "    if transaction['id'] not in ids:\n",
        "      # Create the key value pair in the output dictionary\n",
        "      totals[transaction[\"id\"]] = transaction['amount']\n",
        "      # Also add the id to the list of ids so that the next time we see this id we add the transaction to the value\n",
        "      ids.append(transaction['id'])\n",
        "    else: # If the transaction id is one of the ones we've seen before (in the 'ids' list)\n",
        "      # Now we check if it is a deposit (+) or withdrawl (-)\n",
        "      if transaction['type'] == 'deposit':\n",
        "        # add the transaction amount to the already defined transaction id\n",
        "        totals[transaction[\"id\"]] += transaction['amount']\n",
        "      elif transaction['type'] == 'withdrawal':\n",
        "        # subtract the transaction amount to the already defined transaction id\n",
        "        totals[transaction[\"id\"]] -= transaction['amount']\n",
        "  # Once the for loop is complete, return the output dictionary\n",
        "  return totals\n",
        "\n",
        "# Lets print the result using the students dictionary above\n",
        "print(total_transactions(transactions))\n"
      ],
      "metadata": {
        "colab": {
          "base_uri": "https://localhost:8080/"
        },
        "id": "cQ_tVku9Idd8",
        "outputId": "f25852f9-aa0a-4fa9-d116-86ab0a273f82"
      },
      "execution_count": 54,
      "outputs": [
        {
          "output_type": "stream",
          "name": "stdout",
          "text": [
            "{'a': 1185, 'b': 1337}\n"
          ]
        }
      ]
    },
    {
      "cell_type": "code",
      "source": [
        "def total_transactions(transaction_list):\n",
        "  totals = {} # Initialize the dictionary that will be the output of the function\n",
        "  ids = [] # Initialize the list that we are going to store the ids we've set before so we know whether to define or add to the key value pair of the corresponding id.\n",
        "  for transaction in transaction_list: # For every transaction dictionary in the given list argument\n",
        "    if transaction['type'] == 'withdrawal':\n",
        "      transaction['amount'] *= -1\n",
        "    # If the transaction id is not one we've seen before...\n",
        "    if transaction['id'] not in ids:\n",
        "      # Create the key value pair in the output dictionary\n",
        "      totals[transaction[\"id\"]] = transaction['amount']\n",
        "      # Also add the id to the list of ids so that the next time we see this id we add the transaction to the value\n",
        "      ids.append(transaction['id'])\n",
        "    else: # If the transaction id is one of the ones we've seen before (in the 'ids' list)\n",
        "      # add the transaction amount to the already defined transaction id\n",
        "      totals[transaction[\"id\"]] += transaction['amount']\n",
        "  # Once the for loop is complete, return the output dictionary\n",
        "  return totals\n",
        "\n",
        "# Lets print the result using the students dictionary above\n",
        "print(total_transactions(transactions))"
      ],
      "metadata": {
        "colab": {
          "base_uri": "https://localhost:8080/"
        },
        "id": "wFFu05nKVJEE",
        "outputId": "bc6ada65-232c-4bc0-d5f2-1cde47f7c313"
      },
      "execution_count": 55,
      "outputs": [
        {
          "output_type": "stream",
          "name": "stdout",
          "text": [
            "{'a': 1185, 'b': 1337}\n"
          ]
        }
      ]
    }
  ]
}